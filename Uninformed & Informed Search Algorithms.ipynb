{
 "cells": [
  {
   "cell_type": "code",
   "execution_count": 435,
   "id": "4795d769",
   "metadata": {},
   "outputs": [
    {
     "data": {
      "text/html": [
       "\n",
       "    <div class=\"bk-root\">\n",
       "        <a href=\"https://bokeh.org\" target=\"_blank\" class=\"bk-logo bk-logo-small bk-logo-notebook\"></a>\n",
       "        <span id=\"1003\">Loading BokehJS ...</span>\n",
       "    </div>"
      ]
     },
     "metadata": {},
     "output_type": "display_data"
    },
    {
     "data": {
      "application/javascript": [
       "\n",
       "(function(root) {\n",
       "  function now() {\n",
       "    return new Date();\n",
       "  }\n",
       "\n",
       "  const force = true;\n",
       "\n",
       "  if (typeof root._bokeh_onload_callbacks === \"undefined\" || force === true) {\n",
       "    root._bokeh_onload_callbacks = [];\n",
       "    root._bokeh_is_loading = undefined;\n",
       "  }\n",
       "\n",
       "  const JS_MIME_TYPE = 'application/javascript';\n",
       "  const HTML_MIME_TYPE = 'text/html';\n",
       "  const EXEC_MIME_TYPE = 'application/vnd.bokehjs_exec.v0+json';\n",
       "  const CLASS_NAME = 'output_bokeh rendered_html';\n",
       "\n",
       "  /**\n",
       "   * Render data to the DOM node\n",
       "   */\n",
       "  function render(props, node) {\n",
       "    const script = document.createElement(\"script\");\n",
       "    node.appendChild(script);\n",
       "  }\n",
       "\n",
       "  /**\n",
       "   * Handle when an output is cleared or removed\n",
       "   */\n",
       "  function handleClearOutput(event, handle) {\n",
       "    const cell = handle.cell;\n",
       "\n",
       "    const id = cell.output_area._bokeh_element_id;\n",
       "    const server_id = cell.output_area._bokeh_server_id;\n",
       "    // Clean up Bokeh references\n",
       "    if (id != null && id in Bokeh.index) {\n",
       "      Bokeh.index[id].model.document.clear();\n",
       "      delete Bokeh.index[id];\n",
       "    }\n",
       "\n",
       "    if (server_id !== undefined) {\n",
       "      // Clean up Bokeh references\n",
       "      const cmd_clean = \"from bokeh.io.state import curstate; print(curstate().uuid_to_server['\" + server_id + \"'].get_sessions()[0].document.roots[0]._id)\";\n",
       "      cell.notebook.kernel.execute(cmd_clean, {\n",
       "        iopub: {\n",
       "          output: function(msg) {\n",
       "            const id = msg.content.text.trim();\n",
       "            if (id in Bokeh.index) {\n",
       "              Bokeh.index[id].model.document.clear();\n",
       "              delete Bokeh.index[id];\n",
       "            }\n",
       "          }\n",
       "        }\n",
       "      });\n",
       "      // Destroy server and session\n",
       "      const cmd_destroy = \"import bokeh.io.notebook as ion; ion.destroy_server('\" + server_id + \"')\";\n",
       "      cell.notebook.kernel.execute(cmd_destroy);\n",
       "    }\n",
       "  }\n",
       "\n",
       "  /**\n",
       "   * Handle when a new output is added\n",
       "   */\n",
       "  function handleAddOutput(event, handle) {\n",
       "    const output_area = handle.output_area;\n",
       "    const output = handle.output;\n",
       "\n",
       "    // limit handleAddOutput to display_data with EXEC_MIME_TYPE content only\n",
       "    if ((output.output_type != \"display_data\") || (!Object.prototype.hasOwnProperty.call(output.data, EXEC_MIME_TYPE))) {\n",
       "      return\n",
       "    }\n",
       "\n",
       "    const toinsert = output_area.element.find(\".\" + CLASS_NAME.split(' ')[0]);\n",
       "\n",
       "    if (output.metadata[EXEC_MIME_TYPE][\"id\"] !== undefined) {\n",
       "      toinsert[toinsert.length - 1].firstChild.textContent = output.data[JS_MIME_TYPE];\n",
       "      // store reference to embed id on output_area\n",
       "      output_area._bokeh_element_id = output.metadata[EXEC_MIME_TYPE][\"id\"];\n",
       "    }\n",
       "    if (output.metadata[EXEC_MIME_TYPE][\"server_id\"] !== undefined) {\n",
       "      const bk_div = document.createElement(\"div\");\n",
       "      bk_div.innerHTML = output.data[HTML_MIME_TYPE];\n",
       "      const script_attrs = bk_div.children[0].attributes;\n",
       "      for (let i = 0; i < script_attrs.length; i++) {\n",
       "        toinsert[toinsert.length - 1].firstChild.setAttribute(script_attrs[i].name, script_attrs[i].value);\n",
       "        toinsert[toinsert.length - 1].firstChild.textContent = bk_div.children[0].textContent\n",
       "      }\n",
       "      // store reference to server id on output_area\n",
       "      output_area._bokeh_server_id = output.metadata[EXEC_MIME_TYPE][\"server_id\"];\n",
       "    }\n",
       "  }\n",
       "\n",
       "  function register_renderer(events, OutputArea) {\n",
       "\n",
       "    function append_mime(data, metadata, element) {\n",
       "      // create a DOM node to render to\n",
       "      const toinsert = this.create_output_subarea(\n",
       "        metadata,\n",
       "        CLASS_NAME,\n",
       "        EXEC_MIME_TYPE\n",
       "      );\n",
       "      this.keyboard_manager.register_events(toinsert);\n",
       "      // Render to node\n",
       "      const props = {data: data, metadata: metadata[EXEC_MIME_TYPE]};\n",
       "      render(props, toinsert[toinsert.length - 1]);\n",
       "      element.append(toinsert);\n",
       "      return toinsert\n",
       "    }\n",
       "\n",
       "    /* Handle when an output is cleared or removed */\n",
       "    events.on('clear_output.CodeCell', handleClearOutput);\n",
       "    events.on('delete.Cell', handleClearOutput);\n",
       "\n",
       "    /* Handle when a new output is added */\n",
       "    events.on('output_added.OutputArea', handleAddOutput);\n",
       "\n",
       "    /**\n",
       "     * Register the mime type and append_mime function with output_area\n",
       "     */\n",
       "    OutputArea.prototype.register_mime_type(EXEC_MIME_TYPE, append_mime, {\n",
       "      /* Is output safe? */\n",
       "      safe: true,\n",
       "      /* Index of renderer in `output_area.display_order` */\n",
       "      index: 0\n",
       "    });\n",
       "  }\n",
       "\n",
       "  // register the mime type if in Jupyter Notebook environment and previously unregistered\n",
       "  if (root.Jupyter !== undefined) {\n",
       "    const events = require('base/js/events');\n",
       "    const OutputArea = require('notebook/js/outputarea').OutputArea;\n",
       "\n",
       "    if (OutputArea.prototype.mime_types().indexOf(EXEC_MIME_TYPE) == -1) {\n",
       "      register_renderer(events, OutputArea);\n",
       "    }\n",
       "  }\n",
       "\n",
       "  \n",
       "  if (typeof (root._bokeh_timeout) === \"undefined\" || force === true) {\n",
       "    root._bokeh_timeout = Date.now() + 5000;\n",
       "    root._bokeh_failed_load = false;\n",
       "  }\n",
       "\n",
       "  const NB_LOAD_WARNING = {'data': {'text/html':\n",
       "     \"<div style='background-color: #fdd'>\\n\"+\n",
       "     \"<p>\\n\"+\n",
       "     \"BokehJS does not appear to have successfully loaded. If loading BokehJS from CDN, this \\n\"+\n",
       "     \"may be due to a slow or bad network connection. Possible fixes:\\n\"+\n",
       "     \"</p>\\n\"+\n",
       "     \"<ul>\\n\"+\n",
       "     \"<li>re-rerun `output_notebook()` to attempt to load from CDN again, or</li>\\n\"+\n",
       "     \"<li>use INLINE resources instead, as so:</li>\\n\"+\n",
       "     \"</ul>\\n\"+\n",
       "     \"<code>\\n\"+\n",
       "     \"from bokeh.resources import INLINE\\n\"+\n",
       "     \"output_notebook(resources=INLINE)\\n\"+\n",
       "     \"</code>\\n\"+\n",
       "     \"</div>\"}};\n",
       "\n",
       "  function display_loaded() {\n",
       "    const el = document.getElementById(\"1003\");\n",
       "    if (el != null) {\n",
       "      el.textContent = \"BokehJS is loading...\";\n",
       "    }\n",
       "    if (root.Bokeh !== undefined) {\n",
       "      if (el != null) {\n",
       "        el.textContent = \"BokehJS \" + root.Bokeh.version + \" successfully loaded.\";\n",
       "      }\n",
       "    } else if (Date.now() < root._bokeh_timeout) {\n",
       "      setTimeout(display_loaded, 100)\n",
       "    }\n",
       "  }\n",
       "\n",
       "\n",
       "  function run_callbacks() {\n",
       "    try {\n",
       "      root._bokeh_onload_callbacks.forEach(function(callback) {\n",
       "        if (callback != null)\n",
       "          callback();\n",
       "      });\n",
       "    } finally {\n",
       "      delete root._bokeh_onload_callbacks\n",
       "    }\n",
       "    console.debug(\"Bokeh: all callbacks have finished\");\n",
       "  }\n",
       "\n",
       "  function load_libs(css_urls, js_urls, callback) {\n",
       "    if (css_urls == null) css_urls = [];\n",
       "    if (js_urls == null) js_urls = [];\n",
       "\n",
       "    root._bokeh_onload_callbacks.push(callback);\n",
       "    if (root._bokeh_is_loading > 0) {\n",
       "      console.debug(\"Bokeh: BokehJS is being loaded, scheduling callback at\", now());\n",
       "      return null;\n",
       "    }\n",
       "    if (js_urls == null || js_urls.length === 0) {\n",
       "      run_callbacks();\n",
       "      return null;\n",
       "    }\n",
       "    console.debug(\"Bokeh: BokehJS not loaded, scheduling load and callback at\", now());\n",
       "    root._bokeh_is_loading = css_urls.length + js_urls.length;\n",
       "\n",
       "    function on_load() {\n",
       "      root._bokeh_is_loading--;\n",
       "      if (root._bokeh_is_loading === 0) {\n",
       "        console.debug(\"Bokeh: all BokehJS libraries/stylesheets loaded\");\n",
       "        run_callbacks()\n",
       "      }\n",
       "    }\n",
       "\n",
       "    function on_error(url) {\n",
       "      console.error(\"failed to load \" + url);\n",
       "    }\n",
       "\n",
       "    for (let i = 0; i < css_urls.length; i++) {\n",
       "      const url = css_urls[i];\n",
       "      const element = document.createElement(\"link\");\n",
       "      element.onload = on_load;\n",
       "      element.onerror = on_error.bind(null, url);\n",
       "      element.rel = \"stylesheet\";\n",
       "      element.type = \"text/css\";\n",
       "      element.href = url;\n",
       "      console.debug(\"Bokeh: injecting link tag for BokehJS stylesheet: \", url);\n",
       "      document.body.appendChild(element);\n",
       "    }\n",
       "\n",
       "    for (let i = 0; i < js_urls.length; i++) {\n",
       "      const url = js_urls[i];\n",
       "      const element = document.createElement('script');\n",
       "      element.onload = on_load;\n",
       "      element.onerror = on_error.bind(null, url);\n",
       "      element.async = false;\n",
       "      element.src = url;\n",
       "      console.debug(\"Bokeh: injecting script tag for BokehJS library: \", url);\n",
       "      document.head.appendChild(element);\n",
       "    }\n",
       "  };\n",
       "\n",
       "  function inject_raw_css(css) {\n",
       "    const element = document.createElement(\"style\");\n",
       "    element.appendChild(document.createTextNode(css));\n",
       "    document.body.appendChild(element);\n",
       "  }\n",
       "\n",
       "  \n",
       "  const js_urls = [\"https://cdn.bokeh.org/bokeh/release/bokeh-2.4.2.min.js\", \"https://cdn.bokeh.org/bokeh/release/bokeh-gl-2.4.2.min.js\", \"https://cdn.bokeh.org/bokeh/release/bokeh-widgets-2.4.2.min.js\", \"https://cdn.bokeh.org/bokeh/release/bokeh-tables-2.4.2.min.js\", \"https://cdn.bokeh.org/bokeh/release/bokeh-mathjax-2.4.2.min.js\"];\n",
       "  const css_urls = [];\n",
       "  \n",
       "\n",
       "  const inline_js = [\n",
       "    function(Bokeh) {\n",
       "      Bokeh.set_log_level(\"info\");\n",
       "    },\n",
       "    function(Bokeh) {\n",
       "    \n",
       "    \n",
       "    }\n",
       "  ];\n",
       "\n",
       "  function run_inline_js() {\n",
       "    \n",
       "    if (root.Bokeh !== undefined || force === true) {\n",
       "      \n",
       "    for (let i = 0; i < inline_js.length; i++) {\n",
       "      inline_js[i].call(root, root.Bokeh);\n",
       "    }\n",
       "    if (force === true) {\n",
       "        display_loaded();\n",
       "      }} else if (Date.now() < root._bokeh_timeout) {\n",
       "      setTimeout(run_inline_js, 100);\n",
       "    } else if (!root._bokeh_failed_load) {\n",
       "      console.log(\"Bokeh: BokehJS failed to load within specified timeout.\");\n",
       "      root._bokeh_failed_load = true;\n",
       "    } else if (force !== true) {\n",
       "      const cell = $(document.getElementById(\"1003\")).parents('.cell').data().cell;\n",
       "      cell.output_area.append_execute_result(NB_LOAD_WARNING)\n",
       "    }\n",
       "\n",
       "  }\n",
       "\n",
       "  if (root._bokeh_is_loading === 0) {\n",
       "    console.debug(\"Bokeh: BokehJS loaded, going straight to plotting\");\n",
       "    run_inline_js();\n",
       "  } else {\n",
       "    load_libs(css_urls, js_urls, function() {\n",
       "      console.debug(\"Bokeh: BokehJS plotting callback run at\", now());\n",
       "      run_inline_js();\n",
       "    });\n",
       "  }\n",
       "}(window));"
      ],
      "application/vnd.bokehjs_load.v0+json": "\n(function(root) {\n  function now() {\n    return new Date();\n  }\n\n  const force = true;\n\n  if (typeof root._bokeh_onload_callbacks === \"undefined\" || force === true) {\n    root._bokeh_onload_callbacks = [];\n    root._bokeh_is_loading = undefined;\n  }\n\n  \n\n  \n  if (typeof (root._bokeh_timeout) === \"undefined\" || force === true) {\n    root._bokeh_timeout = Date.now() + 5000;\n    root._bokeh_failed_load = false;\n  }\n\n  const NB_LOAD_WARNING = {'data': {'text/html':\n     \"<div style='background-color: #fdd'>\\n\"+\n     \"<p>\\n\"+\n     \"BokehJS does not appear to have successfully loaded. If loading BokehJS from CDN, this \\n\"+\n     \"may be due to a slow or bad network connection. Possible fixes:\\n\"+\n     \"</p>\\n\"+\n     \"<ul>\\n\"+\n     \"<li>re-rerun `output_notebook()` to attempt to load from CDN again, or</li>\\n\"+\n     \"<li>use INLINE resources instead, as so:</li>\\n\"+\n     \"</ul>\\n\"+\n     \"<code>\\n\"+\n     \"from bokeh.resources import INLINE\\n\"+\n     \"output_notebook(resources=INLINE)\\n\"+\n     \"</code>\\n\"+\n     \"</div>\"}};\n\n  function display_loaded() {\n    const el = document.getElementById(\"1003\");\n    if (el != null) {\n      el.textContent = \"BokehJS is loading...\";\n    }\n    if (root.Bokeh !== undefined) {\n      if (el != null) {\n        el.textContent = \"BokehJS \" + root.Bokeh.version + \" successfully loaded.\";\n      }\n    } else if (Date.now() < root._bokeh_timeout) {\n      setTimeout(display_loaded, 100)\n    }\n  }\n\n\n  function run_callbacks() {\n    try {\n      root._bokeh_onload_callbacks.forEach(function(callback) {\n        if (callback != null)\n          callback();\n      });\n    } finally {\n      delete root._bokeh_onload_callbacks\n    }\n    console.debug(\"Bokeh: all callbacks have finished\");\n  }\n\n  function load_libs(css_urls, js_urls, callback) {\n    if (css_urls == null) css_urls = [];\n    if (js_urls == null) js_urls = [];\n\n    root._bokeh_onload_callbacks.push(callback);\n    if (root._bokeh_is_loading > 0) {\n      console.debug(\"Bokeh: BokehJS is being loaded, scheduling callback at\", now());\n      return null;\n    }\n    if (js_urls == null || js_urls.length === 0) {\n      run_callbacks();\n      return null;\n    }\n    console.debug(\"Bokeh: BokehJS not loaded, scheduling load and callback at\", now());\n    root._bokeh_is_loading = css_urls.length + js_urls.length;\n\n    function on_load() {\n      root._bokeh_is_loading--;\n      if (root._bokeh_is_loading === 0) {\n        console.debug(\"Bokeh: all BokehJS libraries/stylesheets loaded\");\n        run_callbacks()\n      }\n    }\n\n    function on_error(url) {\n      console.error(\"failed to load \" + url);\n    }\n\n    for (let i = 0; i < css_urls.length; i++) {\n      const url = css_urls[i];\n      const element = document.createElement(\"link\");\n      element.onload = on_load;\n      element.onerror = on_error.bind(null, url);\n      element.rel = \"stylesheet\";\n      element.type = \"text/css\";\n      element.href = url;\n      console.debug(\"Bokeh: injecting link tag for BokehJS stylesheet: \", url);\n      document.body.appendChild(element);\n    }\n\n    for (let i = 0; i < js_urls.length; i++) {\n      const url = js_urls[i];\n      const element = document.createElement('script');\n      element.onload = on_load;\n      element.onerror = on_error.bind(null, url);\n      element.async = false;\n      element.src = url;\n      console.debug(\"Bokeh: injecting script tag for BokehJS library: \", url);\n      document.head.appendChild(element);\n    }\n  };\n\n  function inject_raw_css(css) {\n    const element = document.createElement(\"style\");\n    element.appendChild(document.createTextNode(css));\n    document.body.appendChild(element);\n  }\n\n  \n  const js_urls = [\"https://cdn.bokeh.org/bokeh/release/bokeh-2.4.2.min.js\", \"https://cdn.bokeh.org/bokeh/release/bokeh-gl-2.4.2.min.js\", \"https://cdn.bokeh.org/bokeh/release/bokeh-widgets-2.4.2.min.js\", \"https://cdn.bokeh.org/bokeh/release/bokeh-tables-2.4.2.min.js\", \"https://cdn.bokeh.org/bokeh/release/bokeh-mathjax-2.4.2.min.js\"];\n  const css_urls = [];\n  \n\n  const inline_js = [\n    function(Bokeh) {\n      Bokeh.set_log_level(\"info\");\n    },\n    function(Bokeh) {\n    \n    \n    }\n  ];\n\n  function run_inline_js() {\n    \n    if (root.Bokeh !== undefined || force === true) {\n      \n    for (let i = 0; i < inline_js.length; i++) {\n      inline_js[i].call(root, root.Bokeh);\n    }\n    if (force === true) {\n        display_loaded();\n      }} else if (Date.now() < root._bokeh_timeout) {\n      setTimeout(run_inline_js, 100);\n    } else if (!root._bokeh_failed_load) {\n      console.log(\"Bokeh: BokehJS failed to load within specified timeout.\");\n      root._bokeh_failed_load = true;\n    } else if (force !== true) {\n      const cell = $(document.getElementById(\"1003\")).parents('.cell').data().cell;\n      cell.output_area.append_execute_result(NB_LOAD_WARNING)\n    }\n\n  }\n\n  if (root._bokeh_is_loading === 0) {\n    console.debug(\"Bokeh: BokehJS loaded, going straight to plotting\");\n    run_inline_js();\n  } else {\n    load_libs(css_urls, js_urls, function() {\n      console.debug(\"Bokeh: BokehJS plotting callback run at\", now());\n      run_inline_js();\n    });\n  }\n}(window));"
     },
     "metadata": {},
     "output_type": "display_data"
    }
   ],
   "source": [
    "import heapq\n",
    "import os\n",
    "import pickle\n",
    "import math\n",
    "import unittest\n",
    "import random\n",
    "import matplotlib.pyplot as plt\n",
    "import itertools\n",
    "\n",
    "from networkx import Graph\n",
    "import networkx as nx\n",
    "\n",
    "import plotly.express as px\n",
    "import plotly.graph_objects as go\n",
    "\n",
    "output_notebook()"
   ]
  },
  {
   "cell_type": "code",
   "execution_count": 2,
   "id": "dfa69844",
   "metadata": {},
   "outputs": [
    {
     "name": "stdout",
     "output_type": "stream",
     "text": [
      "Uninformed & Informed Search Algorithms.ipynb\r\n",
      "atlanta_osm.pickle\r\n",
      "bfs.py\r\n",
      "\u001b[31mromania_graph.pickle\u001b[m\u001b[m*\r\n"
     ]
    }
   ],
   "source": [
    "ls"
   ]
  },
  {
   "cell_type": "markdown",
   "id": "4f179509",
   "metadata": {},
   "source": [
    "# Priority Queue Implementation\n",
    "\n",
    "Before diving into implementing our uninformed and informed search algorithms, we need to implement a priority queue to handle the implementation details. For simplicity, we can use Python Lists and Heap objects in order to handle the internals"
   ]
  },
  {
   "cell_type": "code",
   "execution_count": 3,
   "id": "d1660ffc",
   "metadata": {},
   "outputs": [],
   "source": [
    "class PriorityQueue(object):\n",
    "    \"\"\"\n",
    "    A queue structure where each element is served in order of priority.\n",
    "\n",
    "    Elements in the queue are popped based on the priority with higher priority\n",
    "    elements being served before lower priority elements.  If two elements have\n",
    "    the same priority, they will be served in the order they were added to the\n",
    "    queue.\n",
    "\n",
    "    Traditionally priority queues are implemented with heaps, but there are any\n",
    "    number of implementation options.\n",
    "\n",
    "    (Hint: take a look at the module heapq)\n",
    "\n",
    "    Attributes:\n",
    "        queue (list): Nodes added to the priority queue.\n",
    "    \"\"\"\n",
    "\n",
    "    def __init__(self):\n",
    "        \"\"\"Initialize a new Priority Queue.\"\"\"\n",
    "\n",
    "        self.queue = []\n",
    "        self.entry_lookup = {}\n",
    "        self.entry_count = 0\n",
    "\n",
    "        # placeholder for removed tasks\n",
    "        self.removed = \"REMOVED\"\n",
    "\n",
    "    def pop(self):\n",
    "        \"\"\"\n",
    "        Pop top priority node from queue.\n",
    "\n",
    "        Returns:\n",
    "            The node with the highest priority.\n",
    "        \"\"\"\n",
    "        # Check if queue is empty. If not, pop the first item in the PriorityQueue\n",
    "        if self.size() > 0:\n",
    "            node = heapq.heappop(self.queue)\n",
    "            \n",
    "            if len(node) == 3:            \n",
    "                # Delete the reference to the node from the entry_lookup dictionary/table\n",
    "                if node[1] in self.entry_lookup:\n",
    "                    del self.entry_lookup[node[1]]\n",
    "                    return (node[0], node[-1])\n",
    "\n",
    "            elif len(node) == 4:\n",
    "                if node[2] in self.entry_lookup:\n",
    "                    del self.entry_lookup[node[2]]\n",
    "                    return (node[0], node[1], node[-1])\n",
    "            else:\n",
    "                raise NotImplementedError\n",
    "\n",
    "        return None\n",
    "\n",
    "    def remove(self, node):\n",
    "        \"\"\"\n",
    "        Remove a node from the queue.\n",
    "\n",
    "        Hint: You might require this in ucs. However, you may\n",
    "        choose not to use it or to define your own method.\n",
    "\n",
    "        Args:\n",
    "            node (tuple): The node to remove from the queue.\n",
    "        \"\"\"\n",
    "#         # Handle Node properties\n",
    "#         if len(node) > 3:\n",
    "#             raise NotImplementedError\n",
    "        \n",
    "        # Removed the node from the queue and mark it as removed \n",
    "        #from the entry_lookup table\n",
    "        # Referenced from: https://docs.python.org/3/library/heapq.html#priority-queue-implementation-notes\n",
    "        self.queue.remove(node)\n",
    "\n",
    "        # Remove the reference to the node\n",
    "        entry_val = node[1]\n",
    "        self.entry_lookup[entry_val] = self.removed\n",
    "        \n",
    "        # After changing the order of the heap, need to call heapify again\n",
    "        # https://stackoverflow.com/questions/36876645/unusual-result-from-heappop\n",
    "        heapq.heapify(self.queue)\n",
    "\n",
    "    def __iter__(self):\n",
    "        \"\"\"Queue iterator.\"\"\"\n",
    "\n",
    "        return iter(sorted(self.queue))\n",
    "\n",
    "    def __str__(self):\n",
    "        \"\"\"Priority Queue to string.\"\"\"\n",
    "\n",
    "        return \"PQ:%s\" % self.queue\n",
    "\n",
    "    def append(self, node):\n",
    "        \"\"\"\n",
    "        Append a node to the queue.\n",
    "\n",
    "        Args:\n",
    "            node: Comparable Object to be added to the priority queue.\n",
    "        \"\"\"\n",
    "        # Only handle nodes of length 2 --> (priority, node value)\n",
    "        if len(node) == 2:\n",
    "            # Adding entry count to tuple/node for sorting stability\n",
    "            # when priorities are the same\n",
    "            # Referenced here: https://docs.python.org/3/library/heapq.html#priority-queue-implementation-notes\n",
    "            entry = (node[0], self.entry_count, node[1])\n",
    "            \n",
    "        elif len(node) == 3:\n",
    "            entry = (node[0], node[1], self.entry_count, node[2])\n",
    "        \n",
    "        elif len(node) > 3:\n",
    "            raise NotImplementedError\n",
    "            \n",
    "        # Store the Lookup ID for the Node as the Nth entry in the PriorityQueue due to possible\n",
    "        # duplicate node values being entered\n",
    "        self.entry_lookup[self.entry_count] = node[1]\n",
    "        self.entry_count += 1\n",
    "\n",
    "        heapq.heappush(self.queue, entry)\n",
    "        return self.queue\n",
    "\n",
    "    def __contains__(self, key):\n",
    "        \"\"\"\n",
    "        Containment Check operator for 'in'\n",
    "\n",
    "        Args:\n",
    "            key: The key to check for in the queue.\n",
    "\n",
    "        Returns:\n",
    "            True if key is found in queue, False otherwise.\n",
    "        \"\"\"\n",
    "\n",
    "        return key in [n[-1] for n in self.queue]\n",
    "\n",
    "    def __eq__(self, other):\n",
    "        \"\"\"\n",
    "        Compare this Priority Queue with another Priority Queue.\n",
    "\n",
    "        Args:\n",
    "            other (PriorityQueue): Priority Queue to compare against.\n",
    "\n",
    "        Returns:\n",
    "            True if the two priority queues are equivalent.\n",
    "        \"\"\"\n",
    "\n",
    "        return self.queue == other.queue\n",
    "\n",
    "    def size(self):\n",
    "        \"\"\"\n",
    "        Get the current size of the queue.\n",
    "\n",
    "        Returns:\n",
    "            Integer of number of items in queue.\n",
    "        \"\"\"\n",
    "\n",
    "        return len(self.queue)\n",
    "\n",
    "    def clear(self):\n",
    "        \"\"\"Reset queue to empty (no nodes).\"\"\"\n",
    "\n",
    "        self.queue = []\n",
    "\n",
    "    def top(self):\n",
    "        \"\"\"\n",
    "        Get the top item in the queue.\n",
    "\n",
    "        Returns:\n",
    "            The first item stored in the queue.\n",
    "        \"\"\"\n",
    "\n",
    "        return self.queue[0]\n",
    "            \n",
    "\n",
    "###################################### Test Priority Queue Implementation ###########################################\n",
    "class TestPriorityQueue(unittest.TestCase):\n",
    "    \"\"\"Test Priority Queue implementation\"\"\"\n",
    "\n",
    "    def test_append_and_pop(self):\n",
    "        \"\"\"Test the append and pop functions\"\"\"\n",
    "        queue = PriorityQueue()\n",
    "        temp_list = []\n",
    "\n",
    "        for _ in range(10):\n",
    "            a = random.randint(0, 10000)\n",
    "            queue.append((a, 'a'))\n",
    "            temp_list.append(a)\n",
    "\n",
    "        temp_list = sorted(temp_list)\n",
    "\n",
    "        for item in temp_list:\n",
    "            popped = queue.pop()\n",
    "            self.assertEqual(popped[0], item)\n",
    "\n",
    "    def test_fifo_property(self):\n",
    "        \"Test the fifo property for nodes with same priority\"\n",
    "        queue = PriorityQueue()\n",
    "        temp_list = [(1,'b'), (1, 'c'), (1, 'a')]\n",
    "\n",
    "        for node in temp_list:\n",
    "            queue.append(node)\n",
    "        \n",
    "        for expected_node in temp_list:\n",
    "            actual_node = queue.pop()\n",
    "            self.assertEqual(actual_node[-1], expected_node[-1])\n",
    "            \n",
    "    \n",
    "    def test_duplicate_entries(self):\n",
    "        queue = PriorityQueue()\n",
    "        temp_list = [(1,'b'), (1, 'c'), (1, 'a'), (2, 'd'), (3, 'b')]\n",
    "        \n",
    "        for node in temp_list:\n",
    "            queue.append(node)\n",
    "        \n",
    "        dupe_list = [(1,'b'), (1, 'c')]\n",
    "        for node in dupe_list:\n",
    "            queue.append(node)\n",
    "            \n",
    "        expected_queue = [\n",
    "            (1, 0, 'b'), \n",
    "            (1, 1, 'c'), \n",
    "            (1, 2, 'a'), \n",
    "            (2, 3, 'd'), \n",
    "            (3, 4, 'b'), \n",
    "            (1, 5, 'b'), \n",
    "            (1, 6, 'c')\n",
    "        ]\n",
    "        \n",
    "        self.assertEqual(queue.queue, expected_queue)\n",
    "        \n",
    "\n",
    "    def test_remove(self):\n",
    "        queue = PriorityQueue()\n",
    "        #              0          1         2         3         4\n",
    "        temp_list = [(1, 'b'), (1, 'c'), (1, 'a'), (2, 'd'), (3, 'b')]\n",
    "        \n",
    "        for node in temp_list:\n",
    "            queue.append(node)\n",
    "        \n",
    "        dupe_list = [(1,'b'), (1, 'c')]\n",
    "        for node in dupe_list:\n",
    "            queue.append(node)\n",
    "            \n",
    "        to_remove_list = [(2, 3, 'd'), (1, 1, 'c')]\n",
    "        for node in to_remove_list:\n",
    "            queue.remove(node)\n",
    "            \n",
    "            \n",
    "TestPriorityQueue().test_append_and_pop()\n",
    "TestPriorityQueue().test_fifo_property()\n",
    "TestPriorityQueue().test_duplicate_entries()\n",
    "TestPriorityQueue().test_remove()"
   ]
  },
  {
   "cell_type": "code",
   "execution_count": 417,
   "id": "ac57e1d8",
   "metadata": {},
   "outputs": [],
   "source": [
    "class ExplorableGraph(object):\n",
    "    \"\"\"\n",
    "    Keeps track of \"explored nodes\" i.e. nodes that have been queried from the\n",
    "    graph.\n",
    "\n",
    "    Delegates graph operations to a networkx.Graph\n",
    "    \"\"\"\n",
    "\n",
    "    def __init__(self, graph):\n",
    "        \"\"\"\n",
    "        :type graph: Graph\n",
    "        \"\"\"\n",
    "        self.__graph = graph\n",
    "#         self.__graph = nx.relabel_nodes(self.__graph, new_labels)\n",
    "        self._explored_nodes = dict([(node, 0) for node in self.__graph.nodes()])\n",
    "\n",
    "    def explored_nodes(self):\n",
    "        return self._explored_nodes\n",
    "\n",
    "    def __getattr__(self, item):\n",
    "        return getattr(self.__graph, item)\n",
    "\n",
    "    def reset_search(self):\n",
    "        self._explored_nodes = dict([(node, 0) for node in self.__graph.nodes()])\n",
    "\n",
    "    def __iter__(self):\n",
    "        return self.__graph.__iter__()\n",
    "\n",
    "    def __getitem__(self, n):\n",
    "        #self._explored_nodes |= {n}\n",
    "        if n in self.__graph.nodes():\n",
    "            self._explored_nodes[n] += 1\n",
    "        return self.__graph.__getitem__(n)\n",
    "\n",
    "    def nodes_iter(self, data=False):\n",
    "        self._explored_nodes = set(self.__graph.nodes_iter())\n",
    "        return self.__graph.nodes_iter(data)\n",
    "\n",
    "    def neighbors(self, n):\n",
    "        if n in self.__graph.nodes():\n",
    "            self._explored_nodes[n] += 1\n",
    "        return self.__graph.neighbors(n)\n",
    "    \n",
    "    def get_edge_weight(self, u, v):\n",
    "        return self.__graph.get_edge_data(u, v)['weight']\n",
    "    \n",
    "#     def _relabel_nodes(self, new_labels):\n",
    "#         graph = nx.relabel_nodes(self.__graph, new_labels)\n",
    "#         self.__graph = graph\n"
   ]
  },
  {
   "cell_type": "code",
   "execution_count": 418,
   "id": "7f362976",
   "metadata": {},
   "outputs": [],
   "source": [
    "romania_cities = dict(\n",
    "    Arad=dict(Zerind=75, Sibiu=140, Timisoara=118),\n",
    "    Bucharest=dict(Urziceni=85, Pitesti=101, Giurgiu=90, Fagaras=211),\n",
    "    Craiova=dict(Drobeta=120, Rimnicu=146, Pitesti=138),\n",
    "    Drobeta=dict(Mehadia=75),\n",
    "    Eforie=dict(Hirsova=86),\n",
    "    Fagaras=dict(Sibiu=99),\n",
    "    Hirsova=dict(Urziceni=98),\n",
    "    Iasi=dict(Vaslui=92, Neamt=87),\n",
    "    Lugoj=dict(Timisoara=111, Mehadia=70),\n",
    "    Oradea=dict(Zerind=71, Sibiu=151),\n",
    "    Pitesti=dict(Rimnicu=97),\n",
    "    Rimnicu=dict(Sibiu=80),\n",
    "    Urziceni=dict(Vaslui=142)\n",
    ")\n",
    "\n",
    "romania_map_locations = dict(\n",
    "    Arad=(91, 492), Bucharest=(400, 327), Craiova=(253, 288),\n",
    "    Drobeta=(165, 299), Eforie=(562, 293), Fagaras=(305, 449),\n",
    "    Giurgiu=(375, 270), Hirsova=(534, 350), Iasi=(473, 506),\n",
    "    Lugoj=(165, 379), Mehadia=(168, 339), Neamt=(406, 537),\n",
    "    Oradea=(131, 571), Pitesti=(320, 368), Rimnicu=(233, 410),\n",
    "    Sibiu=(207, 457), Timisoara=(94, 410), Urziceni=(456, 350),\n",
    "    Vaslui=(509, 444), Zerind=(108, 531))\n",
    "\n",
    "city_mapping = {\n",
    "    \"a\": \"Arad\",\n",
    "    \"b\": \"Bucharest\",\n",
    "    \"c\": \"Craiova\",\n",
    "    \"d\": \"Drobeta\",\n",
    "    \"e\": \"Eforie\",\n",
    "    \"f\": \"Fagaras\",\n",
    "    \"g\": \"Giurgiu\",\n",
    "    \"h\": \"Hirsova\",\n",
    "    \"i\": \"Iasi\",\n",
    "    \"l\": \"Lugoj\",\n",
    "    \"m\": \"Mehadia\",\n",
    "    \"n\": \"Neamt\",\n",
    "    \"o\": \"Oradea\",\n",
    "    \"p\": \"Pitesti\",\n",
    "    \"r\": \"Rimnicu\",\n",
    "    \"s\": \"Sibiu\",\n",
    "    \"t\": \"Timisoara\",\n",
    "    \"u\": \"Urziceni\",\n",
    "    \"v\": \"Vaslui\",\n",
    "    \"z\": \"Zerind\",\n",
    "}\n",
    "\n",
    "for k, d in romania_cities.items():\n",
    "#     print(k, d)\n",
    "    for ik in d:\n",
    "        d[ik] = {'weight': d[ik]}\n",
    "\n",
    "# nx.Graph(romania_cities)"
   ]
  },
  {
   "cell_type": "markdown",
   "id": "0ccbc063",
   "metadata": {},
   "source": [
    "# Graph Setup using Networkx"
   ]
  },
  {
   "cell_type": "code",
   "execution_count": 443,
   "id": "77284acc",
   "metadata": {},
   "outputs": [
    {
     "data": {
      "text/plain": [
       "NodeView(('a', 'z', 's', 't', 'b', 'u', 'p', 'g', 'f', 'c', 'd', 'r', 'm', 'e', 'h', 'i', 'v', 'n', 'l', 'o'))"
      ]
     },
     "execution_count": 443,
     "metadata": {},
     "output_type": "execute_result"
    }
   ],
   "source": [
    "with (open(\"romania_graph.pickle\", \"rb\")) as romania_file:\n",
    "    romania = pickle.load(romania_file)\n",
    "\n",
    "graph = ExplorableGraph(romania)\n",
    "# graph._relabel_nodes()\n",
    "graph.number_of_nodes()\n",
    "graph.nodes()\n",
    "\n",
    "# graph.get_edge_weight(\"Arad\", \"Zerind\")\n",
    "\n",
    "# G = nx.Graph(romania_cities)\n",
    "# nx.set_node_attributes(G, romania_map_locations, 'pos')\n",
    "\n",
    "# for (u, v, wt) in G.edges.data('weight'):\n",
    "#     print(u,v,wt)"
   ]
  },
  {
   "cell_type": "code",
   "execution_count": 442,
   "id": "f63add8b",
   "metadata": {},
   "outputs": [],
   "source": [
    "def create_network_map(graph, start, goal, path, heuristic=None):\n",
    "    \"\"\" Create Plotly network graph highlighting the chosen route from Start to Goal\n",
    "    \n",
    "    Params:\n",
    "        graph:\n",
    "        start:\n",
    "        goal:\n",
    "        search_alg:\n",
    "        heuristic:\n",
    "    \"\"\"\n",
    "    graph_colors = px.colors.qualitative.Plotly\n",
    "\n",
    "    START_COLOUR = graph_colors[4]\n",
    "    GOAL_COLOUR = graph_colors[1]\n",
    "    PATH_COLOUR = graph_colors[2]\n",
    "    DEFAULT_COLOUR = graph_colors[0]\n",
    "\n",
    "    # Capture edge relationships\n",
    "    edge_x = []\n",
    "    edge_y = []\n",
    "    edge_text = []\n",
    "    weights = []\n",
    "    for edge in G.edges():\n",
    "        x0, y0 = G.nodes[edge[0]]['pos']\n",
    "        x1, y1 = G.nodes[edge[1]]['pos']\n",
    "        edge_x.append(x0)\n",
    "        edge_x.append(x1)\n",
    "        edge_x.append(None)\n",
    "        edge_y.append(y0)\n",
    "        edge_y.append(y1)\n",
    "        edge_y.append(None)\n",
    "\n",
    "    #Create edge trace with defined properties\n",
    "        \n",
    "    edge_trace = go.Scatter(\n",
    "        x = edge_x, \n",
    "        y = edge_y,\n",
    "        line = dict(\n",
    "            width=0.5, \n",
    "            color='#888'\n",
    "        ),\n",
    "        hoverinfo='text',\n",
    "        mode='lines',\n",
    "        text=[]\n",
    "    )\n",
    "\n",
    "    node_x = []\n",
    "    node_y = []\n",
    "    node_text = []\n",
    "    for node in G.nodes():\n",
    "        x, y = G.nodes[node]['pos']\n",
    "        node_x.append(x)\n",
    "        node_y.append(y)\n",
    "        node_text.append(node)\n",
    "\n",
    "\n",
    "    node_trace = go.Scatter(\n",
    "        x = node_x, \n",
    "        y = node_y,\n",
    "        text = [],\n",
    "        mode = 'markers',\n",
    "        hoverinfo = 'text',\n",
    "        marker = dict(\n",
    "            showscale=False,\n",
    "            color = [\"skyblue\"] * len(node_x),\n",
    "            size = 10,\n",
    "            line_width = 2\n",
    "        )\n",
    "    )\n",
    "\n",
    "    # NOW : creating the annotations, that will display the node name on the figure\n",
    "    annotations = []\n",
    "    edge_annotations = []\n",
    "\n",
    "    # hover text and color group\n",
    "    for node in G.nodes:\n",
    "        x_pos, y_pos = G.nodes[node][\"pos\"]\n",
    "\n",
    "        node_info = f\"Distance to Goal: 500\"\n",
    "\n",
    "        node_trace['text'] += tuple([node_info])\n",
    "\n",
    "        # THERE : Annotations is a list of dictionaries with every needed parameter for each node annotation\n",
    "        annotations.append(\n",
    "            dict(\n",
    "                x=x_pos + 8,\n",
    "                y=y_pos + 5,\n",
    "                text=node, # node name that will be displayed\n",
    "                xanchor='right',\n",
    "                yanchor=\"bottom\",\n",
    "                xshift=10,\n",
    "                font=dict(color='black', size=10),\n",
    "                showarrow=False, arrowhead=1, ax=-10, ay=-10)\n",
    "            )\n",
    "        \n",
    "    for edge in G.edges:\n",
    "        weight = G.get_edge_data(edge[0], edge[1])[\"weight\"]\n",
    "        edge_trace['text'] += tuple([weight])\n",
    "        \n",
    "        x0, y0 = G.nodes[edge[0]]['pos']\n",
    "        x1, y1 = G.nodes[edge[1]]['pos']\n",
    "        \n",
    "        annotations.append(\n",
    "            dict(\n",
    "                x=(x1 + x0) / 2,\n",
    "                y=(y1 + y0) / 2,\n",
    "                text=weight, # node name that will be displayed\n",
    "                xanchor='right',\n",
    "                yanchor=\"bottom\",\n",
    "                xshift=30,\n",
    "                font=dict(color='black', size=10),\n",
    "                showarrow=False, arrowhead=1, ax=-10, ay=-10)\n",
    "            )\n",
    "    # Color Node Points in plotly\n",
    "    colors = []\n",
    "    for node in G.nodes():\n",
    "        color = DEFAULT_COLOUR  #default\n",
    "        if path and node in path:\n",
    "            color = PATH_COLOUR\n",
    "        if node == start:\n",
    "            color = START_COLOUR\n",
    "        elif node == goal:\n",
    "            color = GOAL_COLOUR\n",
    "        colors.append(color)\n",
    "        \n",
    "    node_trace['marker']['color'] = colors\n",
    "\n",
    "    fig = go.Figure(data=[edge_trace, node_trace],\n",
    "                 layout=go.Layout(\n",
    "                    autosize=True,\n",
    "                    title='<br>Romania Pathfinding Problem',\n",
    "                    annotations=annotations,\n",
    "                    titlefont=dict(size=16),\n",
    "                    showlegend=False,\n",
    "                    hovermode='closest',\n",
    "                    margin=dict(b=20,l=5,r=5,t=50),\n",
    "                    xaxis=dict(showgrid=False, zeroline=False, showticklabels=False),\n",
    "                    yaxis=dict(showgrid=False, zeroline=False, showticklabels=False))\n",
    "    )\n",
    "    fig.show()"
   ]
  },
  {
   "cell_type": "code",
   "execution_count": 422,
   "id": "021239a1",
   "metadata": {},
   "outputs": [],
   "source": [
    "    # Helper function to track path progress\n",
    "    ############################################################################\n",
    "    def backtrace(parent, start, end):\n",
    "        \"\"\" Given a dictionary of parent nodes, backtrace from the end node to the start node\n",
    "\n",
    "            Parameters:\n",
    "                parent (dict): A dictionary of parent nodes\n",
    "                start (str): The starting node\n",
    "                end (str): The ending node\n",
    "        \"\"\"\n",
    "        # Check if node format (Priority, Entry Count, Node Val)\n",
    "        # If not, then node is in letter format I.e. \"b\"\n",
    "        if len(end) > 1:\n",
    "            end = end[-1]\n",
    "\n",
    "        path = [end]\n",
    "\n",
    "        # While we backtrack through the graph, append the parent node to the path\n",
    "        while path[-1] != start:\n",
    "            parent_node = parent[path[-1]]\n",
    "            path.append(parent_node[-1])\n",
    "\n",
    "        path.reverse()\n",
    "\n",
    "        return path\n",
    "\n",
    "    ############################################################################"
   ]
  },
  {
   "cell_type": "code",
   "execution_count": 454,
   "id": "242bf812",
   "metadata": {},
   "outputs": [
    {
     "data": {
      "application/vnd.plotly.v1+json": {
       "config": {
        "plotlyServerURL": "https://plot.ly"
       },
       "data": [
        {
         "hoverinfo": "text",
         "line": {
          "color": "#888",
          "width": 0.5
         },
         "mode": "lines",
         "text": [
          "75",
          "140",
          "118",
          "85",
          "101",
          "90",
          "211",
          "120",
          "146",
          "138",
          "75",
          "86",
          "99",
          "98",
          "92",
          "87",
          "111",
          "70",
          "71",
          "151",
          "97",
          "80",
          "142"
         ],
         "type": "scatter",
         "x": [
          91,
          108,
          null,
          91,
          207,
          null,
          91,
          94,
          null,
          400,
          456,
          null,
          400,
          320,
          null,
          400,
          375,
          null,
          400,
          305,
          null,
          253,
          165,
          null,
          253,
          233,
          null,
          253,
          320,
          null,
          165,
          168,
          null,
          562,
          534,
          null,
          305,
          207,
          null,
          534,
          456,
          null,
          473,
          509,
          null,
          473,
          406,
          null,
          165,
          94,
          null,
          165,
          168,
          null,
          131,
          108,
          null,
          131,
          207,
          null,
          320,
          233,
          null,
          233,
          207,
          null,
          456,
          509,
          null
         ],
         "y": [
          492,
          531,
          null,
          492,
          457,
          null,
          492,
          410,
          null,
          327,
          350,
          null,
          327,
          368,
          null,
          327,
          270,
          null,
          327,
          449,
          null,
          288,
          299,
          null,
          288,
          410,
          null,
          288,
          368,
          null,
          299,
          339,
          null,
          293,
          350,
          null,
          449,
          457,
          null,
          350,
          350,
          null,
          506,
          444,
          null,
          506,
          537,
          null,
          379,
          410,
          null,
          379,
          339,
          null,
          571,
          531,
          null,
          571,
          457,
          null,
          368,
          410,
          null,
          410,
          457,
          null,
          350,
          444,
          null
         ]
        },
        {
         "hoverinfo": "text",
         "marker": {
          "color": [
           "#FFA15A",
           "#00CC96",
           "#636EFA",
           "#636EFA",
           "#636EFA",
           "#00CC96",
           "#636EFA",
           "#636EFA",
           "#636EFA",
           "#636EFA",
           "#636EFA",
           "#636EFA",
           "#EF553B",
           "#636EFA",
           "#00CC96",
           "#636EFA",
           "#636EFA",
           "#636EFA",
           "#636EFA",
           "#636EFA"
          ],
          "line": {
           "width": 2
          },
          "showscale": false,
          "size": 10
         },
         "mode": "markers",
         "text": [
          "Distance to Goal: 500",
          "Distance to Goal: 500",
          "Distance to Goal: 500",
          "Distance to Goal: 500",
          "Distance to Goal: 500",
          "Distance to Goal: 500",
          "Distance to Goal: 500",
          "Distance to Goal: 500",
          "Distance to Goal: 500",
          "Distance to Goal: 500",
          "Distance to Goal: 500",
          "Distance to Goal: 500",
          "Distance to Goal: 500",
          "Distance to Goal: 500",
          "Distance to Goal: 500",
          "Distance to Goal: 500",
          "Distance to Goal: 500",
          "Distance to Goal: 500",
          "Distance to Goal: 500",
          "Distance to Goal: 500"
         ],
         "type": "scatter",
         "x": [
          91,
          400,
          253,
          165,
          562,
          305,
          534,
          473,
          165,
          131,
          320,
          233,
          456,
          108,
          207,
          94,
          375,
          168,
          509,
          406
         ],
         "y": [
          492,
          327,
          288,
          299,
          293,
          449,
          350,
          506,
          379,
          571,
          368,
          410,
          350,
          531,
          457,
          410,
          270,
          339,
          444,
          537
         ]
        }
       ],
       "layout": {
        "annotations": [
         {
          "arrowhead": 1,
          "ax": -10,
          "ay": -10,
          "font": {
           "color": "black",
           "size": 10
          },
          "showarrow": false,
          "text": "Arad",
          "x": 99,
          "xanchor": "right",
          "xshift": 10,
          "y": 497,
          "yanchor": "bottom"
         },
         {
          "arrowhead": 1,
          "ax": -10,
          "ay": -10,
          "font": {
           "color": "black",
           "size": 10
          },
          "showarrow": false,
          "text": "Bucharest",
          "x": 408,
          "xanchor": "right",
          "xshift": 10,
          "y": 332,
          "yanchor": "bottom"
         },
         {
          "arrowhead": 1,
          "ax": -10,
          "ay": -10,
          "font": {
           "color": "black",
           "size": 10
          },
          "showarrow": false,
          "text": "Craiova",
          "x": 261,
          "xanchor": "right",
          "xshift": 10,
          "y": 293,
          "yanchor": "bottom"
         },
         {
          "arrowhead": 1,
          "ax": -10,
          "ay": -10,
          "font": {
           "color": "black",
           "size": 10
          },
          "showarrow": false,
          "text": "Drobeta",
          "x": 173,
          "xanchor": "right",
          "xshift": 10,
          "y": 304,
          "yanchor": "bottom"
         },
         {
          "arrowhead": 1,
          "ax": -10,
          "ay": -10,
          "font": {
           "color": "black",
           "size": 10
          },
          "showarrow": false,
          "text": "Eforie",
          "x": 570,
          "xanchor": "right",
          "xshift": 10,
          "y": 298,
          "yanchor": "bottom"
         },
         {
          "arrowhead": 1,
          "ax": -10,
          "ay": -10,
          "font": {
           "color": "black",
           "size": 10
          },
          "showarrow": false,
          "text": "Fagaras",
          "x": 313,
          "xanchor": "right",
          "xshift": 10,
          "y": 454,
          "yanchor": "bottom"
         },
         {
          "arrowhead": 1,
          "ax": -10,
          "ay": -10,
          "font": {
           "color": "black",
           "size": 10
          },
          "showarrow": false,
          "text": "Hirsova",
          "x": 542,
          "xanchor": "right",
          "xshift": 10,
          "y": 355,
          "yanchor": "bottom"
         },
         {
          "arrowhead": 1,
          "ax": -10,
          "ay": -10,
          "font": {
           "color": "black",
           "size": 10
          },
          "showarrow": false,
          "text": "Iasi",
          "x": 481,
          "xanchor": "right",
          "xshift": 10,
          "y": 511,
          "yanchor": "bottom"
         },
         {
          "arrowhead": 1,
          "ax": -10,
          "ay": -10,
          "font": {
           "color": "black",
           "size": 10
          },
          "showarrow": false,
          "text": "Lugoj",
          "x": 173,
          "xanchor": "right",
          "xshift": 10,
          "y": 384,
          "yanchor": "bottom"
         },
         {
          "arrowhead": 1,
          "ax": -10,
          "ay": -10,
          "font": {
           "color": "black",
           "size": 10
          },
          "showarrow": false,
          "text": "Oradea",
          "x": 139,
          "xanchor": "right",
          "xshift": 10,
          "y": 576,
          "yanchor": "bottom"
         },
         {
          "arrowhead": 1,
          "ax": -10,
          "ay": -10,
          "font": {
           "color": "black",
           "size": 10
          },
          "showarrow": false,
          "text": "Pitesti",
          "x": 328,
          "xanchor": "right",
          "xshift": 10,
          "y": 373,
          "yanchor": "bottom"
         },
         {
          "arrowhead": 1,
          "ax": -10,
          "ay": -10,
          "font": {
           "color": "black",
           "size": 10
          },
          "showarrow": false,
          "text": "Rimnicu",
          "x": 241,
          "xanchor": "right",
          "xshift": 10,
          "y": 415,
          "yanchor": "bottom"
         },
         {
          "arrowhead": 1,
          "ax": -10,
          "ay": -10,
          "font": {
           "color": "black",
           "size": 10
          },
          "showarrow": false,
          "text": "Urziceni",
          "x": 464,
          "xanchor": "right",
          "xshift": 10,
          "y": 355,
          "yanchor": "bottom"
         },
         {
          "arrowhead": 1,
          "ax": -10,
          "ay": -10,
          "font": {
           "color": "black",
           "size": 10
          },
          "showarrow": false,
          "text": "Zerind",
          "x": 116,
          "xanchor": "right",
          "xshift": 10,
          "y": 536,
          "yanchor": "bottom"
         },
         {
          "arrowhead": 1,
          "ax": -10,
          "ay": -10,
          "font": {
           "color": "black",
           "size": 10
          },
          "showarrow": false,
          "text": "Sibiu",
          "x": 215,
          "xanchor": "right",
          "xshift": 10,
          "y": 462,
          "yanchor": "bottom"
         },
         {
          "arrowhead": 1,
          "ax": -10,
          "ay": -10,
          "font": {
           "color": "black",
           "size": 10
          },
          "showarrow": false,
          "text": "Timisoara",
          "x": 102,
          "xanchor": "right",
          "xshift": 10,
          "y": 415,
          "yanchor": "bottom"
         },
         {
          "arrowhead": 1,
          "ax": -10,
          "ay": -10,
          "font": {
           "color": "black",
           "size": 10
          },
          "showarrow": false,
          "text": "Giurgiu",
          "x": 383,
          "xanchor": "right",
          "xshift": 10,
          "y": 275,
          "yanchor": "bottom"
         },
         {
          "arrowhead": 1,
          "ax": -10,
          "ay": -10,
          "font": {
           "color": "black",
           "size": 10
          },
          "showarrow": false,
          "text": "Mehadia",
          "x": 176,
          "xanchor": "right",
          "xshift": 10,
          "y": 344,
          "yanchor": "bottom"
         },
         {
          "arrowhead": 1,
          "ax": -10,
          "ay": -10,
          "font": {
           "color": "black",
           "size": 10
          },
          "showarrow": false,
          "text": "Vaslui",
          "x": 517,
          "xanchor": "right",
          "xshift": 10,
          "y": 449,
          "yanchor": "bottom"
         },
         {
          "arrowhead": 1,
          "ax": -10,
          "ay": -10,
          "font": {
           "color": "black",
           "size": 10
          },
          "showarrow": false,
          "text": "Neamt",
          "x": 414,
          "xanchor": "right",
          "xshift": 10,
          "y": 542,
          "yanchor": "bottom"
         },
         {
          "arrowhead": 1,
          "ax": -10,
          "ay": -10,
          "font": {
           "color": "black",
           "size": 10
          },
          "showarrow": false,
          "text": "75",
          "x": 99.5,
          "xanchor": "right",
          "xshift": 30,
          "y": 511.5,
          "yanchor": "bottom"
         },
         {
          "arrowhead": 1,
          "ax": -10,
          "ay": -10,
          "font": {
           "color": "black",
           "size": 10
          },
          "showarrow": false,
          "text": "140",
          "x": 149,
          "xanchor": "right",
          "xshift": 30,
          "y": 474.5,
          "yanchor": "bottom"
         },
         {
          "arrowhead": 1,
          "ax": -10,
          "ay": -10,
          "font": {
           "color": "black",
           "size": 10
          },
          "showarrow": false,
          "text": "118",
          "x": 92.5,
          "xanchor": "right",
          "xshift": 30,
          "y": 451,
          "yanchor": "bottom"
         },
         {
          "arrowhead": 1,
          "ax": -10,
          "ay": -10,
          "font": {
           "color": "black",
           "size": 10
          },
          "showarrow": false,
          "text": "85",
          "x": 428,
          "xanchor": "right",
          "xshift": 30,
          "y": 338.5,
          "yanchor": "bottom"
         },
         {
          "arrowhead": 1,
          "ax": -10,
          "ay": -10,
          "font": {
           "color": "black",
           "size": 10
          },
          "showarrow": false,
          "text": "101",
          "x": 360,
          "xanchor": "right",
          "xshift": 30,
          "y": 347.5,
          "yanchor": "bottom"
         },
         {
          "arrowhead": 1,
          "ax": -10,
          "ay": -10,
          "font": {
           "color": "black",
           "size": 10
          },
          "showarrow": false,
          "text": "90",
          "x": 387.5,
          "xanchor": "right",
          "xshift": 30,
          "y": 298.5,
          "yanchor": "bottom"
         },
         {
          "arrowhead": 1,
          "ax": -10,
          "ay": -10,
          "font": {
           "color": "black",
           "size": 10
          },
          "showarrow": false,
          "text": "211",
          "x": 352.5,
          "xanchor": "right",
          "xshift": 30,
          "y": 388,
          "yanchor": "bottom"
         },
         {
          "arrowhead": 1,
          "ax": -10,
          "ay": -10,
          "font": {
           "color": "black",
           "size": 10
          },
          "showarrow": false,
          "text": "120",
          "x": 209,
          "xanchor": "right",
          "xshift": 30,
          "y": 293.5,
          "yanchor": "bottom"
         },
         {
          "arrowhead": 1,
          "ax": -10,
          "ay": -10,
          "font": {
           "color": "black",
           "size": 10
          },
          "showarrow": false,
          "text": "146",
          "x": 243,
          "xanchor": "right",
          "xshift": 30,
          "y": 349,
          "yanchor": "bottom"
         },
         {
          "arrowhead": 1,
          "ax": -10,
          "ay": -10,
          "font": {
           "color": "black",
           "size": 10
          },
          "showarrow": false,
          "text": "138",
          "x": 286.5,
          "xanchor": "right",
          "xshift": 30,
          "y": 328,
          "yanchor": "bottom"
         },
         {
          "arrowhead": 1,
          "ax": -10,
          "ay": -10,
          "font": {
           "color": "black",
           "size": 10
          },
          "showarrow": false,
          "text": "75",
          "x": 166.5,
          "xanchor": "right",
          "xshift": 30,
          "y": 319,
          "yanchor": "bottom"
         },
         {
          "arrowhead": 1,
          "ax": -10,
          "ay": -10,
          "font": {
           "color": "black",
           "size": 10
          },
          "showarrow": false,
          "text": "86",
          "x": 548,
          "xanchor": "right",
          "xshift": 30,
          "y": 321.5,
          "yanchor": "bottom"
         },
         {
          "arrowhead": 1,
          "ax": -10,
          "ay": -10,
          "font": {
           "color": "black",
           "size": 10
          },
          "showarrow": false,
          "text": "99",
          "x": 256,
          "xanchor": "right",
          "xshift": 30,
          "y": 453,
          "yanchor": "bottom"
         },
         {
          "arrowhead": 1,
          "ax": -10,
          "ay": -10,
          "font": {
           "color": "black",
           "size": 10
          },
          "showarrow": false,
          "text": "98",
          "x": 495,
          "xanchor": "right",
          "xshift": 30,
          "y": 350,
          "yanchor": "bottom"
         },
         {
          "arrowhead": 1,
          "ax": -10,
          "ay": -10,
          "font": {
           "color": "black",
           "size": 10
          },
          "showarrow": false,
          "text": "92",
          "x": 491,
          "xanchor": "right",
          "xshift": 30,
          "y": 475,
          "yanchor": "bottom"
         },
         {
          "arrowhead": 1,
          "ax": -10,
          "ay": -10,
          "font": {
           "color": "black",
           "size": 10
          },
          "showarrow": false,
          "text": "87",
          "x": 439.5,
          "xanchor": "right",
          "xshift": 30,
          "y": 521.5,
          "yanchor": "bottom"
         },
         {
          "arrowhead": 1,
          "ax": -10,
          "ay": -10,
          "font": {
           "color": "black",
           "size": 10
          },
          "showarrow": false,
          "text": "111",
          "x": 129.5,
          "xanchor": "right",
          "xshift": 30,
          "y": 394.5,
          "yanchor": "bottom"
         },
         {
          "arrowhead": 1,
          "ax": -10,
          "ay": -10,
          "font": {
           "color": "black",
           "size": 10
          },
          "showarrow": false,
          "text": "70",
          "x": 166.5,
          "xanchor": "right",
          "xshift": 30,
          "y": 359,
          "yanchor": "bottom"
         },
         {
          "arrowhead": 1,
          "ax": -10,
          "ay": -10,
          "font": {
           "color": "black",
           "size": 10
          },
          "showarrow": false,
          "text": "71",
          "x": 119.5,
          "xanchor": "right",
          "xshift": 30,
          "y": 551,
          "yanchor": "bottom"
         },
         {
          "arrowhead": 1,
          "ax": -10,
          "ay": -10,
          "font": {
           "color": "black",
           "size": 10
          },
          "showarrow": false,
          "text": "151",
          "x": 169,
          "xanchor": "right",
          "xshift": 30,
          "y": 514,
          "yanchor": "bottom"
         },
         {
          "arrowhead": 1,
          "ax": -10,
          "ay": -10,
          "font": {
           "color": "black",
           "size": 10
          },
          "showarrow": false,
          "text": "97",
          "x": 276.5,
          "xanchor": "right",
          "xshift": 30,
          "y": 389,
          "yanchor": "bottom"
         },
         {
          "arrowhead": 1,
          "ax": -10,
          "ay": -10,
          "font": {
           "color": "black",
           "size": 10
          },
          "showarrow": false,
          "text": "80",
          "x": 220,
          "xanchor": "right",
          "xshift": 30,
          "y": 433.5,
          "yanchor": "bottom"
         },
         {
          "arrowhead": 1,
          "ax": -10,
          "ay": -10,
          "font": {
           "color": "black",
           "size": 10
          },
          "showarrow": false,
          "text": "142",
          "x": 482.5,
          "xanchor": "right",
          "xshift": 30,
          "y": 397,
          "yanchor": "bottom"
         }
        ],
        "autosize": true,
        "hovermode": "closest",
        "margin": {
         "b": 20,
         "l": 5,
         "r": 5,
         "t": 50
        },
        "showlegend": false,
        "template": {
         "data": {
          "bar": [
           {
            "error_x": {
             "color": "#2a3f5f"
            },
            "error_y": {
             "color": "#2a3f5f"
            },
            "marker": {
             "line": {
              "color": "#E5ECF6",
              "width": 0.5
             }
            },
            "type": "bar"
           }
          ],
          "barpolar": [
           {
            "marker": {
             "line": {
              "color": "#E5ECF6",
              "width": 0.5
             }
            },
            "type": "barpolar"
           }
          ],
          "carpet": [
           {
            "aaxis": {
             "endlinecolor": "#2a3f5f",
             "gridcolor": "white",
             "linecolor": "white",
             "minorgridcolor": "white",
             "startlinecolor": "#2a3f5f"
            },
            "baxis": {
             "endlinecolor": "#2a3f5f",
             "gridcolor": "white",
             "linecolor": "white",
             "minorgridcolor": "white",
             "startlinecolor": "#2a3f5f"
            },
            "type": "carpet"
           }
          ],
          "choropleth": [
           {
            "colorbar": {
             "outlinewidth": 0,
             "ticks": ""
            },
            "type": "choropleth"
           }
          ],
          "contour": [
           {
            "colorbar": {
             "outlinewidth": 0,
             "ticks": ""
            },
            "colorscale": [
             [
              0,
              "#0d0887"
             ],
             [
              0.1111111111111111,
              "#46039f"
             ],
             [
              0.2222222222222222,
              "#7201a8"
             ],
             [
              0.3333333333333333,
              "#9c179e"
             ],
             [
              0.4444444444444444,
              "#bd3786"
             ],
             [
              0.5555555555555556,
              "#d8576b"
             ],
             [
              0.6666666666666666,
              "#ed7953"
             ],
             [
              0.7777777777777778,
              "#fb9f3a"
             ],
             [
              0.8888888888888888,
              "#fdca26"
             ],
             [
              1,
              "#f0f921"
             ]
            ],
            "type": "contour"
           }
          ],
          "contourcarpet": [
           {
            "colorbar": {
             "outlinewidth": 0,
             "ticks": ""
            },
            "type": "contourcarpet"
           }
          ],
          "heatmap": [
           {
            "colorbar": {
             "outlinewidth": 0,
             "ticks": ""
            },
            "colorscale": [
             [
              0,
              "#0d0887"
             ],
             [
              0.1111111111111111,
              "#46039f"
             ],
             [
              0.2222222222222222,
              "#7201a8"
             ],
             [
              0.3333333333333333,
              "#9c179e"
             ],
             [
              0.4444444444444444,
              "#bd3786"
             ],
             [
              0.5555555555555556,
              "#d8576b"
             ],
             [
              0.6666666666666666,
              "#ed7953"
             ],
             [
              0.7777777777777778,
              "#fb9f3a"
             ],
             [
              0.8888888888888888,
              "#fdca26"
             ],
             [
              1,
              "#f0f921"
             ]
            ],
            "type": "heatmap"
           }
          ],
          "heatmapgl": [
           {
            "colorbar": {
             "outlinewidth": 0,
             "ticks": ""
            },
            "colorscale": [
             [
              0,
              "#0d0887"
             ],
             [
              0.1111111111111111,
              "#46039f"
             ],
             [
              0.2222222222222222,
              "#7201a8"
             ],
             [
              0.3333333333333333,
              "#9c179e"
             ],
             [
              0.4444444444444444,
              "#bd3786"
             ],
             [
              0.5555555555555556,
              "#d8576b"
             ],
             [
              0.6666666666666666,
              "#ed7953"
             ],
             [
              0.7777777777777778,
              "#fb9f3a"
             ],
             [
              0.8888888888888888,
              "#fdca26"
             ],
             [
              1,
              "#f0f921"
             ]
            ],
            "type": "heatmapgl"
           }
          ],
          "histogram": [
           {
            "marker": {
             "colorbar": {
              "outlinewidth": 0,
              "ticks": ""
             }
            },
            "type": "histogram"
           }
          ],
          "histogram2d": [
           {
            "colorbar": {
             "outlinewidth": 0,
             "ticks": ""
            },
            "colorscale": [
             [
              0,
              "#0d0887"
             ],
             [
              0.1111111111111111,
              "#46039f"
             ],
             [
              0.2222222222222222,
              "#7201a8"
             ],
             [
              0.3333333333333333,
              "#9c179e"
             ],
             [
              0.4444444444444444,
              "#bd3786"
             ],
             [
              0.5555555555555556,
              "#d8576b"
             ],
             [
              0.6666666666666666,
              "#ed7953"
             ],
             [
              0.7777777777777778,
              "#fb9f3a"
             ],
             [
              0.8888888888888888,
              "#fdca26"
             ],
             [
              1,
              "#f0f921"
             ]
            ],
            "type": "histogram2d"
           }
          ],
          "histogram2dcontour": [
           {
            "colorbar": {
             "outlinewidth": 0,
             "ticks": ""
            },
            "colorscale": [
             [
              0,
              "#0d0887"
             ],
             [
              0.1111111111111111,
              "#46039f"
             ],
             [
              0.2222222222222222,
              "#7201a8"
             ],
             [
              0.3333333333333333,
              "#9c179e"
             ],
             [
              0.4444444444444444,
              "#bd3786"
             ],
             [
              0.5555555555555556,
              "#d8576b"
             ],
             [
              0.6666666666666666,
              "#ed7953"
             ],
             [
              0.7777777777777778,
              "#fb9f3a"
             ],
             [
              0.8888888888888888,
              "#fdca26"
             ],
             [
              1,
              "#f0f921"
             ]
            ],
            "type": "histogram2dcontour"
           }
          ],
          "mesh3d": [
           {
            "colorbar": {
             "outlinewidth": 0,
             "ticks": ""
            },
            "type": "mesh3d"
           }
          ],
          "parcoords": [
           {
            "line": {
             "colorbar": {
              "outlinewidth": 0,
              "ticks": ""
             }
            },
            "type": "parcoords"
           }
          ],
          "pie": [
           {
            "automargin": true,
            "type": "pie"
           }
          ],
          "scatter": [
           {
            "marker": {
             "colorbar": {
              "outlinewidth": 0,
              "ticks": ""
             }
            },
            "type": "scatter"
           }
          ],
          "scatter3d": [
           {
            "line": {
             "colorbar": {
              "outlinewidth": 0,
              "ticks": ""
             }
            },
            "marker": {
             "colorbar": {
              "outlinewidth": 0,
              "ticks": ""
             }
            },
            "type": "scatter3d"
           }
          ],
          "scattercarpet": [
           {
            "marker": {
             "colorbar": {
              "outlinewidth": 0,
              "ticks": ""
             }
            },
            "type": "scattercarpet"
           }
          ],
          "scattergeo": [
           {
            "marker": {
             "colorbar": {
              "outlinewidth": 0,
              "ticks": ""
             }
            },
            "type": "scattergeo"
           }
          ],
          "scattergl": [
           {
            "marker": {
             "colorbar": {
              "outlinewidth": 0,
              "ticks": ""
             }
            },
            "type": "scattergl"
           }
          ],
          "scattermapbox": [
           {
            "marker": {
             "colorbar": {
              "outlinewidth": 0,
              "ticks": ""
             }
            },
            "type": "scattermapbox"
           }
          ],
          "scatterpolar": [
           {
            "marker": {
             "colorbar": {
              "outlinewidth": 0,
              "ticks": ""
             }
            },
            "type": "scatterpolar"
           }
          ],
          "scatterpolargl": [
           {
            "marker": {
             "colorbar": {
              "outlinewidth": 0,
              "ticks": ""
             }
            },
            "type": "scatterpolargl"
           }
          ],
          "scatterternary": [
           {
            "marker": {
             "colorbar": {
              "outlinewidth": 0,
              "ticks": ""
             }
            },
            "type": "scatterternary"
           }
          ],
          "surface": [
           {
            "colorbar": {
             "outlinewidth": 0,
             "ticks": ""
            },
            "colorscale": [
             [
              0,
              "#0d0887"
             ],
             [
              0.1111111111111111,
              "#46039f"
             ],
             [
              0.2222222222222222,
              "#7201a8"
             ],
             [
              0.3333333333333333,
              "#9c179e"
             ],
             [
              0.4444444444444444,
              "#bd3786"
             ],
             [
              0.5555555555555556,
              "#d8576b"
             ],
             [
              0.6666666666666666,
              "#ed7953"
             ],
             [
              0.7777777777777778,
              "#fb9f3a"
             ],
             [
              0.8888888888888888,
              "#fdca26"
             ],
             [
              1,
              "#f0f921"
             ]
            ],
            "type": "surface"
           }
          ],
          "table": [
           {
            "cells": {
             "fill": {
              "color": "#EBF0F8"
             },
             "line": {
              "color": "white"
             }
            },
            "header": {
             "fill": {
              "color": "#C8D4E3"
             },
             "line": {
              "color": "white"
             }
            },
            "type": "table"
           }
          ]
         },
         "layout": {
          "annotationdefaults": {
           "arrowcolor": "#2a3f5f",
           "arrowhead": 0,
           "arrowwidth": 1
          },
          "coloraxis": {
           "colorbar": {
            "outlinewidth": 0,
            "ticks": ""
           }
          },
          "colorscale": {
           "diverging": [
            [
             0,
             "#8e0152"
            ],
            [
             0.1,
             "#c51b7d"
            ],
            [
             0.2,
             "#de77ae"
            ],
            [
             0.3,
             "#f1b6da"
            ],
            [
             0.4,
             "#fde0ef"
            ],
            [
             0.5,
             "#f7f7f7"
            ],
            [
             0.6,
             "#e6f5d0"
            ],
            [
             0.7,
             "#b8e186"
            ],
            [
             0.8,
             "#7fbc41"
            ],
            [
             0.9,
             "#4d9221"
            ],
            [
             1,
             "#276419"
            ]
           ],
           "sequential": [
            [
             0,
             "#0d0887"
            ],
            [
             0.1111111111111111,
             "#46039f"
            ],
            [
             0.2222222222222222,
             "#7201a8"
            ],
            [
             0.3333333333333333,
             "#9c179e"
            ],
            [
             0.4444444444444444,
             "#bd3786"
            ],
            [
             0.5555555555555556,
             "#d8576b"
            ],
            [
             0.6666666666666666,
             "#ed7953"
            ],
            [
             0.7777777777777778,
             "#fb9f3a"
            ],
            [
             0.8888888888888888,
             "#fdca26"
            ],
            [
             1,
             "#f0f921"
            ]
           ],
           "sequentialminus": [
            [
             0,
             "#0d0887"
            ],
            [
             0.1111111111111111,
             "#46039f"
            ],
            [
             0.2222222222222222,
             "#7201a8"
            ],
            [
             0.3333333333333333,
             "#9c179e"
            ],
            [
             0.4444444444444444,
             "#bd3786"
            ],
            [
             0.5555555555555556,
             "#d8576b"
            ],
            [
             0.6666666666666666,
             "#ed7953"
            ],
            [
             0.7777777777777778,
             "#fb9f3a"
            ],
            [
             0.8888888888888888,
             "#fdca26"
            ],
            [
             1,
             "#f0f921"
            ]
           ]
          },
          "colorway": [
           "#636efa",
           "#EF553B",
           "#00cc96",
           "#ab63fa",
           "#FFA15A",
           "#19d3f3",
           "#FF6692",
           "#B6E880",
           "#FF97FF",
           "#FECB52"
          ],
          "font": {
           "color": "#2a3f5f"
          },
          "geo": {
           "bgcolor": "white",
           "lakecolor": "white",
           "landcolor": "#E5ECF6",
           "showlakes": true,
           "showland": true,
           "subunitcolor": "white"
          },
          "hoverlabel": {
           "align": "left"
          },
          "hovermode": "closest",
          "mapbox": {
           "style": "light"
          },
          "paper_bgcolor": "white",
          "plot_bgcolor": "#E5ECF6",
          "polar": {
           "angularaxis": {
            "gridcolor": "white",
            "linecolor": "white",
            "ticks": ""
           },
           "bgcolor": "#E5ECF6",
           "radialaxis": {
            "gridcolor": "white",
            "linecolor": "white",
            "ticks": ""
           }
          },
          "scene": {
           "xaxis": {
            "backgroundcolor": "#E5ECF6",
            "gridcolor": "white",
            "gridwidth": 2,
            "linecolor": "white",
            "showbackground": true,
            "ticks": "",
            "zerolinecolor": "white"
           },
           "yaxis": {
            "backgroundcolor": "#E5ECF6",
            "gridcolor": "white",
            "gridwidth": 2,
            "linecolor": "white",
            "showbackground": true,
            "ticks": "",
            "zerolinecolor": "white"
           },
           "zaxis": {
            "backgroundcolor": "#E5ECF6",
            "gridcolor": "white",
            "gridwidth": 2,
            "linecolor": "white",
            "showbackground": true,
            "ticks": "",
            "zerolinecolor": "white"
           }
          },
          "shapedefaults": {
           "line": {
            "color": "#2a3f5f"
           }
          },
          "ternary": {
           "aaxis": {
            "gridcolor": "white",
            "linecolor": "white",
            "ticks": ""
           },
           "baxis": {
            "gridcolor": "white",
            "linecolor": "white",
            "ticks": ""
           },
           "bgcolor": "#E5ECF6",
           "caxis": {
            "gridcolor": "white",
            "linecolor": "white",
            "ticks": ""
           }
          },
          "title": {
           "x": 0.05
          },
          "xaxis": {
           "automargin": true,
           "gridcolor": "white",
           "linecolor": "white",
           "ticks": "",
           "title": {
            "standoff": 15
           },
           "zerolinecolor": "white",
           "zerolinewidth": 2
          },
          "yaxis": {
           "automargin": true,
           "gridcolor": "white",
           "linecolor": "white",
           "ticks": "",
           "title": {
            "standoff": 15
           },
           "zerolinecolor": "white",
           "zerolinewidth": 2
          }
         }
        },
        "title": {
         "font": {
          "size": 16
         },
         "text": "<br>Romania Pathfinding Problem"
        },
        "xaxis": {
         "showgrid": false,
         "showticklabels": false,
         "zeroline": false
        },
        "yaxis": {
         "showgrid": false,
         "showticklabels": false,
         "zeroline": false
        }
       }
      },
      "text/html": [
       "<div>\n",
       "        \n",
       "        \n",
       "            <div id=\"b5ecee87-7ce8-4b4e-8747-3eecba92ddbb\" class=\"plotly-graph-div\" style=\"height:525px; width:100%;\"></div>\n",
       "            <script type=\"text/javascript\">\n",
       "                require([\"plotly\"], function(Plotly) {\n",
       "                    window.PLOTLYENV=window.PLOTLYENV || {};\n",
       "                    \n",
       "                if (document.getElementById(\"b5ecee87-7ce8-4b4e-8747-3eecba92ddbb\")) {\n",
       "                    Plotly.newPlot(\n",
       "                        'b5ecee87-7ce8-4b4e-8747-3eecba92ddbb',\n",
       "                        [{\"hoverinfo\": \"text\", \"line\": {\"color\": \"#888\", \"width\": 0.5}, \"mode\": \"lines\", \"text\": [\"75\", \"140\", \"118\", \"85\", \"101\", \"90\", \"211\", \"120\", \"146\", \"138\", \"75\", \"86\", \"99\", \"98\", \"92\", \"87\", \"111\", \"70\", \"71\", \"151\", \"97\", \"80\", \"142\"], \"type\": \"scatter\", \"x\": [91, 108, null, 91, 207, null, 91, 94, null, 400, 456, null, 400, 320, null, 400, 375, null, 400, 305, null, 253, 165, null, 253, 233, null, 253, 320, null, 165, 168, null, 562, 534, null, 305, 207, null, 534, 456, null, 473, 509, null, 473, 406, null, 165, 94, null, 165, 168, null, 131, 108, null, 131, 207, null, 320, 233, null, 233, 207, null, 456, 509, null], \"y\": [492, 531, null, 492, 457, null, 492, 410, null, 327, 350, null, 327, 368, null, 327, 270, null, 327, 449, null, 288, 299, null, 288, 410, null, 288, 368, null, 299, 339, null, 293, 350, null, 449, 457, null, 350, 350, null, 506, 444, null, 506, 537, null, 379, 410, null, 379, 339, null, 571, 531, null, 571, 457, null, 368, 410, null, 410, 457, null, 350, 444, null]}, {\"hoverinfo\": \"text\", \"marker\": {\"color\": [\"#FFA15A\", \"#00CC96\", \"#636EFA\", \"#636EFA\", \"#636EFA\", \"#00CC96\", \"#636EFA\", \"#636EFA\", \"#636EFA\", \"#636EFA\", \"#636EFA\", \"#636EFA\", \"#EF553B\", \"#636EFA\", \"#00CC96\", \"#636EFA\", \"#636EFA\", \"#636EFA\", \"#636EFA\", \"#636EFA\"], \"line\": {\"width\": 2}, \"showscale\": false, \"size\": 10}, \"mode\": \"markers\", \"text\": [\"Distance to Goal: 500\", \"Distance to Goal: 500\", \"Distance to Goal: 500\", \"Distance to Goal: 500\", \"Distance to Goal: 500\", \"Distance to Goal: 500\", \"Distance to Goal: 500\", \"Distance to Goal: 500\", \"Distance to Goal: 500\", \"Distance to Goal: 500\", \"Distance to Goal: 500\", \"Distance to Goal: 500\", \"Distance to Goal: 500\", \"Distance to Goal: 500\", \"Distance to Goal: 500\", \"Distance to Goal: 500\", \"Distance to Goal: 500\", \"Distance to Goal: 500\", \"Distance to Goal: 500\", \"Distance to Goal: 500\"], \"type\": \"scatter\", \"x\": [91, 400, 253, 165, 562, 305, 534, 473, 165, 131, 320, 233, 456, 108, 207, 94, 375, 168, 509, 406], \"y\": [492, 327, 288, 299, 293, 449, 350, 506, 379, 571, 368, 410, 350, 531, 457, 410, 270, 339, 444, 537]}],\n",
       "                        {\"annotations\": [{\"arrowhead\": 1, \"ax\": -10, \"ay\": -10, \"font\": {\"color\": \"black\", \"size\": 10}, \"showarrow\": false, \"text\": \"Arad\", \"x\": 99, \"xanchor\": \"right\", \"xshift\": 10, \"y\": 497, \"yanchor\": \"bottom\"}, {\"arrowhead\": 1, \"ax\": -10, \"ay\": -10, \"font\": {\"color\": \"black\", \"size\": 10}, \"showarrow\": false, \"text\": \"Bucharest\", \"x\": 408, \"xanchor\": \"right\", \"xshift\": 10, \"y\": 332, \"yanchor\": \"bottom\"}, {\"arrowhead\": 1, \"ax\": -10, \"ay\": -10, \"font\": {\"color\": \"black\", \"size\": 10}, \"showarrow\": false, \"text\": \"Craiova\", \"x\": 261, \"xanchor\": \"right\", \"xshift\": 10, \"y\": 293, \"yanchor\": \"bottom\"}, {\"arrowhead\": 1, \"ax\": -10, \"ay\": -10, \"font\": {\"color\": \"black\", \"size\": 10}, \"showarrow\": false, \"text\": \"Drobeta\", \"x\": 173, \"xanchor\": \"right\", \"xshift\": 10, \"y\": 304, \"yanchor\": \"bottom\"}, {\"arrowhead\": 1, \"ax\": -10, \"ay\": -10, \"font\": {\"color\": \"black\", \"size\": 10}, \"showarrow\": false, \"text\": \"Eforie\", \"x\": 570, \"xanchor\": \"right\", \"xshift\": 10, \"y\": 298, \"yanchor\": \"bottom\"}, {\"arrowhead\": 1, \"ax\": -10, \"ay\": -10, \"font\": {\"color\": \"black\", \"size\": 10}, \"showarrow\": false, \"text\": \"Fagaras\", \"x\": 313, \"xanchor\": \"right\", \"xshift\": 10, \"y\": 454, \"yanchor\": \"bottom\"}, {\"arrowhead\": 1, \"ax\": -10, \"ay\": -10, \"font\": {\"color\": \"black\", \"size\": 10}, \"showarrow\": false, \"text\": \"Hirsova\", \"x\": 542, \"xanchor\": \"right\", \"xshift\": 10, \"y\": 355, \"yanchor\": \"bottom\"}, {\"arrowhead\": 1, \"ax\": -10, \"ay\": -10, \"font\": {\"color\": \"black\", \"size\": 10}, \"showarrow\": false, \"text\": \"Iasi\", \"x\": 481, \"xanchor\": \"right\", \"xshift\": 10, \"y\": 511, \"yanchor\": \"bottom\"}, {\"arrowhead\": 1, \"ax\": -10, \"ay\": -10, \"font\": {\"color\": \"black\", \"size\": 10}, \"showarrow\": false, \"text\": \"Lugoj\", \"x\": 173, \"xanchor\": \"right\", \"xshift\": 10, \"y\": 384, \"yanchor\": \"bottom\"}, {\"arrowhead\": 1, \"ax\": -10, \"ay\": -10, \"font\": {\"color\": \"black\", \"size\": 10}, \"showarrow\": false, \"text\": \"Oradea\", \"x\": 139, \"xanchor\": \"right\", \"xshift\": 10, \"y\": 576, \"yanchor\": \"bottom\"}, {\"arrowhead\": 1, \"ax\": -10, \"ay\": -10, \"font\": {\"color\": \"black\", \"size\": 10}, \"showarrow\": false, \"text\": \"Pitesti\", \"x\": 328, \"xanchor\": \"right\", \"xshift\": 10, \"y\": 373, \"yanchor\": \"bottom\"}, {\"arrowhead\": 1, \"ax\": -10, \"ay\": -10, \"font\": {\"color\": \"black\", \"size\": 10}, \"showarrow\": false, \"text\": \"Rimnicu\", \"x\": 241, \"xanchor\": \"right\", \"xshift\": 10, \"y\": 415, \"yanchor\": \"bottom\"}, {\"arrowhead\": 1, \"ax\": -10, \"ay\": -10, \"font\": {\"color\": \"black\", \"size\": 10}, \"showarrow\": false, \"text\": \"Urziceni\", \"x\": 464, \"xanchor\": \"right\", \"xshift\": 10, \"y\": 355, \"yanchor\": \"bottom\"}, {\"arrowhead\": 1, \"ax\": -10, \"ay\": -10, \"font\": {\"color\": \"black\", \"size\": 10}, \"showarrow\": false, \"text\": \"Zerind\", \"x\": 116, \"xanchor\": \"right\", \"xshift\": 10, \"y\": 536, \"yanchor\": \"bottom\"}, {\"arrowhead\": 1, \"ax\": -10, \"ay\": -10, \"font\": {\"color\": \"black\", \"size\": 10}, \"showarrow\": false, \"text\": \"Sibiu\", \"x\": 215, \"xanchor\": \"right\", \"xshift\": 10, \"y\": 462, \"yanchor\": \"bottom\"}, {\"arrowhead\": 1, \"ax\": -10, \"ay\": -10, \"font\": {\"color\": \"black\", \"size\": 10}, \"showarrow\": false, \"text\": \"Timisoara\", \"x\": 102, \"xanchor\": \"right\", \"xshift\": 10, \"y\": 415, \"yanchor\": \"bottom\"}, {\"arrowhead\": 1, \"ax\": -10, \"ay\": -10, \"font\": {\"color\": \"black\", \"size\": 10}, \"showarrow\": false, \"text\": \"Giurgiu\", \"x\": 383, \"xanchor\": \"right\", \"xshift\": 10, \"y\": 275, \"yanchor\": \"bottom\"}, {\"arrowhead\": 1, \"ax\": -10, \"ay\": -10, \"font\": {\"color\": \"black\", \"size\": 10}, \"showarrow\": false, \"text\": \"Mehadia\", \"x\": 176, \"xanchor\": \"right\", \"xshift\": 10, \"y\": 344, \"yanchor\": \"bottom\"}, {\"arrowhead\": 1, \"ax\": -10, \"ay\": -10, \"font\": {\"color\": \"black\", \"size\": 10}, \"showarrow\": false, \"text\": \"Vaslui\", \"x\": 517, \"xanchor\": \"right\", \"xshift\": 10, \"y\": 449, \"yanchor\": \"bottom\"}, {\"arrowhead\": 1, \"ax\": -10, \"ay\": -10, \"font\": {\"color\": \"black\", \"size\": 10}, \"showarrow\": false, \"text\": \"Neamt\", \"x\": 414, \"xanchor\": \"right\", \"xshift\": 10, \"y\": 542, \"yanchor\": \"bottom\"}, {\"arrowhead\": 1, \"ax\": -10, \"ay\": -10, \"font\": {\"color\": \"black\", \"size\": 10}, \"showarrow\": false, \"text\": \"75\", \"x\": 99.5, \"xanchor\": \"right\", \"xshift\": 30, \"y\": 511.5, \"yanchor\": \"bottom\"}, {\"arrowhead\": 1, \"ax\": -10, \"ay\": -10, \"font\": {\"color\": \"black\", \"size\": 10}, \"showarrow\": false, \"text\": \"140\", \"x\": 149.0, \"xanchor\": \"right\", \"xshift\": 30, \"y\": 474.5, \"yanchor\": \"bottom\"}, {\"arrowhead\": 1, \"ax\": -10, \"ay\": -10, \"font\": {\"color\": \"black\", \"size\": 10}, \"showarrow\": false, \"text\": \"118\", \"x\": 92.5, \"xanchor\": \"right\", \"xshift\": 30, \"y\": 451.0, \"yanchor\": \"bottom\"}, {\"arrowhead\": 1, \"ax\": -10, \"ay\": -10, \"font\": {\"color\": \"black\", \"size\": 10}, \"showarrow\": false, \"text\": \"85\", \"x\": 428.0, \"xanchor\": \"right\", \"xshift\": 30, \"y\": 338.5, \"yanchor\": \"bottom\"}, {\"arrowhead\": 1, \"ax\": -10, \"ay\": -10, \"font\": {\"color\": \"black\", \"size\": 10}, \"showarrow\": false, \"text\": \"101\", \"x\": 360.0, \"xanchor\": \"right\", \"xshift\": 30, \"y\": 347.5, \"yanchor\": \"bottom\"}, {\"arrowhead\": 1, \"ax\": -10, \"ay\": -10, \"font\": {\"color\": \"black\", \"size\": 10}, \"showarrow\": false, \"text\": \"90\", \"x\": 387.5, \"xanchor\": \"right\", \"xshift\": 30, \"y\": 298.5, \"yanchor\": \"bottom\"}, {\"arrowhead\": 1, \"ax\": -10, \"ay\": -10, \"font\": {\"color\": \"black\", \"size\": 10}, \"showarrow\": false, \"text\": \"211\", \"x\": 352.5, \"xanchor\": \"right\", \"xshift\": 30, \"y\": 388.0, \"yanchor\": \"bottom\"}, {\"arrowhead\": 1, \"ax\": -10, \"ay\": -10, \"font\": {\"color\": \"black\", \"size\": 10}, \"showarrow\": false, \"text\": \"120\", \"x\": 209.0, \"xanchor\": \"right\", \"xshift\": 30, \"y\": 293.5, \"yanchor\": \"bottom\"}, {\"arrowhead\": 1, \"ax\": -10, \"ay\": -10, \"font\": {\"color\": \"black\", \"size\": 10}, \"showarrow\": false, \"text\": \"146\", \"x\": 243.0, \"xanchor\": \"right\", \"xshift\": 30, \"y\": 349.0, \"yanchor\": \"bottom\"}, {\"arrowhead\": 1, \"ax\": -10, \"ay\": -10, \"font\": {\"color\": \"black\", \"size\": 10}, \"showarrow\": false, \"text\": \"138\", \"x\": 286.5, \"xanchor\": \"right\", \"xshift\": 30, \"y\": 328.0, \"yanchor\": \"bottom\"}, {\"arrowhead\": 1, \"ax\": -10, \"ay\": -10, \"font\": {\"color\": \"black\", \"size\": 10}, \"showarrow\": false, \"text\": \"75\", \"x\": 166.5, \"xanchor\": \"right\", \"xshift\": 30, \"y\": 319.0, \"yanchor\": \"bottom\"}, {\"arrowhead\": 1, \"ax\": -10, \"ay\": -10, \"font\": {\"color\": \"black\", \"size\": 10}, \"showarrow\": false, \"text\": \"86\", \"x\": 548.0, \"xanchor\": \"right\", \"xshift\": 30, \"y\": 321.5, \"yanchor\": \"bottom\"}, {\"arrowhead\": 1, \"ax\": -10, \"ay\": -10, \"font\": {\"color\": \"black\", \"size\": 10}, \"showarrow\": false, \"text\": \"99\", \"x\": 256.0, \"xanchor\": \"right\", \"xshift\": 30, \"y\": 453.0, \"yanchor\": \"bottom\"}, {\"arrowhead\": 1, \"ax\": -10, \"ay\": -10, \"font\": {\"color\": \"black\", \"size\": 10}, \"showarrow\": false, \"text\": \"98\", \"x\": 495.0, \"xanchor\": \"right\", \"xshift\": 30, \"y\": 350.0, \"yanchor\": \"bottom\"}, {\"arrowhead\": 1, \"ax\": -10, \"ay\": -10, \"font\": {\"color\": \"black\", \"size\": 10}, \"showarrow\": false, \"text\": \"92\", \"x\": 491.0, \"xanchor\": \"right\", \"xshift\": 30, \"y\": 475.0, \"yanchor\": \"bottom\"}, {\"arrowhead\": 1, \"ax\": -10, \"ay\": -10, \"font\": {\"color\": \"black\", \"size\": 10}, \"showarrow\": false, \"text\": \"87\", \"x\": 439.5, \"xanchor\": \"right\", \"xshift\": 30, \"y\": 521.5, \"yanchor\": \"bottom\"}, {\"arrowhead\": 1, \"ax\": -10, \"ay\": -10, \"font\": {\"color\": \"black\", \"size\": 10}, \"showarrow\": false, \"text\": \"111\", \"x\": 129.5, \"xanchor\": \"right\", \"xshift\": 30, \"y\": 394.5, \"yanchor\": \"bottom\"}, {\"arrowhead\": 1, \"ax\": -10, \"ay\": -10, \"font\": {\"color\": \"black\", \"size\": 10}, \"showarrow\": false, \"text\": \"70\", \"x\": 166.5, \"xanchor\": \"right\", \"xshift\": 30, \"y\": 359.0, \"yanchor\": \"bottom\"}, {\"arrowhead\": 1, \"ax\": -10, \"ay\": -10, \"font\": {\"color\": \"black\", \"size\": 10}, \"showarrow\": false, \"text\": \"71\", \"x\": 119.5, \"xanchor\": \"right\", \"xshift\": 30, \"y\": 551.0, \"yanchor\": \"bottom\"}, {\"arrowhead\": 1, \"ax\": -10, \"ay\": -10, \"font\": {\"color\": \"black\", \"size\": 10}, \"showarrow\": false, \"text\": \"151\", \"x\": 169.0, \"xanchor\": \"right\", \"xshift\": 30, \"y\": 514.0, \"yanchor\": \"bottom\"}, {\"arrowhead\": 1, \"ax\": -10, \"ay\": -10, \"font\": {\"color\": \"black\", \"size\": 10}, \"showarrow\": false, \"text\": \"97\", \"x\": 276.5, \"xanchor\": \"right\", \"xshift\": 30, \"y\": 389.0, \"yanchor\": \"bottom\"}, {\"arrowhead\": 1, \"ax\": -10, \"ay\": -10, \"font\": {\"color\": \"black\", \"size\": 10}, \"showarrow\": false, \"text\": \"80\", \"x\": 220.0, \"xanchor\": \"right\", \"xshift\": 30, \"y\": 433.5, \"yanchor\": \"bottom\"}, {\"arrowhead\": 1, \"ax\": -10, \"ay\": -10, \"font\": {\"color\": \"black\", \"size\": 10}, \"showarrow\": false, \"text\": \"142\", \"x\": 482.5, \"xanchor\": \"right\", \"xshift\": 30, \"y\": 397.0, \"yanchor\": \"bottom\"}], \"autosize\": true, \"hovermode\": \"closest\", \"margin\": {\"b\": 20, \"l\": 5, \"r\": 5, \"t\": 50}, \"showlegend\": false, \"template\": {\"data\": {\"bar\": [{\"error_x\": {\"color\": \"#2a3f5f\"}, \"error_y\": {\"color\": \"#2a3f5f\"}, \"marker\": {\"line\": {\"color\": \"#E5ECF6\", \"width\": 0.5}}, \"type\": \"bar\"}], \"barpolar\": [{\"marker\": {\"line\": {\"color\": \"#E5ECF6\", \"width\": 0.5}}, \"type\": \"barpolar\"}], \"carpet\": [{\"aaxis\": {\"endlinecolor\": \"#2a3f5f\", \"gridcolor\": \"white\", \"linecolor\": \"white\", \"minorgridcolor\": \"white\", \"startlinecolor\": \"#2a3f5f\"}, \"baxis\": {\"endlinecolor\": \"#2a3f5f\", \"gridcolor\": \"white\", \"linecolor\": \"white\", \"minorgridcolor\": \"white\", \"startlinecolor\": \"#2a3f5f\"}, \"type\": \"carpet\"}], \"choropleth\": [{\"colorbar\": {\"outlinewidth\": 0, \"ticks\": \"\"}, \"type\": \"choropleth\"}], \"contour\": [{\"colorbar\": {\"outlinewidth\": 0, \"ticks\": \"\"}, \"colorscale\": [[0.0, \"#0d0887\"], [0.1111111111111111, \"#46039f\"], [0.2222222222222222, \"#7201a8\"], [0.3333333333333333, \"#9c179e\"], [0.4444444444444444, \"#bd3786\"], [0.5555555555555556, \"#d8576b\"], [0.6666666666666666, \"#ed7953\"], [0.7777777777777778, \"#fb9f3a\"], [0.8888888888888888, \"#fdca26\"], [1.0, \"#f0f921\"]], \"type\": \"contour\"}], \"contourcarpet\": [{\"colorbar\": {\"outlinewidth\": 0, \"ticks\": \"\"}, \"type\": \"contourcarpet\"}], \"heatmap\": [{\"colorbar\": {\"outlinewidth\": 0, \"ticks\": \"\"}, \"colorscale\": [[0.0, \"#0d0887\"], [0.1111111111111111, \"#46039f\"], [0.2222222222222222, \"#7201a8\"], [0.3333333333333333, \"#9c179e\"], [0.4444444444444444, \"#bd3786\"], [0.5555555555555556, \"#d8576b\"], [0.6666666666666666, \"#ed7953\"], [0.7777777777777778, \"#fb9f3a\"], [0.8888888888888888, \"#fdca26\"], [1.0, \"#f0f921\"]], \"type\": \"heatmap\"}], \"heatmapgl\": [{\"colorbar\": {\"outlinewidth\": 0, \"ticks\": \"\"}, \"colorscale\": [[0.0, \"#0d0887\"], [0.1111111111111111, \"#46039f\"], [0.2222222222222222, \"#7201a8\"], [0.3333333333333333, \"#9c179e\"], [0.4444444444444444, \"#bd3786\"], [0.5555555555555556, \"#d8576b\"], [0.6666666666666666, \"#ed7953\"], [0.7777777777777778, \"#fb9f3a\"], [0.8888888888888888, \"#fdca26\"], [1.0, \"#f0f921\"]], \"type\": \"heatmapgl\"}], \"histogram\": [{\"marker\": {\"colorbar\": {\"outlinewidth\": 0, \"ticks\": \"\"}}, \"type\": \"histogram\"}], \"histogram2d\": [{\"colorbar\": {\"outlinewidth\": 0, \"ticks\": \"\"}, \"colorscale\": [[0.0, \"#0d0887\"], [0.1111111111111111, \"#46039f\"], [0.2222222222222222, \"#7201a8\"], [0.3333333333333333, \"#9c179e\"], [0.4444444444444444, \"#bd3786\"], [0.5555555555555556, \"#d8576b\"], [0.6666666666666666, \"#ed7953\"], [0.7777777777777778, \"#fb9f3a\"], [0.8888888888888888, \"#fdca26\"], [1.0, \"#f0f921\"]], \"type\": \"histogram2d\"}], \"histogram2dcontour\": [{\"colorbar\": {\"outlinewidth\": 0, \"ticks\": \"\"}, \"colorscale\": [[0.0, \"#0d0887\"], [0.1111111111111111, \"#46039f\"], [0.2222222222222222, \"#7201a8\"], [0.3333333333333333, \"#9c179e\"], [0.4444444444444444, \"#bd3786\"], [0.5555555555555556, \"#d8576b\"], [0.6666666666666666, \"#ed7953\"], [0.7777777777777778, \"#fb9f3a\"], [0.8888888888888888, \"#fdca26\"], [1.0, \"#f0f921\"]], \"type\": \"histogram2dcontour\"}], \"mesh3d\": [{\"colorbar\": {\"outlinewidth\": 0, \"ticks\": \"\"}, \"type\": \"mesh3d\"}], \"parcoords\": [{\"line\": {\"colorbar\": {\"outlinewidth\": 0, \"ticks\": \"\"}}, \"type\": \"parcoords\"}], \"pie\": [{\"automargin\": true, \"type\": \"pie\"}], \"scatter\": [{\"marker\": {\"colorbar\": {\"outlinewidth\": 0, \"ticks\": \"\"}}, \"type\": \"scatter\"}], \"scatter3d\": [{\"line\": {\"colorbar\": {\"outlinewidth\": 0, \"ticks\": \"\"}}, \"marker\": {\"colorbar\": {\"outlinewidth\": 0, \"ticks\": \"\"}}, \"type\": \"scatter3d\"}], \"scattercarpet\": [{\"marker\": {\"colorbar\": {\"outlinewidth\": 0, \"ticks\": \"\"}}, \"type\": \"scattercarpet\"}], \"scattergeo\": [{\"marker\": {\"colorbar\": {\"outlinewidth\": 0, \"ticks\": \"\"}}, \"type\": \"scattergeo\"}], \"scattergl\": [{\"marker\": {\"colorbar\": {\"outlinewidth\": 0, \"ticks\": \"\"}}, \"type\": \"scattergl\"}], \"scattermapbox\": [{\"marker\": {\"colorbar\": {\"outlinewidth\": 0, \"ticks\": \"\"}}, \"type\": \"scattermapbox\"}], \"scatterpolar\": [{\"marker\": {\"colorbar\": {\"outlinewidth\": 0, \"ticks\": \"\"}}, \"type\": \"scatterpolar\"}], \"scatterpolargl\": [{\"marker\": {\"colorbar\": {\"outlinewidth\": 0, \"ticks\": \"\"}}, \"type\": \"scatterpolargl\"}], \"scatterternary\": [{\"marker\": {\"colorbar\": {\"outlinewidth\": 0, \"ticks\": \"\"}}, \"type\": \"scatterternary\"}], \"surface\": [{\"colorbar\": {\"outlinewidth\": 0, \"ticks\": \"\"}, \"colorscale\": [[0.0, \"#0d0887\"], [0.1111111111111111, \"#46039f\"], [0.2222222222222222, \"#7201a8\"], [0.3333333333333333, \"#9c179e\"], [0.4444444444444444, \"#bd3786\"], [0.5555555555555556, \"#d8576b\"], [0.6666666666666666, \"#ed7953\"], [0.7777777777777778, \"#fb9f3a\"], [0.8888888888888888, \"#fdca26\"], [1.0, \"#f0f921\"]], \"type\": \"surface\"}], \"table\": [{\"cells\": {\"fill\": {\"color\": \"#EBF0F8\"}, \"line\": {\"color\": \"white\"}}, \"header\": {\"fill\": {\"color\": \"#C8D4E3\"}, \"line\": {\"color\": \"white\"}}, \"type\": \"table\"}]}, \"layout\": {\"annotationdefaults\": {\"arrowcolor\": \"#2a3f5f\", \"arrowhead\": 0, \"arrowwidth\": 1}, \"coloraxis\": {\"colorbar\": {\"outlinewidth\": 0, \"ticks\": \"\"}}, \"colorscale\": {\"diverging\": [[0, \"#8e0152\"], [0.1, \"#c51b7d\"], [0.2, \"#de77ae\"], [0.3, \"#f1b6da\"], [0.4, \"#fde0ef\"], [0.5, \"#f7f7f7\"], [0.6, \"#e6f5d0\"], [0.7, \"#b8e186\"], [0.8, \"#7fbc41\"], [0.9, \"#4d9221\"], [1, \"#276419\"]], \"sequential\": [[0.0, \"#0d0887\"], [0.1111111111111111, \"#46039f\"], [0.2222222222222222, \"#7201a8\"], [0.3333333333333333, \"#9c179e\"], [0.4444444444444444, \"#bd3786\"], [0.5555555555555556, \"#d8576b\"], [0.6666666666666666, \"#ed7953\"], [0.7777777777777778, \"#fb9f3a\"], [0.8888888888888888, \"#fdca26\"], [1.0, \"#f0f921\"]], \"sequentialminus\": [[0.0, \"#0d0887\"], [0.1111111111111111, \"#46039f\"], [0.2222222222222222, \"#7201a8\"], [0.3333333333333333, \"#9c179e\"], [0.4444444444444444, \"#bd3786\"], [0.5555555555555556, \"#d8576b\"], [0.6666666666666666, \"#ed7953\"], [0.7777777777777778, \"#fb9f3a\"], [0.8888888888888888, \"#fdca26\"], [1.0, \"#f0f921\"]]}, \"colorway\": [\"#636efa\", \"#EF553B\", \"#00cc96\", \"#ab63fa\", \"#FFA15A\", \"#19d3f3\", \"#FF6692\", \"#B6E880\", \"#FF97FF\", \"#FECB52\"], \"font\": {\"color\": \"#2a3f5f\"}, \"geo\": {\"bgcolor\": \"white\", \"lakecolor\": \"white\", \"landcolor\": \"#E5ECF6\", \"showlakes\": true, \"showland\": true, \"subunitcolor\": \"white\"}, \"hoverlabel\": {\"align\": \"left\"}, \"hovermode\": \"closest\", \"mapbox\": {\"style\": \"light\"}, \"paper_bgcolor\": \"white\", \"plot_bgcolor\": \"#E5ECF6\", \"polar\": {\"angularaxis\": {\"gridcolor\": \"white\", \"linecolor\": \"white\", \"ticks\": \"\"}, \"bgcolor\": \"#E5ECF6\", \"radialaxis\": {\"gridcolor\": \"white\", \"linecolor\": \"white\", \"ticks\": \"\"}}, \"scene\": {\"xaxis\": {\"backgroundcolor\": \"#E5ECF6\", \"gridcolor\": \"white\", \"gridwidth\": 2, \"linecolor\": \"white\", \"showbackground\": true, \"ticks\": \"\", \"zerolinecolor\": \"white\"}, \"yaxis\": {\"backgroundcolor\": \"#E5ECF6\", \"gridcolor\": \"white\", \"gridwidth\": 2, \"linecolor\": \"white\", \"showbackground\": true, \"ticks\": \"\", \"zerolinecolor\": \"white\"}, \"zaxis\": {\"backgroundcolor\": \"#E5ECF6\", \"gridcolor\": \"white\", \"gridwidth\": 2, \"linecolor\": \"white\", \"showbackground\": true, \"ticks\": \"\", \"zerolinecolor\": \"white\"}}, \"shapedefaults\": {\"line\": {\"color\": \"#2a3f5f\"}}, \"ternary\": {\"aaxis\": {\"gridcolor\": \"white\", \"linecolor\": \"white\", \"ticks\": \"\"}, \"baxis\": {\"gridcolor\": \"white\", \"linecolor\": \"white\", \"ticks\": \"\"}, \"bgcolor\": \"#E5ECF6\", \"caxis\": {\"gridcolor\": \"white\", \"linecolor\": \"white\", \"ticks\": \"\"}}, \"title\": {\"x\": 0.05}, \"xaxis\": {\"automargin\": true, \"gridcolor\": \"white\", \"linecolor\": \"white\", \"ticks\": \"\", \"title\": {\"standoff\": 15}, \"zerolinecolor\": \"white\", \"zerolinewidth\": 2}, \"yaxis\": {\"automargin\": true, \"gridcolor\": \"white\", \"linecolor\": \"white\", \"ticks\": \"\", \"title\": {\"standoff\": 15}, \"zerolinecolor\": \"white\", \"zerolinewidth\": 2}}}, \"title\": {\"font\": {\"size\": 16}, \"text\": \"<br>Romania Pathfinding Problem\"}, \"xaxis\": {\"showgrid\": false, \"showticklabels\": false, \"zeroline\": false}, \"yaxis\": {\"showgrid\": false, \"showticklabels\": false, \"zeroline\": false}},\n",
       "                        {\"responsive\": true}\n",
       "                    ).then(function(){\n",
       "                            \n",
       "var gd = document.getElementById('b5ecee87-7ce8-4b4e-8747-3eecba92ddbb');\n",
       "var x = new MutationObserver(function (mutations, observer) {{\n",
       "        var display = window.getComputedStyle(gd).display;\n",
       "        if (!display || display === 'none') {{\n",
       "            console.log([gd, 'removed!']);\n",
       "            Plotly.purge(gd);\n",
       "            observer.disconnect();\n",
       "        }}\n",
       "}});\n",
       "\n",
       "// Listen for the removal of the full notebook cells\n",
       "var notebookContainer = gd.closest('#notebook-container');\n",
       "if (notebookContainer) {{\n",
       "    x.observe(notebookContainer, {childList: true});\n",
       "}}\n",
       "\n",
       "// Listen for the clearing of the current output cell\n",
       "var outputEl = gd.closest('.output');\n",
       "if (outputEl) {{\n",
       "    x.observe(outputEl, {childList: true});\n",
       "}}\n",
       "\n",
       "                        })\n",
       "                };\n",
       "                });\n",
       "            </script>\n",
       "        </div>"
      ]
     },
     "metadata": {},
     "output_type": "display_data"
    }
   ],
   "source": [
    "def breadth_first_search(graph, start, goal):\n",
    "    \"\"\"\n",
    "    Warm-up exercise: Implement breadth-first-search.\n",
    "\n",
    "    See README.md for exercise description.\n",
    "\n",
    "    Args:\n",
    "        graph (ExplorableGraph): Undirected graph to search.\n",
    "        start (str): Key for the start node.\n",
    "        goal (str): Key for the end node.\n",
    "\n",
    "    Returns:\n",
    "        The best path as a list from the start and goal nodes (including both).\n",
    "    \"\"\"\n",
    "\n",
    "    if start == goal:\n",
    "        return []\n",
    "\n",
    "    depth = 0  # Use depth as the entry value for prioritizing nodes\n",
    "    visited = []\n",
    "    parent = {}\n",
    "    queue = PriorityQueue()\n",
    "    queue.append((depth, start))\n",
    "\n",
    "    while queue.size() > 0:\n",
    "        node = queue.pop()\n",
    "\n",
    "        # Goal check\n",
    "        if node[-1] == goal:\n",
    "            return backtrace(parent, start, goal)\n",
    "\n",
    "        # Sort in alphabetical order so the nodes are searched deterministically\n",
    "        neighbours = sorted(list(graph.neighbors(node[-1])))\n",
    "\n",
    "        depth += 1\n",
    "        for n in neighbours:\n",
    "            if n not in visited:\n",
    "                parent[n] = node\n",
    "\n",
    "                if n == goal:\n",
    "                    return backtrace(parent, start, n)\n",
    "\n",
    "                # If goal hasn't been reached, keep expanding the frontier\n",
    "                queue.append((depth, n))\n",
    "                visited.append(n)\n",
    "                \n",
    "path = breadth_first_search(graph, start=\"a\", goal=\"u\")\n",
    "path = [*map(city_mapping.get, path)]\n",
    "\n",
    "create_network_map(G, \n",
    "                   start=\"Arad\", \n",
    "                   goal=\"Urziceni\", \n",
    "                   path = path\n",
    ")"
   ]
  },
  {
   "cell_type": "code",
   "execution_count": 453,
   "id": "4e98dbbf",
   "metadata": {},
   "outputs": [
    {
     "data": {
      "application/vnd.plotly.v1+json": {
       "config": {
        "plotlyServerURL": "https://plot.ly"
       },
       "data": [
        {
         "hoverinfo": "text",
         "line": {
          "color": "#888",
          "width": 0.5
         },
         "mode": "lines",
         "text": [
          "75",
          "140",
          "118",
          "85",
          "101",
          "90",
          "211",
          "120",
          "146",
          "138",
          "75",
          "86",
          "99",
          "98",
          "92",
          "87",
          "111",
          "70",
          "71",
          "151",
          "97",
          "80",
          "142"
         ],
         "type": "scatter",
         "x": [
          91,
          108,
          null,
          91,
          207,
          null,
          91,
          94,
          null,
          400,
          456,
          null,
          400,
          320,
          null,
          400,
          375,
          null,
          400,
          305,
          null,
          253,
          165,
          null,
          253,
          233,
          null,
          253,
          320,
          null,
          165,
          168,
          null,
          562,
          534,
          null,
          305,
          207,
          null,
          534,
          456,
          null,
          473,
          509,
          null,
          473,
          406,
          null,
          165,
          94,
          null,
          165,
          168,
          null,
          131,
          108,
          null,
          131,
          207,
          null,
          320,
          233,
          null,
          233,
          207,
          null,
          456,
          509,
          null
         ],
         "y": [
          492,
          531,
          null,
          492,
          457,
          null,
          492,
          410,
          null,
          327,
          350,
          null,
          327,
          368,
          null,
          327,
          270,
          null,
          327,
          449,
          null,
          288,
          299,
          null,
          288,
          410,
          null,
          288,
          368,
          null,
          299,
          339,
          null,
          293,
          350,
          null,
          449,
          457,
          null,
          350,
          350,
          null,
          506,
          444,
          null,
          506,
          537,
          null,
          379,
          410,
          null,
          379,
          339,
          null,
          571,
          531,
          null,
          571,
          457,
          null,
          368,
          410,
          null,
          410,
          457,
          null,
          350,
          444,
          null
         ]
        },
        {
         "hoverinfo": "text",
         "marker": {
          "color": [
           "#FFA15A",
           "#EF553B",
           "#636EFA",
           "#636EFA",
           "#636EFA",
           "#636EFA",
           "#636EFA",
           "#636EFA",
           "#636EFA",
           "#636EFA",
           "#00CC96",
           "#00CC96",
           "#636EFA",
           "#636EFA",
           "#00CC96",
           "#636EFA",
           "#636EFA",
           "#636EFA",
           "#636EFA",
           "#636EFA"
          ],
          "line": {
           "width": 2
          },
          "showscale": false,
          "size": 10
         },
         "mode": "markers",
         "text": [
          "Distance to Goal: 500",
          "Distance to Goal: 500",
          "Distance to Goal: 500",
          "Distance to Goal: 500",
          "Distance to Goal: 500",
          "Distance to Goal: 500",
          "Distance to Goal: 500",
          "Distance to Goal: 500",
          "Distance to Goal: 500",
          "Distance to Goal: 500",
          "Distance to Goal: 500",
          "Distance to Goal: 500",
          "Distance to Goal: 500",
          "Distance to Goal: 500",
          "Distance to Goal: 500",
          "Distance to Goal: 500",
          "Distance to Goal: 500",
          "Distance to Goal: 500",
          "Distance to Goal: 500",
          "Distance to Goal: 500"
         ],
         "type": "scatter",
         "x": [
          91,
          400,
          253,
          165,
          562,
          305,
          534,
          473,
          165,
          131,
          320,
          233,
          456,
          108,
          207,
          94,
          375,
          168,
          509,
          406
         ],
         "y": [
          492,
          327,
          288,
          299,
          293,
          449,
          350,
          506,
          379,
          571,
          368,
          410,
          350,
          531,
          457,
          410,
          270,
          339,
          444,
          537
         ]
        }
       ],
       "layout": {
        "annotations": [
         {
          "arrowhead": 1,
          "ax": -10,
          "ay": -10,
          "font": {
           "color": "black",
           "size": 10
          },
          "showarrow": false,
          "text": "Arad",
          "x": 99,
          "xanchor": "right",
          "xshift": 10,
          "y": 497,
          "yanchor": "bottom"
         },
         {
          "arrowhead": 1,
          "ax": -10,
          "ay": -10,
          "font": {
           "color": "black",
           "size": 10
          },
          "showarrow": false,
          "text": "Bucharest",
          "x": 408,
          "xanchor": "right",
          "xshift": 10,
          "y": 332,
          "yanchor": "bottom"
         },
         {
          "arrowhead": 1,
          "ax": -10,
          "ay": -10,
          "font": {
           "color": "black",
           "size": 10
          },
          "showarrow": false,
          "text": "Craiova",
          "x": 261,
          "xanchor": "right",
          "xshift": 10,
          "y": 293,
          "yanchor": "bottom"
         },
         {
          "arrowhead": 1,
          "ax": -10,
          "ay": -10,
          "font": {
           "color": "black",
           "size": 10
          },
          "showarrow": false,
          "text": "Drobeta",
          "x": 173,
          "xanchor": "right",
          "xshift": 10,
          "y": 304,
          "yanchor": "bottom"
         },
         {
          "arrowhead": 1,
          "ax": -10,
          "ay": -10,
          "font": {
           "color": "black",
           "size": 10
          },
          "showarrow": false,
          "text": "Eforie",
          "x": 570,
          "xanchor": "right",
          "xshift": 10,
          "y": 298,
          "yanchor": "bottom"
         },
         {
          "arrowhead": 1,
          "ax": -10,
          "ay": -10,
          "font": {
           "color": "black",
           "size": 10
          },
          "showarrow": false,
          "text": "Fagaras",
          "x": 313,
          "xanchor": "right",
          "xshift": 10,
          "y": 454,
          "yanchor": "bottom"
         },
         {
          "arrowhead": 1,
          "ax": -10,
          "ay": -10,
          "font": {
           "color": "black",
           "size": 10
          },
          "showarrow": false,
          "text": "Hirsova",
          "x": 542,
          "xanchor": "right",
          "xshift": 10,
          "y": 355,
          "yanchor": "bottom"
         },
         {
          "arrowhead": 1,
          "ax": -10,
          "ay": -10,
          "font": {
           "color": "black",
           "size": 10
          },
          "showarrow": false,
          "text": "Iasi",
          "x": 481,
          "xanchor": "right",
          "xshift": 10,
          "y": 511,
          "yanchor": "bottom"
         },
         {
          "arrowhead": 1,
          "ax": -10,
          "ay": -10,
          "font": {
           "color": "black",
           "size": 10
          },
          "showarrow": false,
          "text": "Lugoj",
          "x": 173,
          "xanchor": "right",
          "xshift": 10,
          "y": 384,
          "yanchor": "bottom"
         },
         {
          "arrowhead": 1,
          "ax": -10,
          "ay": -10,
          "font": {
           "color": "black",
           "size": 10
          },
          "showarrow": false,
          "text": "Oradea",
          "x": 139,
          "xanchor": "right",
          "xshift": 10,
          "y": 576,
          "yanchor": "bottom"
         },
         {
          "arrowhead": 1,
          "ax": -10,
          "ay": -10,
          "font": {
           "color": "black",
           "size": 10
          },
          "showarrow": false,
          "text": "Pitesti",
          "x": 328,
          "xanchor": "right",
          "xshift": 10,
          "y": 373,
          "yanchor": "bottom"
         },
         {
          "arrowhead": 1,
          "ax": -10,
          "ay": -10,
          "font": {
           "color": "black",
           "size": 10
          },
          "showarrow": false,
          "text": "Rimnicu",
          "x": 241,
          "xanchor": "right",
          "xshift": 10,
          "y": 415,
          "yanchor": "bottom"
         },
         {
          "arrowhead": 1,
          "ax": -10,
          "ay": -10,
          "font": {
           "color": "black",
           "size": 10
          },
          "showarrow": false,
          "text": "Urziceni",
          "x": 464,
          "xanchor": "right",
          "xshift": 10,
          "y": 355,
          "yanchor": "bottom"
         },
         {
          "arrowhead": 1,
          "ax": -10,
          "ay": -10,
          "font": {
           "color": "black",
           "size": 10
          },
          "showarrow": false,
          "text": "Zerind",
          "x": 116,
          "xanchor": "right",
          "xshift": 10,
          "y": 536,
          "yanchor": "bottom"
         },
         {
          "arrowhead": 1,
          "ax": -10,
          "ay": -10,
          "font": {
           "color": "black",
           "size": 10
          },
          "showarrow": false,
          "text": "Sibiu",
          "x": 215,
          "xanchor": "right",
          "xshift": 10,
          "y": 462,
          "yanchor": "bottom"
         },
         {
          "arrowhead": 1,
          "ax": -10,
          "ay": -10,
          "font": {
           "color": "black",
           "size": 10
          },
          "showarrow": false,
          "text": "Timisoara",
          "x": 102,
          "xanchor": "right",
          "xshift": 10,
          "y": 415,
          "yanchor": "bottom"
         },
         {
          "arrowhead": 1,
          "ax": -10,
          "ay": -10,
          "font": {
           "color": "black",
           "size": 10
          },
          "showarrow": false,
          "text": "Giurgiu",
          "x": 383,
          "xanchor": "right",
          "xshift": 10,
          "y": 275,
          "yanchor": "bottom"
         },
         {
          "arrowhead": 1,
          "ax": -10,
          "ay": -10,
          "font": {
           "color": "black",
           "size": 10
          },
          "showarrow": false,
          "text": "Mehadia",
          "x": 176,
          "xanchor": "right",
          "xshift": 10,
          "y": 344,
          "yanchor": "bottom"
         },
         {
          "arrowhead": 1,
          "ax": -10,
          "ay": -10,
          "font": {
           "color": "black",
           "size": 10
          },
          "showarrow": false,
          "text": "Vaslui",
          "x": 517,
          "xanchor": "right",
          "xshift": 10,
          "y": 449,
          "yanchor": "bottom"
         },
         {
          "arrowhead": 1,
          "ax": -10,
          "ay": -10,
          "font": {
           "color": "black",
           "size": 10
          },
          "showarrow": false,
          "text": "Neamt",
          "x": 414,
          "xanchor": "right",
          "xshift": 10,
          "y": 542,
          "yanchor": "bottom"
         },
         {
          "arrowhead": 1,
          "ax": -10,
          "ay": -10,
          "font": {
           "color": "black",
           "size": 10
          },
          "showarrow": false,
          "text": "75",
          "x": 99.5,
          "xanchor": "right",
          "xshift": 30,
          "y": 511.5,
          "yanchor": "bottom"
         },
         {
          "arrowhead": 1,
          "ax": -10,
          "ay": -10,
          "font": {
           "color": "black",
           "size": 10
          },
          "showarrow": false,
          "text": "140",
          "x": 149,
          "xanchor": "right",
          "xshift": 30,
          "y": 474.5,
          "yanchor": "bottom"
         },
         {
          "arrowhead": 1,
          "ax": -10,
          "ay": -10,
          "font": {
           "color": "black",
           "size": 10
          },
          "showarrow": false,
          "text": "118",
          "x": 92.5,
          "xanchor": "right",
          "xshift": 30,
          "y": 451,
          "yanchor": "bottom"
         },
         {
          "arrowhead": 1,
          "ax": -10,
          "ay": -10,
          "font": {
           "color": "black",
           "size": 10
          },
          "showarrow": false,
          "text": "85",
          "x": 428,
          "xanchor": "right",
          "xshift": 30,
          "y": 338.5,
          "yanchor": "bottom"
         },
         {
          "arrowhead": 1,
          "ax": -10,
          "ay": -10,
          "font": {
           "color": "black",
           "size": 10
          },
          "showarrow": false,
          "text": "101",
          "x": 360,
          "xanchor": "right",
          "xshift": 30,
          "y": 347.5,
          "yanchor": "bottom"
         },
         {
          "arrowhead": 1,
          "ax": -10,
          "ay": -10,
          "font": {
           "color": "black",
           "size": 10
          },
          "showarrow": false,
          "text": "90",
          "x": 387.5,
          "xanchor": "right",
          "xshift": 30,
          "y": 298.5,
          "yanchor": "bottom"
         },
         {
          "arrowhead": 1,
          "ax": -10,
          "ay": -10,
          "font": {
           "color": "black",
           "size": 10
          },
          "showarrow": false,
          "text": "211",
          "x": 352.5,
          "xanchor": "right",
          "xshift": 30,
          "y": 388,
          "yanchor": "bottom"
         },
         {
          "arrowhead": 1,
          "ax": -10,
          "ay": -10,
          "font": {
           "color": "black",
           "size": 10
          },
          "showarrow": false,
          "text": "120",
          "x": 209,
          "xanchor": "right",
          "xshift": 30,
          "y": 293.5,
          "yanchor": "bottom"
         },
         {
          "arrowhead": 1,
          "ax": -10,
          "ay": -10,
          "font": {
           "color": "black",
           "size": 10
          },
          "showarrow": false,
          "text": "146",
          "x": 243,
          "xanchor": "right",
          "xshift": 30,
          "y": 349,
          "yanchor": "bottom"
         },
         {
          "arrowhead": 1,
          "ax": -10,
          "ay": -10,
          "font": {
           "color": "black",
           "size": 10
          },
          "showarrow": false,
          "text": "138",
          "x": 286.5,
          "xanchor": "right",
          "xshift": 30,
          "y": 328,
          "yanchor": "bottom"
         },
         {
          "arrowhead": 1,
          "ax": -10,
          "ay": -10,
          "font": {
           "color": "black",
           "size": 10
          },
          "showarrow": false,
          "text": "75",
          "x": 166.5,
          "xanchor": "right",
          "xshift": 30,
          "y": 319,
          "yanchor": "bottom"
         },
         {
          "arrowhead": 1,
          "ax": -10,
          "ay": -10,
          "font": {
           "color": "black",
           "size": 10
          },
          "showarrow": false,
          "text": "86",
          "x": 548,
          "xanchor": "right",
          "xshift": 30,
          "y": 321.5,
          "yanchor": "bottom"
         },
         {
          "arrowhead": 1,
          "ax": -10,
          "ay": -10,
          "font": {
           "color": "black",
           "size": 10
          },
          "showarrow": false,
          "text": "99",
          "x": 256,
          "xanchor": "right",
          "xshift": 30,
          "y": 453,
          "yanchor": "bottom"
         },
         {
          "arrowhead": 1,
          "ax": -10,
          "ay": -10,
          "font": {
           "color": "black",
           "size": 10
          },
          "showarrow": false,
          "text": "98",
          "x": 495,
          "xanchor": "right",
          "xshift": 30,
          "y": 350,
          "yanchor": "bottom"
         },
         {
          "arrowhead": 1,
          "ax": -10,
          "ay": -10,
          "font": {
           "color": "black",
           "size": 10
          },
          "showarrow": false,
          "text": "92",
          "x": 491,
          "xanchor": "right",
          "xshift": 30,
          "y": 475,
          "yanchor": "bottom"
         },
         {
          "arrowhead": 1,
          "ax": -10,
          "ay": -10,
          "font": {
           "color": "black",
           "size": 10
          },
          "showarrow": false,
          "text": "87",
          "x": 439.5,
          "xanchor": "right",
          "xshift": 30,
          "y": 521.5,
          "yanchor": "bottom"
         },
         {
          "arrowhead": 1,
          "ax": -10,
          "ay": -10,
          "font": {
           "color": "black",
           "size": 10
          },
          "showarrow": false,
          "text": "111",
          "x": 129.5,
          "xanchor": "right",
          "xshift": 30,
          "y": 394.5,
          "yanchor": "bottom"
         },
         {
          "arrowhead": 1,
          "ax": -10,
          "ay": -10,
          "font": {
           "color": "black",
           "size": 10
          },
          "showarrow": false,
          "text": "70",
          "x": 166.5,
          "xanchor": "right",
          "xshift": 30,
          "y": 359,
          "yanchor": "bottom"
         },
         {
          "arrowhead": 1,
          "ax": -10,
          "ay": -10,
          "font": {
           "color": "black",
           "size": 10
          },
          "showarrow": false,
          "text": "71",
          "x": 119.5,
          "xanchor": "right",
          "xshift": 30,
          "y": 551,
          "yanchor": "bottom"
         },
         {
          "arrowhead": 1,
          "ax": -10,
          "ay": -10,
          "font": {
           "color": "black",
           "size": 10
          },
          "showarrow": false,
          "text": "151",
          "x": 169,
          "xanchor": "right",
          "xshift": 30,
          "y": 514,
          "yanchor": "bottom"
         },
         {
          "arrowhead": 1,
          "ax": -10,
          "ay": -10,
          "font": {
           "color": "black",
           "size": 10
          },
          "showarrow": false,
          "text": "97",
          "x": 276.5,
          "xanchor": "right",
          "xshift": 30,
          "y": 389,
          "yanchor": "bottom"
         },
         {
          "arrowhead": 1,
          "ax": -10,
          "ay": -10,
          "font": {
           "color": "black",
           "size": 10
          },
          "showarrow": false,
          "text": "80",
          "x": 220,
          "xanchor": "right",
          "xshift": 30,
          "y": 433.5,
          "yanchor": "bottom"
         },
         {
          "arrowhead": 1,
          "ax": -10,
          "ay": -10,
          "font": {
           "color": "black",
           "size": 10
          },
          "showarrow": false,
          "text": "142",
          "x": 482.5,
          "xanchor": "right",
          "xshift": 30,
          "y": 397,
          "yanchor": "bottom"
         }
        ],
        "autosize": true,
        "hovermode": "closest",
        "margin": {
         "b": 20,
         "l": 5,
         "r": 5,
         "t": 50
        },
        "showlegend": false,
        "template": {
         "data": {
          "bar": [
           {
            "error_x": {
             "color": "#2a3f5f"
            },
            "error_y": {
             "color": "#2a3f5f"
            },
            "marker": {
             "line": {
              "color": "#E5ECF6",
              "width": 0.5
             }
            },
            "type": "bar"
           }
          ],
          "barpolar": [
           {
            "marker": {
             "line": {
              "color": "#E5ECF6",
              "width": 0.5
             }
            },
            "type": "barpolar"
           }
          ],
          "carpet": [
           {
            "aaxis": {
             "endlinecolor": "#2a3f5f",
             "gridcolor": "white",
             "linecolor": "white",
             "minorgridcolor": "white",
             "startlinecolor": "#2a3f5f"
            },
            "baxis": {
             "endlinecolor": "#2a3f5f",
             "gridcolor": "white",
             "linecolor": "white",
             "minorgridcolor": "white",
             "startlinecolor": "#2a3f5f"
            },
            "type": "carpet"
           }
          ],
          "choropleth": [
           {
            "colorbar": {
             "outlinewidth": 0,
             "ticks": ""
            },
            "type": "choropleth"
           }
          ],
          "contour": [
           {
            "colorbar": {
             "outlinewidth": 0,
             "ticks": ""
            },
            "colorscale": [
             [
              0,
              "#0d0887"
             ],
             [
              0.1111111111111111,
              "#46039f"
             ],
             [
              0.2222222222222222,
              "#7201a8"
             ],
             [
              0.3333333333333333,
              "#9c179e"
             ],
             [
              0.4444444444444444,
              "#bd3786"
             ],
             [
              0.5555555555555556,
              "#d8576b"
             ],
             [
              0.6666666666666666,
              "#ed7953"
             ],
             [
              0.7777777777777778,
              "#fb9f3a"
             ],
             [
              0.8888888888888888,
              "#fdca26"
             ],
             [
              1,
              "#f0f921"
             ]
            ],
            "type": "contour"
           }
          ],
          "contourcarpet": [
           {
            "colorbar": {
             "outlinewidth": 0,
             "ticks": ""
            },
            "type": "contourcarpet"
           }
          ],
          "heatmap": [
           {
            "colorbar": {
             "outlinewidth": 0,
             "ticks": ""
            },
            "colorscale": [
             [
              0,
              "#0d0887"
             ],
             [
              0.1111111111111111,
              "#46039f"
             ],
             [
              0.2222222222222222,
              "#7201a8"
             ],
             [
              0.3333333333333333,
              "#9c179e"
             ],
             [
              0.4444444444444444,
              "#bd3786"
             ],
             [
              0.5555555555555556,
              "#d8576b"
             ],
             [
              0.6666666666666666,
              "#ed7953"
             ],
             [
              0.7777777777777778,
              "#fb9f3a"
             ],
             [
              0.8888888888888888,
              "#fdca26"
             ],
             [
              1,
              "#f0f921"
             ]
            ],
            "type": "heatmap"
           }
          ],
          "heatmapgl": [
           {
            "colorbar": {
             "outlinewidth": 0,
             "ticks": ""
            },
            "colorscale": [
             [
              0,
              "#0d0887"
             ],
             [
              0.1111111111111111,
              "#46039f"
             ],
             [
              0.2222222222222222,
              "#7201a8"
             ],
             [
              0.3333333333333333,
              "#9c179e"
             ],
             [
              0.4444444444444444,
              "#bd3786"
             ],
             [
              0.5555555555555556,
              "#d8576b"
             ],
             [
              0.6666666666666666,
              "#ed7953"
             ],
             [
              0.7777777777777778,
              "#fb9f3a"
             ],
             [
              0.8888888888888888,
              "#fdca26"
             ],
             [
              1,
              "#f0f921"
             ]
            ],
            "type": "heatmapgl"
           }
          ],
          "histogram": [
           {
            "marker": {
             "colorbar": {
              "outlinewidth": 0,
              "ticks": ""
             }
            },
            "type": "histogram"
           }
          ],
          "histogram2d": [
           {
            "colorbar": {
             "outlinewidth": 0,
             "ticks": ""
            },
            "colorscale": [
             [
              0,
              "#0d0887"
             ],
             [
              0.1111111111111111,
              "#46039f"
             ],
             [
              0.2222222222222222,
              "#7201a8"
             ],
             [
              0.3333333333333333,
              "#9c179e"
             ],
             [
              0.4444444444444444,
              "#bd3786"
             ],
             [
              0.5555555555555556,
              "#d8576b"
             ],
             [
              0.6666666666666666,
              "#ed7953"
             ],
             [
              0.7777777777777778,
              "#fb9f3a"
             ],
             [
              0.8888888888888888,
              "#fdca26"
             ],
             [
              1,
              "#f0f921"
             ]
            ],
            "type": "histogram2d"
           }
          ],
          "histogram2dcontour": [
           {
            "colorbar": {
             "outlinewidth": 0,
             "ticks": ""
            },
            "colorscale": [
             [
              0,
              "#0d0887"
             ],
             [
              0.1111111111111111,
              "#46039f"
             ],
             [
              0.2222222222222222,
              "#7201a8"
             ],
             [
              0.3333333333333333,
              "#9c179e"
             ],
             [
              0.4444444444444444,
              "#bd3786"
             ],
             [
              0.5555555555555556,
              "#d8576b"
             ],
             [
              0.6666666666666666,
              "#ed7953"
             ],
             [
              0.7777777777777778,
              "#fb9f3a"
             ],
             [
              0.8888888888888888,
              "#fdca26"
             ],
             [
              1,
              "#f0f921"
             ]
            ],
            "type": "histogram2dcontour"
           }
          ],
          "mesh3d": [
           {
            "colorbar": {
             "outlinewidth": 0,
             "ticks": ""
            },
            "type": "mesh3d"
           }
          ],
          "parcoords": [
           {
            "line": {
             "colorbar": {
              "outlinewidth": 0,
              "ticks": ""
             }
            },
            "type": "parcoords"
           }
          ],
          "pie": [
           {
            "automargin": true,
            "type": "pie"
           }
          ],
          "scatter": [
           {
            "marker": {
             "colorbar": {
              "outlinewidth": 0,
              "ticks": ""
             }
            },
            "type": "scatter"
           }
          ],
          "scatter3d": [
           {
            "line": {
             "colorbar": {
              "outlinewidth": 0,
              "ticks": ""
             }
            },
            "marker": {
             "colorbar": {
              "outlinewidth": 0,
              "ticks": ""
             }
            },
            "type": "scatter3d"
           }
          ],
          "scattercarpet": [
           {
            "marker": {
             "colorbar": {
              "outlinewidth": 0,
              "ticks": ""
             }
            },
            "type": "scattercarpet"
           }
          ],
          "scattergeo": [
           {
            "marker": {
             "colorbar": {
              "outlinewidth": 0,
              "ticks": ""
             }
            },
            "type": "scattergeo"
           }
          ],
          "scattergl": [
           {
            "marker": {
             "colorbar": {
              "outlinewidth": 0,
              "ticks": ""
             }
            },
            "type": "scattergl"
           }
          ],
          "scattermapbox": [
           {
            "marker": {
             "colorbar": {
              "outlinewidth": 0,
              "ticks": ""
             }
            },
            "type": "scattermapbox"
           }
          ],
          "scatterpolar": [
           {
            "marker": {
             "colorbar": {
              "outlinewidth": 0,
              "ticks": ""
             }
            },
            "type": "scatterpolar"
           }
          ],
          "scatterpolargl": [
           {
            "marker": {
             "colorbar": {
              "outlinewidth": 0,
              "ticks": ""
             }
            },
            "type": "scatterpolargl"
           }
          ],
          "scatterternary": [
           {
            "marker": {
             "colorbar": {
              "outlinewidth": 0,
              "ticks": ""
             }
            },
            "type": "scatterternary"
           }
          ],
          "surface": [
           {
            "colorbar": {
             "outlinewidth": 0,
             "ticks": ""
            },
            "colorscale": [
             [
              0,
              "#0d0887"
             ],
             [
              0.1111111111111111,
              "#46039f"
             ],
             [
              0.2222222222222222,
              "#7201a8"
             ],
             [
              0.3333333333333333,
              "#9c179e"
             ],
             [
              0.4444444444444444,
              "#bd3786"
             ],
             [
              0.5555555555555556,
              "#d8576b"
             ],
             [
              0.6666666666666666,
              "#ed7953"
             ],
             [
              0.7777777777777778,
              "#fb9f3a"
             ],
             [
              0.8888888888888888,
              "#fdca26"
             ],
             [
              1,
              "#f0f921"
             ]
            ],
            "type": "surface"
           }
          ],
          "table": [
           {
            "cells": {
             "fill": {
              "color": "#EBF0F8"
             },
             "line": {
              "color": "white"
             }
            },
            "header": {
             "fill": {
              "color": "#C8D4E3"
             },
             "line": {
              "color": "white"
             }
            },
            "type": "table"
           }
          ]
         },
         "layout": {
          "annotationdefaults": {
           "arrowcolor": "#2a3f5f",
           "arrowhead": 0,
           "arrowwidth": 1
          },
          "coloraxis": {
           "colorbar": {
            "outlinewidth": 0,
            "ticks": ""
           }
          },
          "colorscale": {
           "diverging": [
            [
             0,
             "#8e0152"
            ],
            [
             0.1,
             "#c51b7d"
            ],
            [
             0.2,
             "#de77ae"
            ],
            [
             0.3,
             "#f1b6da"
            ],
            [
             0.4,
             "#fde0ef"
            ],
            [
             0.5,
             "#f7f7f7"
            ],
            [
             0.6,
             "#e6f5d0"
            ],
            [
             0.7,
             "#b8e186"
            ],
            [
             0.8,
             "#7fbc41"
            ],
            [
             0.9,
             "#4d9221"
            ],
            [
             1,
             "#276419"
            ]
           ],
           "sequential": [
            [
             0,
             "#0d0887"
            ],
            [
             0.1111111111111111,
             "#46039f"
            ],
            [
             0.2222222222222222,
             "#7201a8"
            ],
            [
             0.3333333333333333,
             "#9c179e"
            ],
            [
             0.4444444444444444,
             "#bd3786"
            ],
            [
             0.5555555555555556,
             "#d8576b"
            ],
            [
             0.6666666666666666,
             "#ed7953"
            ],
            [
             0.7777777777777778,
             "#fb9f3a"
            ],
            [
             0.8888888888888888,
             "#fdca26"
            ],
            [
             1,
             "#f0f921"
            ]
           ],
           "sequentialminus": [
            [
             0,
             "#0d0887"
            ],
            [
             0.1111111111111111,
             "#46039f"
            ],
            [
             0.2222222222222222,
             "#7201a8"
            ],
            [
             0.3333333333333333,
             "#9c179e"
            ],
            [
             0.4444444444444444,
             "#bd3786"
            ],
            [
             0.5555555555555556,
             "#d8576b"
            ],
            [
             0.6666666666666666,
             "#ed7953"
            ],
            [
             0.7777777777777778,
             "#fb9f3a"
            ],
            [
             0.8888888888888888,
             "#fdca26"
            ],
            [
             1,
             "#f0f921"
            ]
           ]
          },
          "colorway": [
           "#636efa",
           "#EF553B",
           "#00cc96",
           "#ab63fa",
           "#FFA15A",
           "#19d3f3",
           "#FF6692",
           "#B6E880",
           "#FF97FF",
           "#FECB52"
          ],
          "font": {
           "color": "#2a3f5f"
          },
          "geo": {
           "bgcolor": "white",
           "lakecolor": "white",
           "landcolor": "#E5ECF6",
           "showlakes": true,
           "showland": true,
           "subunitcolor": "white"
          },
          "hoverlabel": {
           "align": "left"
          },
          "hovermode": "closest",
          "mapbox": {
           "style": "light"
          },
          "paper_bgcolor": "white",
          "plot_bgcolor": "#E5ECF6",
          "polar": {
           "angularaxis": {
            "gridcolor": "white",
            "linecolor": "white",
            "ticks": ""
           },
           "bgcolor": "#E5ECF6",
           "radialaxis": {
            "gridcolor": "white",
            "linecolor": "white",
            "ticks": ""
           }
          },
          "scene": {
           "xaxis": {
            "backgroundcolor": "#E5ECF6",
            "gridcolor": "white",
            "gridwidth": 2,
            "linecolor": "white",
            "showbackground": true,
            "ticks": "",
            "zerolinecolor": "white"
           },
           "yaxis": {
            "backgroundcolor": "#E5ECF6",
            "gridcolor": "white",
            "gridwidth": 2,
            "linecolor": "white",
            "showbackground": true,
            "ticks": "",
            "zerolinecolor": "white"
           },
           "zaxis": {
            "backgroundcolor": "#E5ECF6",
            "gridcolor": "white",
            "gridwidth": 2,
            "linecolor": "white",
            "showbackground": true,
            "ticks": "",
            "zerolinecolor": "white"
           }
          },
          "shapedefaults": {
           "line": {
            "color": "#2a3f5f"
           }
          },
          "ternary": {
           "aaxis": {
            "gridcolor": "white",
            "linecolor": "white",
            "ticks": ""
           },
           "baxis": {
            "gridcolor": "white",
            "linecolor": "white",
            "ticks": ""
           },
           "bgcolor": "#E5ECF6",
           "caxis": {
            "gridcolor": "white",
            "linecolor": "white",
            "ticks": ""
           }
          },
          "title": {
           "x": 0.05
          },
          "xaxis": {
           "automargin": true,
           "gridcolor": "white",
           "linecolor": "white",
           "ticks": "",
           "title": {
            "standoff": 15
           },
           "zerolinecolor": "white",
           "zerolinewidth": 2
          },
          "yaxis": {
           "automargin": true,
           "gridcolor": "white",
           "linecolor": "white",
           "ticks": "",
           "title": {
            "standoff": 15
           },
           "zerolinecolor": "white",
           "zerolinewidth": 2
          }
         }
        },
        "title": {
         "font": {
          "size": 16
         },
         "text": "<br>Romania Pathfinding Problem"
        },
        "xaxis": {
         "showgrid": false,
         "showticklabels": false,
         "zeroline": false
        },
        "yaxis": {
         "showgrid": false,
         "showticklabels": false,
         "zeroline": false
        }
       }
      },
      "text/html": [
       "<div>\n",
       "        \n",
       "        \n",
       "            <div id=\"bf4c2e4b-d73f-4f79-a514-70b66c58ee9c\" class=\"plotly-graph-div\" style=\"height:525px; width:100%;\"></div>\n",
       "            <script type=\"text/javascript\">\n",
       "                require([\"plotly\"], function(Plotly) {\n",
       "                    window.PLOTLYENV=window.PLOTLYENV || {};\n",
       "                    \n",
       "                if (document.getElementById(\"bf4c2e4b-d73f-4f79-a514-70b66c58ee9c\")) {\n",
       "                    Plotly.newPlot(\n",
       "                        'bf4c2e4b-d73f-4f79-a514-70b66c58ee9c',\n",
       "                        [{\"hoverinfo\": \"text\", \"line\": {\"color\": \"#888\", \"width\": 0.5}, \"mode\": \"lines\", \"text\": [\"75\", \"140\", \"118\", \"85\", \"101\", \"90\", \"211\", \"120\", \"146\", \"138\", \"75\", \"86\", \"99\", \"98\", \"92\", \"87\", \"111\", \"70\", \"71\", \"151\", \"97\", \"80\", \"142\"], \"type\": \"scatter\", \"x\": [91, 108, null, 91, 207, null, 91, 94, null, 400, 456, null, 400, 320, null, 400, 375, null, 400, 305, null, 253, 165, null, 253, 233, null, 253, 320, null, 165, 168, null, 562, 534, null, 305, 207, null, 534, 456, null, 473, 509, null, 473, 406, null, 165, 94, null, 165, 168, null, 131, 108, null, 131, 207, null, 320, 233, null, 233, 207, null, 456, 509, null], \"y\": [492, 531, null, 492, 457, null, 492, 410, null, 327, 350, null, 327, 368, null, 327, 270, null, 327, 449, null, 288, 299, null, 288, 410, null, 288, 368, null, 299, 339, null, 293, 350, null, 449, 457, null, 350, 350, null, 506, 444, null, 506, 537, null, 379, 410, null, 379, 339, null, 571, 531, null, 571, 457, null, 368, 410, null, 410, 457, null, 350, 444, null]}, {\"hoverinfo\": \"text\", \"marker\": {\"color\": [\"#FFA15A\", \"#EF553B\", \"#636EFA\", \"#636EFA\", \"#636EFA\", \"#636EFA\", \"#636EFA\", \"#636EFA\", \"#636EFA\", \"#636EFA\", \"#00CC96\", \"#00CC96\", \"#636EFA\", \"#636EFA\", \"#00CC96\", \"#636EFA\", \"#636EFA\", \"#636EFA\", \"#636EFA\", \"#636EFA\"], \"line\": {\"width\": 2}, \"showscale\": false, \"size\": 10}, \"mode\": \"markers\", \"text\": [\"Distance to Goal: 500\", \"Distance to Goal: 500\", \"Distance to Goal: 500\", \"Distance to Goal: 500\", \"Distance to Goal: 500\", \"Distance to Goal: 500\", \"Distance to Goal: 500\", \"Distance to Goal: 500\", \"Distance to Goal: 500\", \"Distance to Goal: 500\", \"Distance to Goal: 500\", \"Distance to Goal: 500\", \"Distance to Goal: 500\", \"Distance to Goal: 500\", \"Distance to Goal: 500\", \"Distance to Goal: 500\", \"Distance to Goal: 500\", \"Distance to Goal: 500\", \"Distance to Goal: 500\", \"Distance to Goal: 500\"], \"type\": \"scatter\", \"x\": [91, 400, 253, 165, 562, 305, 534, 473, 165, 131, 320, 233, 456, 108, 207, 94, 375, 168, 509, 406], \"y\": [492, 327, 288, 299, 293, 449, 350, 506, 379, 571, 368, 410, 350, 531, 457, 410, 270, 339, 444, 537]}],\n",
       "                        {\"annotations\": [{\"arrowhead\": 1, \"ax\": -10, \"ay\": -10, \"font\": {\"color\": \"black\", \"size\": 10}, \"showarrow\": false, \"text\": \"Arad\", \"x\": 99, \"xanchor\": \"right\", \"xshift\": 10, \"y\": 497, \"yanchor\": \"bottom\"}, {\"arrowhead\": 1, \"ax\": -10, \"ay\": -10, \"font\": {\"color\": \"black\", \"size\": 10}, \"showarrow\": false, \"text\": \"Bucharest\", \"x\": 408, \"xanchor\": \"right\", \"xshift\": 10, \"y\": 332, \"yanchor\": \"bottom\"}, {\"arrowhead\": 1, \"ax\": -10, \"ay\": -10, \"font\": {\"color\": \"black\", \"size\": 10}, \"showarrow\": false, \"text\": \"Craiova\", \"x\": 261, \"xanchor\": \"right\", \"xshift\": 10, \"y\": 293, \"yanchor\": \"bottom\"}, {\"arrowhead\": 1, \"ax\": -10, \"ay\": -10, \"font\": {\"color\": \"black\", \"size\": 10}, \"showarrow\": false, \"text\": \"Drobeta\", \"x\": 173, \"xanchor\": \"right\", \"xshift\": 10, \"y\": 304, \"yanchor\": \"bottom\"}, {\"arrowhead\": 1, \"ax\": -10, \"ay\": -10, \"font\": {\"color\": \"black\", \"size\": 10}, \"showarrow\": false, \"text\": \"Eforie\", \"x\": 570, \"xanchor\": \"right\", \"xshift\": 10, \"y\": 298, \"yanchor\": \"bottom\"}, {\"arrowhead\": 1, \"ax\": -10, \"ay\": -10, \"font\": {\"color\": \"black\", \"size\": 10}, \"showarrow\": false, \"text\": \"Fagaras\", \"x\": 313, \"xanchor\": \"right\", \"xshift\": 10, \"y\": 454, \"yanchor\": \"bottom\"}, {\"arrowhead\": 1, \"ax\": -10, \"ay\": -10, \"font\": {\"color\": \"black\", \"size\": 10}, \"showarrow\": false, \"text\": \"Hirsova\", \"x\": 542, \"xanchor\": \"right\", \"xshift\": 10, \"y\": 355, \"yanchor\": \"bottom\"}, {\"arrowhead\": 1, \"ax\": -10, \"ay\": -10, \"font\": {\"color\": \"black\", \"size\": 10}, \"showarrow\": false, \"text\": \"Iasi\", \"x\": 481, \"xanchor\": \"right\", \"xshift\": 10, \"y\": 511, \"yanchor\": \"bottom\"}, {\"arrowhead\": 1, \"ax\": -10, \"ay\": -10, \"font\": {\"color\": \"black\", \"size\": 10}, \"showarrow\": false, \"text\": \"Lugoj\", \"x\": 173, \"xanchor\": \"right\", \"xshift\": 10, \"y\": 384, \"yanchor\": \"bottom\"}, {\"arrowhead\": 1, \"ax\": -10, \"ay\": -10, \"font\": {\"color\": \"black\", \"size\": 10}, \"showarrow\": false, \"text\": \"Oradea\", \"x\": 139, \"xanchor\": \"right\", \"xshift\": 10, \"y\": 576, \"yanchor\": \"bottom\"}, {\"arrowhead\": 1, \"ax\": -10, \"ay\": -10, \"font\": {\"color\": \"black\", \"size\": 10}, \"showarrow\": false, \"text\": \"Pitesti\", \"x\": 328, \"xanchor\": \"right\", \"xshift\": 10, \"y\": 373, \"yanchor\": \"bottom\"}, {\"arrowhead\": 1, \"ax\": -10, \"ay\": -10, \"font\": {\"color\": \"black\", \"size\": 10}, \"showarrow\": false, \"text\": \"Rimnicu\", \"x\": 241, \"xanchor\": \"right\", \"xshift\": 10, \"y\": 415, \"yanchor\": \"bottom\"}, {\"arrowhead\": 1, \"ax\": -10, \"ay\": -10, \"font\": {\"color\": \"black\", \"size\": 10}, \"showarrow\": false, \"text\": \"Urziceni\", \"x\": 464, \"xanchor\": \"right\", \"xshift\": 10, \"y\": 355, \"yanchor\": \"bottom\"}, {\"arrowhead\": 1, \"ax\": -10, \"ay\": -10, \"font\": {\"color\": \"black\", \"size\": 10}, \"showarrow\": false, \"text\": \"Zerind\", \"x\": 116, \"xanchor\": \"right\", \"xshift\": 10, \"y\": 536, \"yanchor\": \"bottom\"}, {\"arrowhead\": 1, \"ax\": -10, \"ay\": -10, \"font\": {\"color\": \"black\", \"size\": 10}, \"showarrow\": false, \"text\": \"Sibiu\", \"x\": 215, \"xanchor\": \"right\", \"xshift\": 10, \"y\": 462, \"yanchor\": \"bottom\"}, {\"arrowhead\": 1, \"ax\": -10, \"ay\": -10, \"font\": {\"color\": \"black\", \"size\": 10}, \"showarrow\": false, \"text\": \"Timisoara\", \"x\": 102, \"xanchor\": \"right\", \"xshift\": 10, \"y\": 415, \"yanchor\": \"bottom\"}, {\"arrowhead\": 1, \"ax\": -10, \"ay\": -10, \"font\": {\"color\": \"black\", \"size\": 10}, \"showarrow\": false, \"text\": \"Giurgiu\", \"x\": 383, \"xanchor\": \"right\", \"xshift\": 10, \"y\": 275, \"yanchor\": \"bottom\"}, {\"arrowhead\": 1, \"ax\": -10, \"ay\": -10, \"font\": {\"color\": \"black\", \"size\": 10}, \"showarrow\": false, \"text\": \"Mehadia\", \"x\": 176, \"xanchor\": \"right\", \"xshift\": 10, \"y\": 344, \"yanchor\": \"bottom\"}, {\"arrowhead\": 1, \"ax\": -10, \"ay\": -10, \"font\": {\"color\": \"black\", \"size\": 10}, \"showarrow\": false, \"text\": \"Vaslui\", \"x\": 517, \"xanchor\": \"right\", \"xshift\": 10, \"y\": 449, \"yanchor\": \"bottom\"}, {\"arrowhead\": 1, \"ax\": -10, \"ay\": -10, \"font\": {\"color\": \"black\", \"size\": 10}, \"showarrow\": false, \"text\": \"Neamt\", \"x\": 414, \"xanchor\": \"right\", \"xshift\": 10, \"y\": 542, \"yanchor\": \"bottom\"}, {\"arrowhead\": 1, \"ax\": -10, \"ay\": -10, \"font\": {\"color\": \"black\", \"size\": 10}, \"showarrow\": false, \"text\": \"75\", \"x\": 99.5, \"xanchor\": \"right\", \"xshift\": 30, \"y\": 511.5, \"yanchor\": \"bottom\"}, {\"arrowhead\": 1, \"ax\": -10, \"ay\": -10, \"font\": {\"color\": \"black\", \"size\": 10}, \"showarrow\": false, \"text\": \"140\", \"x\": 149.0, \"xanchor\": \"right\", \"xshift\": 30, \"y\": 474.5, \"yanchor\": \"bottom\"}, {\"arrowhead\": 1, \"ax\": -10, \"ay\": -10, \"font\": {\"color\": \"black\", \"size\": 10}, \"showarrow\": false, \"text\": \"118\", \"x\": 92.5, \"xanchor\": \"right\", \"xshift\": 30, \"y\": 451.0, \"yanchor\": \"bottom\"}, {\"arrowhead\": 1, \"ax\": -10, \"ay\": -10, \"font\": {\"color\": \"black\", \"size\": 10}, \"showarrow\": false, \"text\": \"85\", \"x\": 428.0, \"xanchor\": \"right\", \"xshift\": 30, \"y\": 338.5, \"yanchor\": \"bottom\"}, {\"arrowhead\": 1, \"ax\": -10, \"ay\": -10, \"font\": {\"color\": \"black\", \"size\": 10}, \"showarrow\": false, \"text\": \"101\", \"x\": 360.0, \"xanchor\": \"right\", \"xshift\": 30, \"y\": 347.5, \"yanchor\": \"bottom\"}, {\"arrowhead\": 1, \"ax\": -10, \"ay\": -10, \"font\": {\"color\": \"black\", \"size\": 10}, \"showarrow\": false, \"text\": \"90\", \"x\": 387.5, \"xanchor\": \"right\", \"xshift\": 30, \"y\": 298.5, \"yanchor\": \"bottom\"}, {\"arrowhead\": 1, \"ax\": -10, \"ay\": -10, \"font\": {\"color\": \"black\", \"size\": 10}, \"showarrow\": false, \"text\": \"211\", \"x\": 352.5, \"xanchor\": \"right\", \"xshift\": 30, \"y\": 388.0, \"yanchor\": \"bottom\"}, {\"arrowhead\": 1, \"ax\": -10, \"ay\": -10, \"font\": {\"color\": \"black\", \"size\": 10}, \"showarrow\": false, \"text\": \"120\", \"x\": 209.0, \"xanchor\": \"right\", \"xshift\": 30, \"y\": 293.5, \"yanchor\": \"bottom\"}, {\"arrowhead\": 1, \"ax\": -10, \"ay\": -10, \"font\": {\"color\": \"black\", \"size\": 10}, \"showarrow\": false, \"text\": \"146\", \"x\": 243.0, \"xanchor\": \"right\", \"xshift\": 30, \"y\": 349.0, \"yanchor\": \"bottom\"}, {\"arrowhead\": 1, \"ax\": -10, \"ay\": -10, \"font\": {\"color\": \"black\", \"size\": 10}, \"showarrow\": false, \"text\": \"138\", \"x\": 286.5, \"xanchor\": \"right\", \"xshift\": 30, \"y\": 328.0, \"yanchor\": \"bottom\"}, {\"arrowhead\": 1, \"ax\": -10, \"ay\": -10, \"font\": {\"color\": \"black\", \"size\": 10}, \"showarrow\": false, \"text\": \"75\", \"x\": 166.5, \"xanchor\": \"right\", \"xshift\": 30, \"y\": 319.0, \"yanchor\": \"bottom\"}, {\"arrowhead\": 1, \"ax\": -10, \"ay\": -10, \"font\": {\"color\": \"black\", \"size\": 10}, \"showarrow\": false, \"text\": \"86\", \"x\": 548.0, \"xanchor\": \"right\", \"xshift\": 30, \"y\": 321.5, \"yanchor\": \"bottom\"}, {\"arrowhead\": 1, \"ax\": -10, \"ay\": -10, \"font\": {\"color\": \"black\", \"size\": 10}, \"showarrow\": false, \"text\": \"99\", \"x\": 256.0, \"xanchor\": \"right\", \"xshift\": 30, \"y\": 453.0, \"yanchor\": \"bottom\"}, {\"arrowhead\": 1, \"ax\": -10, \"ay\": -10, \"font\": {\"color\": \"black\", \"size\": 10}, \"showarrow\": false, \"text\": \"98\", \"x\": 495.0, \"xanchor\": \"right\", \"xshift\": 30, \"y\": 350.0, \"yanchor\": \"bottom\"}, {\"arrowhead\": 1, \"ax\": -10, \"ay\": -10, \"font\": {\"color\": \"black\", \"size\": 10}, \"showarrow\": false, \"text\": \"92\", \"x\": 491.0, \"xanchor\": \"right\", \"xshift\": 30, \"y\": 475.0, \"yanchor\": \"bottom\"}, {\"arrowhead\": 1, \"ax\": -10, \"ay\": -10, \"font\": {\"color\": \"black\", \"size\": 10}, \"showarrow\": false, \"text\": \"87\", \"x\": 439.5, \"xanchor\": \"right\", \"xshift\": 30, \"y\": 521.5, \"yanchor\": \"bottom\"}, {\"arrowhead\": 1, \"ax\": -10, \"ay\": -10, \"font\": {\"color\": \"black\", \"size\": 10}, \"showarrow\": false, \"text\": \"111\", \"x\": 129.5, \"xanchor\": \"right\", \"xshift\": 30, \"y\": 394.5, \"yanchor\": \"bottom\"}, {\"arrowhead\": 1, \"ax\": -10, \"ay\": -10, \"font\": {\"color\": \"black\", \"size\": 10}, \"showarrow\": false, \"text\": \"70\", \"x\": 166.5, \"xanchor\": \"right\", \"xshift\": 30, \"y\": 359.0, \"yanchor\": \"bottom\"}, {\"arrowhead\": 1, \"ax\": -10, \"ay\": -10, \"font\": {\"color\": \"black\", \"size\": 10}, \"showarrow\": false, \"text\": \"71\", \"x\": 119.5, \"xanchor\": \"right\", \"xshift\": 30, \"y\": 551.0, \"yanchor\": \"bottom\"}, {\"arrowhead\": 1, \"ax\": -10, \"ay\": -10, \"font\": {\"color\": \"black\", \"size\": 10}, \"showarrow\": false, \"text\": \"151\", \"x\": 169.0, \"xanchor\": \"right\", \"xshift\": 30, \"y\": 514.0, \"yanchor\": \"bottom\"}, {\"arrowhead\": 1, \"ax\": -10, \"ay\": -10, \"font\": {\"color\": \"black\", \"size\": 10}, \"showarrow\": false, \"text\": \"97\", \"x\": 276.5, \"xanchor\": \"right\", \"xshift\": 30, \"y\": 389.0, \"yanchor\": \"bottom\"}, {\"arrowhead\": 1, \"ax\": -10, \"ay\": -10, \"font\": {\"color\": \"black\", \"size\": 10}, \"showarrow\": false, \"text\": \"80\", \"x\": 220.0, \"xanchor\": \"right\", \"xshift\": 30, \"y\": 433.5, \"yanchor\": \"bottom\"}, {\"arrowhead\": 1, \"ax\": -10, \"ay\": -10, \"font\": {\"color\": \"black\", \"size\": 10}, \"showarrow\": false, \"text\": \"142\", \"x\": 482.5, \"xanchor\": \"right\", \"xshift\": 30, \"y\": 397.0, \"yanchor\": \"bottom\"}], \"autosize\": true, \"hovermode\": \"closest\", \"margin\": {\"b\": 20, \"l\": 5, \"r\": 5, \"t\": 50}, \"showlegend\": false, \"template\": {\"data\": {\"bar\": [{\"error_x\": {\"color\": \"#2a3f5f\"}, \"error_y\": {\"color\": \"#2a3f5f\"}, \"marker\": {\"line\": {\"color\": \"#E5ECF6\", \"width\": 0.5}}, \"type\": \"bar\"}], \"barpolar\": [{\"marker\": {\"line\": {\"color\": \"#E5ECF6\", \"width\": 0.5}}, \"type\": \"barpolar\"}], \"carpet\": [{\"aaxis\": {\"endlinecolor\": \"#2a3f5f\", \"gridcolor\": \"white\", \"linecolor\": \"white\", \"minorgridcolor\": \"white\", \"startlinecolor\": \"#2a3f5f\"}, \"baxis\": {\"endlinecolor\": \"#2a3f5f\", \"gridcolor\": \"white\", \"linecolor\": \"white\", \"minorgridcolor\": \"white\", \"startlinecolor\": \"#2a3f5f\"}, \"type\": \"carpet\"}], \"choropleth\": [{\"colorbar\": {\"outlinewidth\": 0, \"ticks\": \"\"}, \"type\": \"choropleth\"}], \"contour\": [{\"colorbar\": {\"outlinewidth\": 0, \"ticks\": \"\"}, \"colorscale\": [[0.0, \"#0d0887\"], [0.1111111111111111, \"#46039f\"], [0.2222222222222222, \"#7201a8\"], [0.3333333333333333, \"#9c179e\"], [0.4444444444444444, \"#bd3786\"], [0.5555555555555556, \"#d8576b\"], [0.6666666666666666, \"#ed7953\"], [0.7777777777777778, \"#fb9f3a\"], [0.8888888888888888, \"#fdca26\"], [1.0, \"#f0f921\"]], \"type\": \"contour\"}], \"contourcarpet\": [{\"colorbar\": {\"outlinewidth\": 0, \"ticks\": \"\"}, \"type\": \"contourcarpet\"}], \"heatmap\": [{\"colorbar\": {\"outlinewidth\": 0, \"ticks\": \"\"}, \"colorscale\": [[0.0, \"#0d0887\"], [0.1111111111111111, \"#46039f\"], [0.2222222222222222, \"#7201a8\"], [0.3333333333333333, \"#9c179e\"], [0.4444444444444444, \"#bd3786\"], [0.5555555555555556, \"#d8576b\"], [0.6666666666666666, \"#ed7953\"], [0.7777777777777778, \"#fb9f3a\"], [0.8888888888888888, \"#fdca26\"], [1.0, \"#f0f921\"]], \"type\": \"heatmap\"}], \"heatmapgl\": [{\"colorbar\": {\"outlinewidth\": 0, \"ticks\": \"\"}, \"colorscale\": [[0.0, \"#0d0887\"], [0.1111111111111111, \"#46039f\"], [0.2222222222222222, \"#7201a8\"], [0.3333333333333333, \"#9c179e\"], [0.4444444444444444, \"#bd3786\"], [0.5555555555555556, \"#d8576b\"], [0.6666666666666666, \"#ed7953\"], [0.7777777777777778, \"#fb9f3a\"], [0.8888888888888888, \"#fdca26\"], [1.0, \"#f0f921\"]], \"type\": \"heatmapgl\"}], \"histogram\": [{\"marker\": {\"colorbar\": {\"outlinewidth\": 0, \"ticks\": \"\"}}, \"type\": \"histogram\"}], \"histogram2d\": [{\"colorbar\": {\"outlinewidth\": 0, \"ticks\": \"\"}, \"colorscale\": [[0.0, \"#0d0887\"], [0.1111111111111111, \"#46039f\"], [0.2222222222222222, \"#7201a8\"], [0.3333333333333333, \"#9c179e\"], [0.4444444444444444, \"#bd3786\"], [0.5555555555555556, \"#d8576b\"], [0.6666666666666666, \"#ed7953\"], [0.7777777777777778, \"#fb9f3a\"], [0.8888888888888888, \"#fdca26\"], [1.0, \"#f0f921\"]], \"type\": \"histogram2d\"}], \"histogram2dcontour\": [{\"colorbar\": {\"outlinewidth\": 0, \"ticks\": \"\"}, \"colorscale\": [[0.0, \"#0d0887\"], [0.1111111111111111, \"#46039f\"], [0.2222222222222222, \"#7201a8\"], [0.3333333333333333, \"#9c179e\"], [0.4444444444444444, \"#bd3786\"], [0.5555555555555556, \"#d8576b\"], [0.6666666666666666, \"#ed7953\"], [0.7777777777777778, \"#fb9f3a\"], [0.8888888888888888, \"#fdca26\"], [1.0, \"#f0f921\"]], \"type\": \"histogram2dcontour\"}], \"mesh3d\": [{\"colorbar\": {\"outlinewidth\": 0, \"ticks\": \"\"}, \"type\": \"mesh3d\"}], \"parcoords\": [{\"line\": {\"colorbar\": {\"outlinewidth\": 0, \"ticks\": \"\"}}, \"type\": \"parcoords\"}], \"pie\": [{\"automargin\": true, \"type\": \"pie\"}], \"scatter\": [{\"marker\": {\"colorbar\": {\"outlinewidth\": 0, \"ticks\": \"\"}}, \"type\": \"scatter\"}], \"scatter3d\": [{\"line\": {\"colorbar\": {\"outlinewidth\": 0, \"ticks\": \"\"}}, \"marker\": {\"colorbar\": {\"outlinewidth\": 0, \"ticks\": \"\"}}, \"type\": \"scatter3d\"}], \"scattercarpet\": [{\"marker\": {\"colorbar\": {\"outlinewidth\": 0, \"ticks\": \"\"}}, \"type\": \"scattercarpet\"}], \"scattergeo\": [{\"marker\": {\"colorbar\": {\"outlinewidth\": 0, \"ticks\": \"\"}}, \"type\": \"scattergeo\"}], \"scattergl\": [{\"marker\": {\"colorbar\": {\"outlinewidth\": 0, \"ticks\": \"\"}}, \"type\": \"scattergl\"}], \"scattermapbox\": [{\"marker\": {\"colorbar\": {\"outlinewidth\": 0, \"ticks\": \"\"}}, \"type\": \"scattermapbox\"}], \"scatterpolar\": [{\"marker\": {\"colorbar\": {\"outlinewidth\": 0, \"ticks\": \"\"}}, \"type\": \"scatterpolar\"}], \"scatterpolargl\": [{\"marker\": {\"colorbar\": {\"outlinewidth\": 0, \"ticks\": \"\"}}, \"type\": \"scatterpolargl\"}], \"scatterternary\": [{\"marker\": {\"colorbar\": {\"outlinewidth\": 0, \"ticks\": \"\"}}, \"type\": \"scatterternary\"}], \"surface\": [{\"colorbar\": {\"outlinewidth\": 0, \"ticks\": \"\"}, \"colorscale\": [[0.0, \"#0d0887\"], [0.1111111111111111, \"#46039f\"], [0.2222222222222222, \"#7201a8\"], [0.3333333333333333, \"#9c179e\"], [0.4444444444444444, \"#bd3786\"], [0.5555555555555556, \"#d8576b\"], [0.6666666666666666, \"#ed7953\"], [0.7777777777777778, \"#fb9f3a\"], [0.8888888888888888, \"#fdca26\"], [1.0, \"#f0f921\"]], \"type\": \"surface\"}], \"table\": [{\"cells\": {\"fill\": {\"color\": \"#EBF0F8\"}, \"line\": {\"color\": \"white\"}}, \"header\": {\"fill\": {\"color\": \"#C8D4E3\"}, \"line\": {\"color\": \"white\"}}, \"type\": \"table\"}]}, \"layout\": {\"annotationdefaults\": {\"arrowcolor\": \"#2a3f5f\", \"arrowhead\": 0, \"arrowwidth\": 1}, \"coloraxis\": {\"colorbar\": {\"outlinewidth\": 0, \"ticks\": \"\"}}, \"colorscale\": {\"diverging\": [[0, \"#8e0152\"], [0.1, \"#c51b7d\"], [0.2, \"#de77ae\"], [0.3, \"#f1b6da\"], [0.4, \"#fde0ef\"], [0.5, \"#f7f7f7\"], [0.6, \"#e6f5d0\"], [0.7, \"#b8e186\"], [0.8, \"#7fbc41\"], [0.9, \"#4d9221\"], [1, \"#276419\"]], \"sequential\": [[0.0, \"#0d0887\"], [0.1111111111111111, \"#46039f\"], [0.2222222222222222, \"#7201a8\"], [0.3333333333333333, \"#9c179e\"], [0.4444444444444444, \"#bd3786\"], [0.5555555555555556, \"#d8576b\"], [0.6666666666666666, \"#ed7953\"], [0.7777777777777778, \"#fb9f3a\"], [0.8888888888888888, \"#fdca26\"], [1.0, \"#f0f921\"]], \"sequentialminus\": [[0.0, \"#0d0887\"], [0.1111111111111111, \"#46039f\"], [0.2222222222222222, \"#7201a8\"], [0.3333333333333333, \"#9c179e\"], [0.4444444444444444, \"#bd3786\"], [0.5555555555555556, \"#d8576b\"], [0.6666666666666666, \"#ed7953\"], [0.7777777777777778, \"#fb9f3a\"], [0.8888888888888888, \"#fdca26\"], [1.0, \"#f0f921\"]]}, \"colorway\": [\"#636efa\", \"#EF553B\", \"#00cc96\", \"#ab63fa\", \"#FFA15A\", \"#19d3f3\", \"#FF6692\", \"#B6E880\", \"#FF97FF\", \"#FECB52\"], \"font\": {\"color\": \"#2a3f5f\"}, \"geo\": {\"bgcolor\": \"white\", \"lakecolor\": \"white\", \"landcolor\": \"#E5ECF6\", \"showlakes\": true, \"showland\": true, \"subunitcolor\": \"white\"}, \"hoverlabel\": {\"align\": \"left\"}, \"hovermode\": \"closest\", \"mapbox\": {\"style\": \"light\"}, \"paper_bgcolor\": \"white\", \"plot_bgcolor\": \"#E5ECF6\", \"polar\": {\"angularaxis\": {\"gridcolor\": \"white\", \"linecolor\": \"white\", \"ticks\": \"\"}, \"bgcolor\": \"#E5ECF6\", \"radialaxis\": {\"gridcolor\": \"white\", \"linecolor\": \"white\", \"ticks\": \"\"}}, \"scene\": {\"xaxis\": {\"backgroundcolor\": \"#E5ECF6\", \"gridcolor\": \"white\", \"gridwidth\": 2, \"linecolor\": \"white\", \"showbackground\": true, \"ticks\": \"\", \"zerolinecolor\": \"white\"}, \"yaxis\": {\"backgroundcolor\": \"#E5ECF6\", \"gridcolor\": \"white\", \"gridwidth\": 2, \"linecolor\": \"white\", \"showbackground\": true, \"ticks\": \"\", \"zerolinecolor\": \"white\"}, \"zaxis\": {\"backgroundcolor\": \"#E5ECF6\", \"gridcolor\": \"white\", \"gridwidth\": 2, \"linecolor\": \"white\", \"showbackground\": true, \"ticks\": \"\", \"zerolinecolor\": \"white\"}}, \"shapedefaults\": {\"line\": {\"color\": \"#2a3f5f\"}}, \"ternary\": {\"aaxis\": {\"gridcolor\": \"white\", \"linecolor\": \"white\", \"ticks\": \"\"}, \"baxis\": {\"gridcolor\": \"white\", \"linecolor\": \"white\", \"ticks\": \"\"}, \"bgcolor\": \"#E5ECF6\", \"caxis\": {\"gridcolor\": \"white\", \"linecolor\": \"white\", \"ticks\": \"\"}}, \"title\": {\"x\": 0.05}, \"xaxis\": {\"automargin\": true, \"gridcolor\": \"white\", \"linecolor\": \"white\", \"ticks\": \"\", \"title\": {\"standoff\": 15}, \"zerolinecolor\": \"white\", \"zerolinewidth\": 2}, \"yaxis\": {\"automargin\": true, \"gridcolor\": \"white\", \"linecolor\": \"white\", \"ticks\": \"\", \"title\": {\"standoff\": 15}, \"zerolinecolor\": \"white\", \"zerolinewidth\": 2}}}, \"title\": {\"font\": {\"size\": 16}, \"text\": \"<br>Romania Pathfinding Problem\"}, \"xaxis\": {\"showgrid\": false, \"showticklabels\": false, \"zeroline\": false}, \"yaxis\": {\"showgrid\": false, \"showticklabels\": false, \"zeroline\": false}},\n",
       "                        {\"responsive\": true}\n",
       "                    ).then(function(){\n",
       "                            \n",
       "var gd = document.getElementById('bf4c2e4b-d73f-4f79-a514-70b66c58ee9c');\n",
       "var x = new MutationObserver(function (mutations, observer) {{\n",
       "        var display = window.getComputedStyle(gd).display;\n",
       "        if (!display || display === 'none') {{\n",
       "            console.log([gd, 'removed!']);\n",
       "            Plotly.purge(gd);\n",
       "            observer.disconnect();\n",
       "        }}\n",
       "}});\n",
       "\n",
       "// Listen for the removal of the full notebook cells\n",
       "var notebookContainer = gd.closest('#notebook-container');\n",
       "if (notebookContainer) {{\n",
       "    x.observe(notebookContainer, {childList: true});\n",
       "}}\n",
       "\n",
       "// Listen for the clearing of the current output cell\n",
       "var outputEl = gd.closest('.output');\n",
       "if (outputEl) {{\n",
       "    x.observe(outputEl, {childList: true});\n",
       "}}\n",
       "\n",
       "                        })\n",
       "                };\n",
       "                });\n",
       "            </script>\n",
       "        </div>"
      ]
     },
     "metadata": {},
     "output_type": "display_data"
    }
   ],
   "source": [
    "def uniform_cost_search(graph, start, goal):\n",
    "    \"\"\"\n",
    "    Warm-up exercise: Implement uniform_cost_search.\n",
    "\n",
    "    See README.md for exercise description.\n",
    "\n",
    "    Args:\n",
    "        graph (ExplorableGraph): Undirected graph to search.\n",
    "        start (str): Key for the start node.\n",
    "        goal (str): Key for the end node.\n",
    "\n",
    "    Returns:\n",
    "        The best path as a list from the start and goal nodes (including both).\n",
    "    \"\"\"\n",
    "    #TODO: forgot to add start to visited\n",
    "    #########\n",
    "    \n",
    "    # reset explored nodes on the graph object each time we initiate a search\n",
    "    graph.reset_search() # for debugging purposes\n",
    "#     print(f\"Total Nodes Explored: {sum(list(graph.explored_nodes().values()))}\")\n",
    "    \n",
    "    if start == goal:\n",
    "        return []\n",
    "    \n",
    "    distance = 0 # Use depth as the entry value for prioritizing nodes\n",
    "    visited = []\n",
    "    parent = {}\n",
    "    queue = PriorityQueue()\n",
    "    queue.append((distance, start))\n",
    "    \n",
    "    \n",
    "    while queue.size() > 0:\n",
    "        node = queue.pop()\n",
    "        current_dist = node[0]\n",
    "#         print(f\"Processing Node: {node}\")\n",
    "#         print(\"-------\")\n",
    "        \n",
    "        # Goal check\n",
    "        if node[-1] == goal:\n",
    "#             print(\"Finding route\")\n",
    "#             print(f\"Total cost to goal: {node[0]}\")\n",
    "#             print(f\"Total Nodes Explored: {sum(list(graph.explored_nodes().values()))}\")\n",
    "            return backtrace(parent, start, goal)\n",
    "    \n",
    "        # Check to prevent cycles. Node a is being checked after a --> z --> a\n",
    "        # TODO: Check this logic\n",
    "        if queue.size() > 0 and node[-1] == start:\n",
    "            continue\n",
    "\n",
    "        neighbours = sorted(list(graph.neighbors(node[-1])))\n",
    "#         print(f\"Neighbours {neighbours}\")\n",
    "        for neighbour in neighbours:\n",
    "            path_dist = graph.get_edge_weight(node[-1], neighbour)\n",
    "#             print(f\"Nodes explored: {sum(list(graph.explored_nodes().values()))}\")\n",
    "#             print()\n",
    "#             print(f\"Neighbour: {neighbour} with path distance {path_dist}\")\n",
    "            \n",
    "            new_dist = current_dist + path_dist\n",
    "            \n",
    "            if neighbour not in visited and not any(elem in neighbours for elem in queue):\n",
    "                parent[neighbour] = node\n",
    "                visited.append(neighbour)\n",
    "                queue.append((new_dist, neighbour))\n",
    "\n",
    "            # Append node if it is already in the queue but has a lower cost than a previously explored node\n",
    "            else:\n",
    "                for frontier_node in queue:\n",
    "                    if frontier_node[-1] == neighbour and new_dist < frontier_node[0]:\n",
    "#                         print(f\"Frontier node: {frontier_node}\")\n",
    "#                         print(f\"Queue: {queue}\")\n",
    "                        parent[neighbour] = node\n",
    "                        queue.remove(frontier_node)\n",
    "                        queue.append((new_dist, neighbour))\n",
    "\n",
    "path = uniform_cost_search(graph, start=\"a\", goal=\"b\")\n",
    "path = [*map(city_mapping.get, path)]\n",
    "\n",
    "create_network_map(G, \n",
    "                   start=\"Arad\", \n",
    "                   goal=\"Bucharest\", \n",
    "                   path = path\n",
    ")"
   ]
  },
  {
   "cell_type": "markdown",
   "id": "a70523f6",
   "metadata": {},
   "source": [
    "# A* Search With Different Heuristics"
   ]
  },
  {
   "cell_type": "code",
   "execution_count": 455,
   "id": "cfd212e4",
   "metadata": {},
   "outputs": [
    {
     "name": "stdout",
     "output_type": "stream",
     "text": [
      "391.6490776192381\n"
     ]
    }
   ],
   "source": [
    "def null_heuristic(graph, v, goal):\n",
    "    \"\"\"\n",
    "    Null heuristic used as a base line. Basically becomes Dijkstra's algorithm \n",
    "    instead of A* search\n",
    "\n",
    "    Args:\n",
    "        graph (ExplorableGraph): Undirected graph to search.\n",
    "        v (str): Key for the node to calculate from.\n",
    "        goal (str): Key for the end node to calculate to.\n",
    "\n",
    "    Returns:\n",
    "        0\n",
    "    \"\"\"\n",
    "\n",
    "    return 0\n",
    "\n",
    "\n",
    "def euclidean_dist_heuristic(graph, v, goal):\n",
    "    \"\"\"\n",
    "    Warm-up exercise: Implement the euclidean distance heuristic.\n",
    "\n",
    "    See README.md for exercise description.\n",
    "\n",
    "    Args:\n",
    "        graph (ExplorableGraph): Undirected graph to search.\n",
    "        v (str): Key for the node to calculate from.\n",
    "        goal (str): Key for the end node to calculate to.\n",
    "\n",
    "    Returns:\n",
    "        Euclidean distance between `v` node and `goal` node\n",
    "    \"\"\"\n",
    "    start_x, start_y = graph.nodes[v][\"pos\"]\n",
    "    goal_x, goal_y = graph.nodes[goal][\"pos\"]\n",
    "    \n",
    "    # Calculate heuristic using euclidean distance since we can move in any direction\n",
    "    # Code referenced from here: http://theory.stanford.edu/~amitp/GameProgramming/Heuristics.html\n",
    "    # TODO: not quite sure  about this\n",
    "    dx = abs(start_x - goal_x) ** 2\n",
    "    dy = abs(start_y - goal_y) ** 2\n",
    "    return math.sqrt(dx + dy)\n",
    "\n",
    "    # end of referenced code\n",
    "    \n",
    "print(euclidean_dist_heuristic(graph, \"a\", \"u\"))"
   ]
  },
  {
   "cell_type": "code",
   "execution_count": 457,
   "id": "f7ba38f2",
   "metadata": {},
   "outputs": [
    {
     "data": {
      "application/vnd.plotly.v1+json": {
       "config": {
        "plotlyServerURL": "https://plot.ly"
       },
       "data": [
        {
         "hoverinfo": "text",
         "line": {
          "color": "#888",
          "width": 0.5
         },
         "mode": "lines",
         "text": [
          "75",
          "140",
          "118",
          "85",
          "101",
          "90",
          "211",
          "120",
          "146",
          "138",
          "75",
          "86",
          "99",
          "98",
          "92",
          "87",
          "111",
          "70",
          "71",
          "151",
          "97",
          "80",
          "142"
         ],
         "type": "scatter",
         "x": [
          91,
          108,
          null,
          91,
          207,
          null,
          91,
          94,
          null,
          400,
          456,
          null,
          400,
          320,
          null,
          400,
          375,
          null,
          400,
          305,
          null,
          253,
          165,
          null,
          253,
          233,
          null,
          253,
          320,
          null,
          165,
          168,
          null,
          562,
          534,
          null,
          305,
          207,
          null,
          534,
          456,
          null,
          473,
          509,
          null,
          473,
          406,
          null,
          165,
          94,
          null,
          165,
          168,
          null,
          131,
          108,
          null,
          131,
          207,
          null,
          320,
          233,
          null,
          233,
          207,
          null,
          456,
          509,
          null
         ],
         "y": [
          492,
          531,
          null,
          492,
          457,
          null,
          492,
          410,
          null,
          327,
          350,
          null,
          327,
          368,
          null,
          327,
          270,
          null,
          327,
          449,
          null,
          288,
          299,
          null,
          288,
          410,
          null,
          288,
          368,
          null,
          299,
          339,
          null,
          293,
          350,
          null,
          449,
          457,
          null,
          350,
          350,
          null,
          506,
          444,
          null,
          506,
          537,
          null,
          379,
          410,
          null,
          379,
          339,
          null,
          571,
          531,
          null,
          571,
          457,
          null,
          368,
          410,
          null,
          410,
          457,
          null,
          350,
          444,
          null
         ]
        },
        {
         "hoverinfo": "text",
         "marker": {
          "color": [
           "#FFA15A",
           "#00CC96",
           "#636EFA",
           "#636EFA",
           "#636EFA",
           "#636EFA",
           "#636EFA",
           "#636EFA",
           "#636EFA",
           "#636EFA",
           "#00CC96",
           "#00CC96",
           "#EF553B",
           "#636EFA",
           "#00CC96",
           "#636EFA",
           "#636EFA",
           "#636EFA",
           "#636EFA",
           "#636EFA"
          ],
          "line": {
           "width": 2
          },
          "showscale": false,
          "size": 10
         },
         "mode": "markers",
         "text": [
          "Distance to Goal: 500",
          "Distance to Goal: 500",
          "Distance to Goal: 500",
          "Distance to Goal: 500",
          "Distance to Goal: 500",
          "Distance to Goal: 500",
          "Distance to Goal: 500",
          "Distance to Goal: 500",
          "Distance to Goal: 500",
          "Distance to Goal: 500",
          "Distance to Goal: 500",
          "Distance to Goal: 500",
          "Distance to Goal: 500",
          "Distance to Goal: 500",
          "Distance to Goal: 500",
          "Distance to Goal: 500",
          "Distance to Goal: 500",
          "Distance to Goal: 500",
          "Distance to Goal: 500",
          "Distance to Goal: 500"
         ],
         "type": "scatter",
         "x": [
          91,
          400,
          253,
          165,
          562,
          305,
          534,
          473,
          165,
          131,
          320,
          233,
          456,
          108,
          207,
          94,
          375,
          168,
          509,
          406
         ],
         "y": [
          492,
          327,
          288,
          299,
          293,
          449,
          350,
          506,
          379,
          571,
          368,
          410,
          350,
          531,
          457,
          410,
          270,
          339,
          444,
          537
         ]
        }
       ],
       "layout": {
        "annotations": [
         {
          "arrowhead": 1,
          "ax": -10,
          "ay": -10,
          "font": {
           "color": "black",
           "size": 10
          },
          "showarrow": false,
          "text": "Arad",
          "x": 99,
          "xanchor": "right",
          "xshift": 10,
          "y": 497,
          "yanchor": "bottom"
         },
         {
          "arrowhead": 1,
          "ax": -10,
          "ay": -10,
          "font": {
           "color": "black",
           "size": 10
          },
          "showarrow": false,
          "text": "Bucharest",
          "x": 408,
          "xanchor": "right",
          "xshift": 10,
          "y": 332,
          "yanchor": "bottom"
         },
         {
          "arrowhead": 1,
          "ax": -10,
          "ay": -10,
          "font": {
           "color": "black",
           "size": 10
          },
          "showarrow": false,
          "text": "Craiova",
          "x": 261,
          "xanchor": "right",
          "xshift": 10,
          "y": 293,
          "yanchor": "bottom"
         },
         {
          "arrowhead": 1,
          "ax": -10,
          "ay": -10,
          "font": {
           "color": "black",
           "size": 10
          },
          "showarrow": false,
          "text": "Drobeta",
          "x": 173,
          "xanchor": "right",
          "xshift": 10,
          "y": 304,
          "yanchor": "bottom"
         },
         {
          "arrowhead": 1,
          "ax": -10,
          "ay": -10,
          "font": {
           "color": "black",
           "size": 10
          },
          "showarrow": false,
          "text": "Eforie",
          "x": 570,
          "xanchor": "right",
          "xshift": 10,
          "y": 298,
          "yanchor": "bottom"
         },
         {
          "arrowhead": 1,
          "ax": -10,
          "ay": -10,
          "font": {
           "color": "black",
           "size": 10
          },
          "showarrow": false,
          "text": "Fagaras",
          "x": 313,
          "xanchor": "right",
          "xshift": 10,
          "y": 454,
          "yanchor": "bottom"
         },
         {
          "arrowhead": 1,
          "ax": -10,
          "ay": -10,
          "font": {
           "color": "black",
           "size": 10
          },
          "showarrow": false,
          "text": "Hirsova",
          "x": 542,
          "xanchor": "right",
          "xshift": 10,
          "y": 355,
          "yanchor": "bottom"
         },
         {
          "arrowhead": 1,
          "ax": -10,
          "ay": -10,
          "font": {
           "color": "black",
           "size": 10
          },
          "showarrow": false,
          "text": "Iasi",
          "x": 481,
          "xanchor": "right",
          "xshift": 10,
          "y": 511,
          "yanchor": "bottom"
         },
         {
          "arrowhead": 1,
          "ax": -10,
          "ay": -10,
          "font": {
           "color": "black",
           "size": 10
          },
          "showarrow": false,
          "text": "Lugoj",
          "x": 173,
          "xanchor": "right",
          "xshift": 10,
          "y": 384,
          "yanchor": "bottom"
         },
         {
          "arrowhead": 1,
          "ax": -10,
          "ay": -10,
          "font": {
           "color": "black",
           "size": 10
          },
          "showarrow": false,
          "text": "Oradea",
          "x": 139,
          "xanchor": "right",
          "xshift": 10,
          "y": 576,
          "yanchor": "bottom"
         },
         {
          "arrowhead": 1,
          "ax": -10,
          "ay": -10,
          "font": {
           "color": "black",
           "size": 10
          },
          "showarrow": false,
          "text": "Pitesti",
          "x": 328,
          "xanchor": "right",
          "xshift": 10,
          "y": 373,
          "yanchor": "bottom"
         },
         {
          "arrowhead": 1,
          "ax": -10,
          "ay": -10,
          "font": {
           "color": "black",
           "size": 10
          },
          "showarrow": false,
          "text": "Rimnicu",
          "x": 241,
          "xanchor": "right",
          "xshift": 10,
          "y": 415,
          "yanchor": "bottom"
         },
         {
          "arrowhead": 1,
          "ax": -10,
          "ay": -10,
          "font": {
           "color": "black",
           "size": 10
          },
          "showarrow": false,
          "text": "Urziceni",
          "x": 464,
          "xanchor": "right",
          "xshift": 10,
          "y": 355,
          "yanchor": "bottom"
         },
         {
          "arrowhead": 1,
          "ax": -10,
          "ay": -10,
          "font": {
           "color": "black",
           "size": 10
          },
          "showarrow": false,
          "text": "Zerind",
          "x": 116,
          "xanchor": "right",
          "xshift": 10,
          "y": 536,
          "yanchor": "bottom"
         },
         {
          "arrowhead": 1,
          "ax": -10,
          "ay": -10,
          "font": {
           "color": "black",
           "size": 10
          },
          "showarrow": false,
          "text": "Sibiu",
          "x": 215,
          "xanchor": "right",
          "xshift": 10,
          "y": 462,
          "yanchor": "bottom"
         },
         {
          "arrowhead": 1,
          "ax": -10,
          "ay": -10,
          "font": {
           "color": "black",
           "size": 10
          },
          "showarrow": false,
          "text": "Timisoara",
          "x": 102,
          "xanchor": "right",
          "xshift": 10,
          "y": 415,
          "yanchor": "bottom"
         },
         {
          "arrowhead": 1,
          "ax": -10,
          "ay": -10,
          "font": {
           "color": "black",
           "size": 10
          },
          "showarrow": false,
          "text": "Giurgiu",
          "x": 383,
          "xanchor": "right",
          "xshift": 10,
          "y": 275,
          "yanchor": "bottom"
         },
         {
          "arrowhead": 1,
          "ax": -10,
          "ay": -10,
          "font": {
           "color": "black",
           "size": 10
          },
          "showarrow": false,
          "text": "Mehadia",
          "x": 176,
          "xanchor": "right",
          "xshift": 10,
          "y": 344,
          "yanchor": "bottom"
         },
         {
          "arrowhead": 1,
          "ax": -10,
          "ay": -10,
          "font": {
           "color": "black",
           "size": 10
          },
          "showarrow": false,
          "text": "Vaslui",
          "x": 517,
          "xanchor": "right",
          "xshift": 10,
          "y": 449,
          "yanchor": "bottom"
         },
         {
          "arrowhead": 1,
          "ax": -10,
          "ay": -10,
          "font": {
           "color": "black",
           "size": 10
          },
          "showarrow": false,
          "text": "Neamt",
          "x": 414,
          "xanchor": "right",
          "xshift": 10,
          "y": 542,
          "yanchor": "bottom"
         },
         {
          "arrowhead": 1,
          "ax": -10,
          "ay": -10,
          "font": {
           "color": "black",
           "size": 10
          },
          "showarrow": false,
          "text": "75",
          "x": 99.5,
          "xanchor": "right",
          "xshift": 30,
          "y": 511.5,
          "yanchor": "bottom"
         },
         {
          "arrowhead": 1,
          "ax": -10,
          "ay": -10,
          "font": {
           "color": "black",
           "size": 10
          },
          "showarrow": false,
          "text": "140",
          "x": 149,
          "xanchor": "right",
          "xshift": 30,
          "y": 474.5,
          "yanchor": "bottom"
         },
         {
          "arrowhead": 1,
          "ax": -10,
          "ay": -10,
          "font": {
           "color": "black",
           "size": 10
          },
          "showarrow": false,
          "text": "118",
          "x": 92.5,
          "xanchor": "right",
          "xshift": 30,
          "y": 451,
          "yanchor": "bottom"
         },
         {
          "arrowhead": 1,
          "ax": -10,
          "ay": -10,
          "font": {
           "color": "black",
           "size": 10
          },
          "showarrow": false,
          "text": "85",
          "x": 428,
          "xanchor": "right",
          "xshift": 30,
          "y": 338.5,
          "yanchor": "bottom"
         },
         {
          "arrowhead": 1,
          "ax": -10,
          "ay": -10,
          "font": {
           "color": "black",
           "size": 10
          },
          "showarrow": false,
          "text": "101",
          "x": 360,
          "xanchor": "right",
          "xshift": 30,
          "y": 347.5,
          "yanchor": "bottom"
         },
         {
          "arrowhead": 1,
          "ax": -10,
          "ay": -10,
          "font": {
           "color": "black",
           "size": 10
          },
          "showarrow": false,
          "text": "90",
          "x": 387.5,
          "xanchor": "right",
          "xshift": 30,
          "y": 298.5,
          "yanchor": "bottom"
         },
         {
          "arrowhead": 1,
          "ax": -10,
          "ay": -10,
          "font": {
           "color": "black",
           "size": 10
          },
          "showarrow": false,
          "text": "211",
          "x": 352.5,
          "xanchor": "right",
          "xshift": 30,
          "y": 388,
          "yanchor": "bottom"
         },
         {
          "arrowhead": 1,
          "ax": -10,
          "ay": -10,
          "font": {
           "color": "black",
           "size": 10
          },
          "showarrow": false,
          "text": "120",
          "x": 209,
          "xanchor": "right",
          "xshift": 30,
          "y": 293.5,
          "yanchor": "bottom"
         },
         {
          "arrowhead": 1,
          "ax": -10,
          "ay": -10,
          "font": {
           "color": "black",
           "size": 10
          },
          "showarrow": false,
          "text": "146",
          "x": 243,
          "xanchor": "right",
          "xshift": 30,
          "y": 349,
          "yanchor": "bottom"
         },
         {
          "arrowhead": 1,
          "ax": -10,
          "ay": -10,
          "font": {
           "color": "black",
           "size": 10
          },
          "showarrow": false,
          "text": "138",
          "x": 286.5,
          "xanchor": "right",
          "xshift": 30,
          "y": 328,
          "yanchor": "bottom"
         },
         {
          "arrowhead": 1,
          "ax": -10,
          "ay": -10,
          "font": {
           "color": "black",
           "size": 10
          },
          "showarrow": false,
          "text": "75",
          "x": 166.5,
          "xanchor": "right",
          "xshift": 30,
          "y": 319,
          "yanchor": "bottom"
         },
         {
          "arrowhead": 1,
          "ax": -10,
          "ay": -10,
          "font": {
           "color": "black",
           "size": 10
          },
          "showarrow": false,
          "text": "86",
          "x": 548,
          "xanchor": "right",
          "xshift": 30,
          "y": 321.5,
          "yanchor": "bottom"
         },
         {
          "arrowhead": 1,
          "ax": -10,
          "ay": -10,
          "font": {
           "color": "black",
           "size": 10
          },
          "showarrow": false,
          "text": "99",
          "x": 256,
          "xanchor": "right",
          "xshift": 30,
          "y": 453,
          "yanchor": "bottom"
         },
         {
          "arrowhead": 1,
          "ax": -10,
          "ay": -10,
          "font": {
           "color": "black",
           "size": 10
          },
          "showarrow": false,
          "text": "98",
          "x": 495,
          "xanchor": "right",
          "xshift": 30,
          "y": 350,
          "yanchor": "bottom"
         },
         {
          "arrowhead": 1,
          "ax": -10,
          "ay": -10,
          "font": {
           "color": "black",
           "size": 10
          },
          "showarrow": false,
          "text": "92",
          "x": 491,
          "xanchor": "right",
          "xshift": 30,
          "y": 475,
          "yanchor": "bottom"
         },
         {
          "arrowhead": 1,
          "ax": -10,
          "ay": -10,
          "font": {
           "color": "black",
           "size": 10
          },
          "showarrow": false,
          "text": "87",
          "x": 439.5,
          "xanchor": "right",
          "xshift": 30,
          "y": 521.5,
          "yanchor": "bottom"
         },
         {
          "arrowhead": 1,
          "ax": -10,
          "ay": -10,
          "font": {
           "color": "black",
           "size": 10
          },
          "showarrow": false,
          "text": "111",
          "x": 129.5,
          "xanchor": "right",
          "xshift": 30,
          "y": 394.5,
          "yanchor": "bottom"
         },
         {
          "arrowhead": 1,
          "ax": -10,
          "ay": -10,
          "font": {
           "color": "black",
           "size": 10
          },
          "showarrow": false,
          "text": "70",
          "x": 166.5,
          "xanchor": "right",
          "xshift": 30,
          "y": 359,
          "yanchor": "bottom"
         },
         {
          "arrowhead": 1,
          "ax": -10,
          "ay": -10,
          "font": {
           "color": "black",
           "size": 10
          },
          "showarrow": false,
          "text": "71",
          "x": 119.5,
          "xanchor": "right",
          "xshift": 30,
          "y": 551,
          "yanchor": "bottom"
         },
         {
          "arrowhead": 1,
          "ax": -10,
          "ay": -10,
          "font": {
           "color": "black",
           "size": 10
          },
          "showarrow": false,
          "text": "151",
          "x": 169,
          "xanchor": "right",
          "xshift": 30,
          "y": 514,
          "yanchor": "bottom"
         },
         {
          "arrowhead": 1,
          "ax": -10,
          "ay": -10,
          "font": {
           "color": "black",
           "size": 10
          },
          "showarrow": false,
          "text": "97",
          "x": 276.5,
          "xanchor": "right",
          "xshift": 30,
          "y": 389,
          "yanchor": "bottom"
         },
         {
          "arrowhead": 1,
          "ax": -10,
          "ay": -10,
          "font": {
           "color": "black",
           "size": 10
          },
          "showarrow": false,
          "text": "80",
          "x": 220,
          "xanchor": "right",
          "xshift": 30,
          "y": 433.5,
          "yanchor": "bottom"
         },
         {
          "arrowhead": 1,
          "ax": -10,
          "ay": -10,
          "font": {
           "color": "black",
           "size": 10
          },
          "showarrow": false,
          "text": "142",
          "x": 482.5,
          "xanchor": "right",
          "xshift": 30,
          "y": 397,
          "yanchor": "bottom"
         }
        ],
        "autosize": true,
        "hovermode": "closest",
        "margin": {
         "b": 20,
         "l": 5,
         "r": 5,
         "t": 50
        },
        "showlegend": false,
        "template": {
         "data": {
          "bar": [
           {
            "error_x": {
             "color": "#2a3f5f"
            },
            "error_y": {
             "color": "#2a3f5f"
            },
            "marker": {
             "line": {
              "color": "#E5ECF6",
              "width": 0.5
             }
            },
            "type": "bar"
           }
          ],
          "barpolar": [
           {
            "marker": {
             "line": {
              "color": "#E5ECF6",
              "width": 0.5
             }
            },
            "type": "barpolar"
           }
          ],
          "carpet": [
           {
            "aaxis": {
             "endlinecolor": "#2a3f5f",
             "gridcolor": "white",
             "linecolor": "white",
             "minorgridcolor": "white",
             "startlinecolor": "#2a3f5f"
            },
            "baxis": {
             "endlinecolor": "#2a3f5f",
             "gridcolor": "white",
             "linecolor": "white",
             "minorgridcolor": "white",
             "startlinecolor": "#2a3f5f"
            },
            "type": "carpet"
           }
          ],
          "choropleth": [
           {
            "colorbar": {
             "outlinewidth": 0,
             "ticks": ""
            },
            "type": "choropleth"
           }
          ],
          "contour": [
           {
            "colorbar": {
             "outlinewidth": 0,
             "ticks": ""
            },
            "colorscale": [
             [
              0,
              "#0d0887"
             ],
             [
              0.1111111111111111,
              "#46039f"
             ],
             [
              0.2222222222222222,
              "#7201a8"
             ],
             [
              0.3333333333333333,
              "#9c179e"
             ],
             [
              0.4444444444444444,
              "#bd3786"
             ],
             [
              0.5555555555555556,
              "#d8576b"
             ],
             [
              0.6666666666666666,
              "#ed7953"
             ],
             [
              0.7777777777777778,
              "#fb9f3a"
             ],
             [
              0.8888888888888888,
              "#fdca26"
             ],
             [
              1,
              "#f0f921"
             ]
            ],
            "type": "contour"
           }
          ],
          "contourcarpet": [
           {
            "colorbar": {
             "outlinewidth": 0,
             "ticks": ""
            },
            "type": "contourcarpet"
           }
          ],
          "heatmap": [
           {
            "colorbar": {
             "outlinewidth": 0,
             "ticks": ""
            },
            "colorscale": [
             [
              0,
              "#0d0887"
             ],
             [
              0.1111111111111111,
              "#46039f"
             ],
             [
              0.2222222222222222,
              "#7201a8"
             ],
             [
              0.3333333333333333,
              "#9c179e"
             ],
             [
              0.4444444444444444,
              "#bd3786"
             ],
             [
              0.5555555555555556,
              "#d8576b"
             ],
             [
              0.6666666666666666,
              "#ed7953"
             ],
             [
              0.7777777777777778,
              "#fb9f3a"
             ],
             [
              0.8888888888888888,
              "#fdca26"
             ],
             [
              1,
              "#f0f921"
             ]
            ],
            "type": "heatmap"
           }
          ],
          "heatmapgl": [
           {
            "colorbar": {
             "outlinewidth": 0,
             "ticks": ""
            },
            "colorscale": [
             [
              0,
              "#0d0887"
             ],
             [
              0.1111111111111111,
              "#46039f"
             ],
             [
              0.2222222222222222,
              "#7201a8"
             ],
             [
              0.3333333333333333,
              "#9c179e"
             ],
             [
              0.4444444444444444,
              "#bd3786"
             ],
             [
              0.5555555555555556,
              "#d8576b"
             ],
             [
              0.6666666666666666,
              "#ed7953"
             ],
             [
              0.7777777777777778,
              "#fb9f3a"
             ],
             [
              0.8888888888888888,
              "#fdca26"
             ],
             [
              1,
              "#f0f921"
             ]
            ],
            "type": "heatmapgl"
           }
          ],
          "histogram": [
           {
            "marker": {
             "colorbar": {
              "outlinewidth": 0,
              "ticks": ""
             }
            },
            "type": "histogram"
           }
          ],
          "histogram2d": [
           {
            "colorbar": {
             "outlinewidth": 0,
             "ticks": ""
            },
            "colorscale": [
             [
              0,
              "#0d0887"
             ],
             [
              0.1111111111111111,
              "#46039f"
             ],
             [
              0.2222222222222222,
              "#7201a8"
             ],
             [
              0.3333333333333333,
              "#9c179e"
             ],
             [
              0.4444444444444444,
              "#bd3786"
             ],
             [
              0.5555555555555556,
              "#d8576b"
             ],
             [
              0.6666666666666666,
              "#ed7953"
             ],
             [
              0.7777777777777778,
              "#fb9f3a"
             ],
             [
              0.8888888888888888,
              "#fdca26"
             ],
             [
              1,
              "#f0f921"
             ]
            ],
            "type": "histogram2d"
           }
          ],
          "histogram2dcontour": [
           {
            "colorbar": {
             "outlinewidth": 0,
             "ticks": ""
            },
            "colorscale": [
             [
              0,
              "#0d0887"
             ],
             [
              0.1111111111111111,
              "#46039f"
             ],
             [
              0.2222222222222222,
              "#7201a8"
             ],
             [
              0.3333333333333333,
              "#9c179e"
             ],
             [
              0.4444444444444444,
              "#bd3786"
             ],
             [
              0.5555555555555556,
              "#d8576b"
             ],
             [
              0.6666666666666666,
              "#ed7953"
             ],
             [
              0.7777777777777778,
              "#fb9f3a"
             ],
             [
              0.8888888888888888,
              "#fdca26"
             ],
             [
              1,
              "#f0f921"
             ]
            ],
            "type": "histogram2dcontour"
           }
          ],
          "mesh3d": [
           {
            "colorbar": {
             "outlinewidth": 0,
             "ticks": ""
            },
            "type": "mesh3d"
           }
          ],
          "parcoords": [
           {
            "line": {
             "colorbar": {
              "outlinewidth": 0,
              "ticks": ""
             }
            },
            "type": "parcoords"
           }
          ],
          "pie": [
           {
            "automargin": true,
            "type": "pie"
           }
          ],
          "scatter": [
           {
            "marker": {
             "colorbar": {
              "outlinewidth": 0,
              "ticks": ""
             }
            },
            "type": "scatter"
           }
          ],
          "scatter3d": [
           {
            "line": {
             "colorbar": {
              "outlinewidth": 0,
              "ticks": ""
             }
            },
            "marker": {
             "colorbar": {
              "outlinewidth": 0,
              "ticks": ""
             }
            },
            "type": "scatter3d"
           }
          ],
          "scattercarpet": [
           {
            "marker": {
             "colorbar": {
              "outlinewidth": 0,
              "ticks": ""
             }
            },
            "type": "scattercarpet"
           }
          ],
          "scattergeo": [
           {
            "marker": {
             "colorbar": {
              "outlinewidth": 0,
              "ticks": ""
             }
            },
            "type": "scattergeo"
           }
          ],
          "scattergl": [
           {
            "marker": {
             "colorbar": {
              "outlinewidth": 0,
              "ticks": ""
             }
            },
            "type": "scattergl"
           }
          ],
          "scattermapbox": [
           {
            "marker": {
             "colorbar": {
              "outlinewidth": 0,
              "ticks": ""
             }
            },
            "type": "scattermapbox"
           }
          ],
          "scatterpolar": [
           {
            "marker": {
             "colorbar": {
              "outlinewidth": 0,
              "ticks": ""
             }
            },
            "type": "scatterpolar"
           }
          ],
          "scatterpolargl": [
           {
            "marker": {
             "colorbar": {
              "outlinewidth": 0,
              "ticks": ""
             }
            },
            "type": "scatterpolargl"
           }
          ],
          "scatterternary": [
           {
            "marker": {
             "colorbar": {
              "outlinewidth": 0,
              "ticks": ""
             }
            },
            "type": "scatterternary"
           }
          ],
          "surface": [
           {
            "colorbar": {
             "outlinewidth": 0,
             "ticks": ""
            },
            "colorscale": [
             [
              0,
              "#0d0887"
             ],
             [
              0.1111111111111111,
              "#46039f"
             ],
             [
              0.2222222222222222,
              "#7201a8"
             ],
             [
              0.3333333333333333,
              "#9c179e"
             ],
             [
              0.4444444444444444,
              "#bd3786"
             ],
             [
              0.5555555555555556,
              "#d8576b"
             ],
             [
              0.6666666666666666,
              "#ed7953"
             ],
             [
              0.7777777777777778,
              "#fb9f3a"
             ],
             [
              0.8888888888888888,
              "#fdca26"
             ],
             [
              1,
              "#f0f921"
             ]
            ],
            "type": "surface"
           }
          ],
          "table": [
           {
            "cells": {
             "fill": {
              "color": "#EBF0F8"
             },
             "line": {
              "color": "white"
             }
            },
            "header": {
             "fill": {
              "color": "#C8D4E3"
             },
             "line": {
              "color": "white"
             }
            },
            "type": "table"
           }
          ]
         },
         "layout": {
          "annotationdefaults": {
           "arrowcolor": "#2a3f5f",
           "arrowhead": 0,
           "arrowwidth": 1
          },
          "coloraxis": {
           "colorbar": {
            "outlinewidth": 0,
            "ticks": ""
           }
          },
          "colorscale": {
           "diverging": [
            [
             0,
             "#8e0152"
            ],
            [
             0.1,
             "#c51b7d"
            ],
            [
             0.2,
             "#de77ae"
            ],
            [
             0.3,
             "#f1b6da"
            ],
            [
             0.4,
             "#fde0ef"
            ],
            [
             0.5,
             "#f7f7f7"
            ],
            [
             0.6,
             "#e6f5d0"
            ],
            [
             0.7,
             "#b8e186"
            ],
            [
             0.8,
             "#7fbc41"
            ],
            [
             0.9,
             "#4d9221"
            ],
            [
             1,
             "#276419"
            ]
           ],
           "sequential": [
            [
             0,
             "#0d0887"
            ],
            [
             0.1111111111111111,
             "#46039f"
            ],
            [
             0.2222222222222222,
             "#7201a8"
            ],
            [
             0.3333333333333333,
             "#9c179e"
            ],
            [
             0.4444444444444444,
             "#bd3786"
            ],
            [
             0.5555555555555556,
             "#d8576b"
            ],
            [
             0.6666666666666666,
             "#ed7953"
            ],
            [
             0.7777777777777778,
             "#fb9f3a"
            ],
            [
             0.8888888888888888,
             "#fdca26"
            ],
            [
             1,
             "#f0f921"
            ]
           ],
           "sequentialminus": [
            [
             0,
             "#0d0887"
            ],
            [
             0.1111111111111111,
             "#46039f"
            ],
            [
             0.2222222222222222,
             "#7201a8"
            ],
            [
             0.3333333333333333,
             "#9c179e"
            ],
            [
             0.4444444444444444,
             "#bd3786"
            ],
            [
             0.5555555555555556,
             "#d8576b"
            ],
            [
             0.6666666666666666,
             "#ed7953"
            ],
            [
             0.7777777777777778,
             "#fb9f3a"
            ],
            [
             0.8888888888888888,
             "#fdca26"
            ],
            [
             1,
             "#f0f921"
            ]
           ]
          },
          "colorway": [
           "#636efa",
           "#EF553B",
           "#00cc96",
           "#ab63fa",
           "#FFA15A",
           "#19d3f3",
           "#FF6692",
           "#B6E880",
           "#FF97FF",
           "#FECB52"
          ],
          "font": {
           "color": "#2a3f5f"
          },
          "geo": {
           "bgcolor": "white",
           "lakecolor": "white",
           "landcolor": "#E5ECF6",
           "showlakes": true,
           "showland": true,
           "subunitcolor": "white"
          },
          "hoverlabel": {
           "align": "left"
          },
          "hovermode": "closest",
          "mapbox": {
           "style": "light"
          },
          "paper_bgcolor": "white",
          "plot_bgcolor": "#E5ECF6",
          "polar": {
           "angularaxis": {
            "gridcolor": "white",
            "linecolor": "white",
            "ticks": ""
           },
           "bgcolor": "#E5ECF6",
           "radialaxis": {
            "gridcolor": "white",
            "linecolor": "white",
            "ticks": ""
           }
          },
          "scene": {
           "xaxis": {
            "backgroundcolor": "#E5ECF6",
            "gridcolor": "white",
            "gridwidth": 2,
            "linecolor": "white",
            "showbackground": true,
            "ticks": "",
            "zerolinecolor": "white"
           },
           "yaxis": {
            "backgroundcolor": "#E5ECF6",
            "gridcolor": "white",
            "gridwidth": 2,
            "linecolor": "white",
            "showbackground": true,
            "ticks": "",
            "zerolinecolor": "white"
           },
           "zaxis": {
            "backgroundcolor": "#E5ECF6",
            "gridcolor": "white",
            "gridwidth": 2,
            "linecolor": "white",
            "showbackground": true,
            "ticks": "",
            "zerolinecolor": "white"
           }
          },
          "shapedefaults": {
           "line": {
            "color": "#2a3f5f"
           }
          },
          "ternary": {
           "aaxis": {
            "gridcolor": "white",
            "linecolor": "white",
            "ticks": ""
           },
           "baxis": {
            "gridcolor": "white",
            "linecolor": "white",
            "ticks": ""
           },
           "bgcolor": "#E5ECF6",
           "caxis": {
            "gridcolor": "white",
            "linecolor": "white",
            "ticks": ""
           }
          },
          "title": {
           "x": 0.05
          },
          "xaxis": {
           "automargin": true,
           "gridcolor": "white",
           "linecolor": "white",
           "ticks": "",
           "title": {
            "standoff": 15
           },
           "zerolinecolor": "white",
           "zerolinewidth": 2
          },
          "yaxis": {
           "automargin": true,
           "gridcolor": "white",
           "linecolor": "white",
           "ticks": "",
           "title": {
            "standoff": 15
           },
           "zerolinecolor": "white",
           "zerolinewidth": 2
          }
         }
        },
        "title": {
         "font": {
          "size": 16
         },
         "text": "<br>Romania Pathfinding Problem"
        },
        "xaxis": {
         "showgrid": false,
         "showticklabels": false,
         "zeroline": false
        },
        "yaxis": {
         "showgrid": false,
         "showticklabels": false,
         "zeroline": false
        }
       }
      },
      "text/html": [
       "<div>\n",
       "        \n",
       "        \n",
       "            <div id=\"8e52379d-1c78-469f-828e-4b6c3f51c8e5\" class=\"plotly-graph-div\" style=\"height:525px; width:100%;\"></div>\n",
       "            <script type=\"text/javascript\">\n",
       "                require([\"plotly\"], function(Plotly) {\n",
       "                    window.PLOTLYENV=window.PLOTLYENV || {};\n",
       "                    \n",
       "                if (document.getElementById(\"8e52379d-1c78-469f-828e-4b6c3f51c8e5\")) {\n",
       "                    Plotly.newPlot(\n",
       "                        '8e52379d-1c78-469f-828e-4b6c3f51c8e5',\n",
       "                        [{\"hoverinfo\": \"text\", \"line\": {\"color\": \"#888\", \"width\": 0.5}, \"mode\": \"lines\", \"text\": [\"75\", \"140\", \"118\", \"85\", \"101\", \"90\", \"211\", \"120\", \"146\", \"138\", \"75\", \"86\", \"99\", \"98\", \"92\", \"87\", \"111\", \"70\", \"71\", \"151\", \"97\", \"80\", \"142\"], \"type\": \"scatter\", \"x\": [91, 108, null, 91, 207, null, 91, 94, null, 400, 456, null, 400, 320, null, 400, 375, null, 400, 305, null, 253, 165, null, 253, 233, null, 253, 320, null, 165, 168, null, 562, 534, null, 305, 207, null, 534, 456, null, 473, 509, null, 473, 406, null, 165, 94, null, 165, 168, null, 131, 108, null, 131, 207, null, 320, 233, null, 233, 207, null, 456, 509, null], \"y\": [492, 531, null, 492, 457, null, 492, 410, null, 327, 350, null, 327, 368, null, 327, 270, null, 327, 449, null, 288, 299, null, 288, 410, null, 288, 368, null, 299, 339, null, 293, 350, null, 449, 457, null, 350, 350, null, 506, 444, null, 506, 537, null, 379, 410, null, 379, 339, null, 571, 531, null, 571, 457, null, 368, 410, null, 410, 457, null, 350, 444, null]}, {\"hoverinfo\": \"text\", \"marker\": {\"color\": [\"#FFA15A\", \"#00CC96\", \"#636EFA\", \"#636EFA\", \"#636EFA\", \"#636EFA\", \"#636EFA\", \"#636EFA\", \"#636EFA\", \"#636EFA\", \"#00CC96\", \"#00CC96\", \"#EF553B\", \"#636EFA\", \"#00CC96\", \"#636EFA\", \"#636EFA\", \"#636EFA\", \"#636EFA\", \"#636EFA\"], \"line\": {\"width\": 2}, \"showscale\": false, \"size\": 10}, \"mode\": \"markers\", \"text\": [\"Distance to Goal: 500\", \"Distance to Goal: 500\", \"Distance to Goal: 500\", \"Distance to Goal: 500\", \"Distance to Goal: 500\", \"Distance to Goal: 500\", \"Distance to Goal: 500\", \"Distance to Goal: 500\", \"Distance to Goal: 500\", \"Distance to Goal: 500\", \"Distance to Goal: 500\", \"Distance to Goal: 500\", \"Distance to Goal: 500\", \"Distance to Goal: 500\", \"Distance to Goal: 500\", \"Distance to Goal: 500\", \"Distance to Goal: 500\", \"Distance to Goal: 500\", \"Distance to Goal: 500\", \"Distance to Goal: 500\"], \"type\": \"scatter\", \"x\": [91, 400, 253, 165, 562, 305, 534, 473, 165, 131, 320, 233, 456, 108, 207, 94, 375, 168, 509, 406], \"y\": [492, 327, 288, 299, 293, 449, 350, 506, 379, 571, 368, 410, 350, 531, 457, 410, 270, 339, 444, 537]}],\n",
       "                        {\"annotations\": [{\"arrowhead\": 1, \"ax\": -10, \"ay\": -10, \"font\": {\"color\": \"black\", \"size\": 10}, \"showarrow\": false, \"text\": \"Arad\", \"x\": 99, \"xanchor\": \"right\", \"xshift\": 10, \"y\": 497, \"yanchor\": \"bottom\"}, {\"arrowhead\": 1, \"ax\": -10, \"ay\": -10, \"font\": {\"color\": \"black\", \"size\": 10}, \"showarrow\": false, \"text\": \"Bucharest\", \"x\": 408, \"xanchor\": \"right\", \"xshift\": 10, \"y\": 332, \"yanchor\": \"bottom\"}, {\"arrowhead\": 1, \"ax\": -10, \"ay\": -10, \"font\": {\"color\": \"black\", \"size\": 10}, \"showarrow\": false, \"text\": \"Craiova\", \"x\": 261, \"xanchor\": \"right\", \"xshift\": 10, \"y\": 293, \"yanchor\": \"bottom\"}, {\"arrowhead\": 1, \"ax\": -10, \"ay\": -10, \"font\": {\"color\": \"black\", \"size\": 10}, \"showarrow\": false, \"text\": \"Drobeta\", \"x\": 173, \"xanchor\": \"right\", \"xshift\": 10, \"y\": 304, \"yanchor\": \"bottom\"}, {\"arrowhead\": 1, \"ax\": -10, \"ay\": -10, \"font\": {\"color\": \"black\", \"size\": 10}, \"showarrow\": false, \"text\": \"Eforie\", \"x\": 570, \"xanchor\": \"right\", \"xshift\": 10, \"y\": 298, \"yanchor\": \"bottom\"}, {\"arrowhead\": 1, \"ax\": -10, \"ay\": -10, \"font\": {\"color\": \"black\", \"size\": 10}, \"showarrow\": false, \"text\": \"Fagaras\", \"x\": 313, \"xanchor\": \"right\", \"xshift\": 10, \"y\": 454, \"yanchor\": \"bottom\"}, {\"arrowhead\": 1, \"ax\": -10, \"ay\": -10, \"font\": {\"color\": \"black\", \"size\": 10}, \"showarrow\": false, \"text\": \"Hirsova\", \"x\": 542, \"xanchor\": \"right\", \"xshift\": 10, \"y\": 355, \"yanchor\": \"bottom\"}, {\"arrowhead\": 1, \"ax\": -10, \"ay\": -10, \"font\": {\"color\": \"black\", \"size\": 10}, \"showarrow\": false, \"text\": \"Iasi\", \"x\": 481, \"xanchor\": \"right\", \"xshift\": 10, \"y\": 511, \"yanchor\": \"bottom\"}, {\"arrowhead\": 1, \"ax\": -10, \"ay\": -10, \"font\": {\"color\": \"black\", \"size\": 10}, \"showarrow\": false, \"text\": \"Lugoj\", \"x\": 173, \"xanchor\": \"right\", \"xshift\": 10, \"y\": 384, \"yanchor\": \"bottom\"}, {\"arrowhead\": 1, \"ax\": -10, \"ay\": -10, \"font\": {\"color\": \"black\", \"size\": 10}, \"showarrow\": false, \"text\": \"Oradea\", \"x\": 139, \"xanchor\": \"right\", \"xshift\": 10, \"y\": 576, \"yanchor\": \"bottom\"}, {\"arrowhead\": 1, \"ax\": -10, \"ay\": -10, \"font\": {\"color\": \"black\", \"size\": 10}, \"showarrow\": false, \"text\": \"Pitesti\", \"x\": 328, \"xanchor\": \"right\", \"xshift\": 10, \"y\": 373, \"yanchor\": \"bottom\"}, {\"arrowhead\": 1, \"ax\": -10, \"ay\": -10, \"font\": {\"color\": \"black\", \"size\": 10}, \"showarrow\": false, \"text\": \"Rimnicu\", \"x\": 241, \"xanchor\": \"right\", \"xshift\": 10, \"y\": 415, \"yanchor\": \"bottom\"}, {\"arrowhead\": 1, \"ax\": -10, \"ay\": -10, \"font\": {\"color\": \"black\", \"size\": 10}, \"showarrow\": false, \"text\": \"Urziceni\", \"x\": 464, \"xanchor\": \"right\", \"xshift\": 10, \"y\": 355, \"yanchor\": \"bottom\"}, {\"arrowhead\": 1, \"ax\": -10, \"ay\": -10, \"font\": {\"color\": \"black\", \"size\": 10}, \"showarrow\": false, \"text\": \"Zerind\", \"x\": 116, \"xanchor\": \"right\", \"xshift\": 10, \"y\": 536, \"yanchor\": \"bottom\"}, {\"arrowhead\": 1, \"ax\": -10, \"ay\": -10, \"font\": {\"color\": \"black\", \"size\": 10}, \"showarrow\": false, \"text\": \"Sibiu\", \"x\": 215, \"xanchor\": \"right\", \"xshift\": 10, \"y\": 462, \"yanchor\": \"bottom\"}, {\"arrowhead\": 1, \"ax\": -10, \"ay\": -10, \"font\": {\"color\": \"black\", \"size\": 10}, \"showarrow\": false, \"text\": \"Timisoara\", \"x\": 102, \"xanchor\": \"right\", \"xshift\": 10, \"y\": 415, \"yanchor\": \"bottom\"}, {\"arrowhead\": 1, \"ax\": -10, \"ay\": -10, \"font\": {\"color\": \"black\", \"size\": 10}, \"showarrow\": false, \"text\": \"Giurgiu\", \"x\": 383, \"xanchor\": \"right\", \"xshift\": 10, \"y\": 275, \"yanchor\": \"bottom\"}, {\"arrowhead\": 1, \"ax\": -10, \"ay\": -10, \"font\": {\"color\": \"black\", \"size\": 10}, \"showarrow\": false, \"text\": \"Mehadia\", \"x\": 176, \"xanchor\": \"right\", \"xshift\": 10, \"y\": 344, \"yanchor\": \"bottom\"}, {\"arrowhead\": 1, \"ax\": -10, \"ay\": -10, \"font\": {\"color\": \"black\", \"size\": 10}, \"showarrow\": false, \"text\": \"Vaslui\", \"x\": 517, \"xanchor\": \"right\", \"xshift\": 10, \"y\": 449, \"yanchor\": \"bottom\"}, {\"arrowhead\": 1, \"ax\": -10, \"ay\": -10, \"font\": {\"color\": \"black\", \"size\": 10}, \"showarrow\": false, \"text\": \"Neamt\", \"x\": 414, \"xanchor\": \"right\", \"xshift\": 10, \"y\": 542, \"yanchor\": \"bottom\"}, {\"arrowhead\": 1, \"ax\": -10, \"ay\": -10, \"font\": {\"color\": \"black\", \"size\": 10}, \"showarrow\": false, \"text\": \"75\", \"x\": 99.5, \"xanchor\": \"right\", \"xshift\": 30, \"y\": 511.5, \"yanchor\": \"bottom\"}, {\"arrowhead\": 1, \"ax\": -10, \"ay\": -10, \"font\": {\"color\": \"black\", \"size\": 10}, \"showarrow\": false, \"text\": \"140\", \"x\": 149.0, \"xanchor\": \"right\", \"xshift\": 30, \"y\": 474.5, \"yanchor\": \"bottom\"}, {\"arrowhead\": 1, \"ax\": -10, \"ay\": -10, \"font\": {\"color\": \"black\", \"size\": 10}, \"showarrow\": false, \"text\": \"118\", \"x\": 92.5, \"xanchor\": \"right\", \"xshift\": 30, \"y\": 451.0, \"yanchor\": \"bottom\"}, {\"arrowhead\": 1, \"ax\": -10, \"ay\": -10, \"font\": {\"color\": \"black\", \"size\": 10}, \"showarrow\": false, \"text\": \"85\", \"x\": 428.0, \"xanchor\": \"right\", \"xshift\": 30, \"y\": 338.5, \"yanchor\": \"bottom\"}, {\"arrowhead\": 1, \"ax\": -10, \"ay\": -10, \"font\": {\"color\": \"black\", \"size\": 10}, \"showarrow\": false, \"text\": \"101\", \"x\": 360.0, \"xanchor\": \"right\", \"xshift\": 30, \"y\": 347.5, \"yanchor\": \"bottom\"}, {\"arrowhead\": 1, \"ax\": -10, \"ay\": -10, \"font\": {\"color\": \"black\", \"size\": 10}, \"showarrow\": false, \"text\": \"90\", \"x\": 387.5, \"xanchor\": \"right\", \"xshift\": 30, \"y\": 298.5, \"yanchor\": \"bottom\"}, {\"arrowhead\": 1, \"ax\": -10, \"ay\": -10, \"font\": {\"color\": \"black\", \"size\": 10}, \"showarrow\": false, \"text\": \"211\", \"x\": 352.5, \"xanchor\": \"right\", \"xshift\": 30, \"y\": 388.0, \"yanchor\": \"bottom\"}, {\"arrowhead\": 1, \"ax\": -10, \"ay\": -10, \"font\": {\"color\": \"black\", \"size\": 10}, \"showarrow\": false, \"text\": \"120\", \"x\": 209.0, \"xanchor\": \"right\", \"xshift\": 30, \"y\": 293.5, \"yanchor\": \"bottom\"}, {\"arrowhead\": 1, \"ax\": -10, \"ay\": -10, \"font\": {\"color\": \"black\", \"size\": 10}, \"showarrow\": false, \"text\": \"146\", \"x\": 243.0, \"xanchor\": \"right\", \"xshift\": 30, \"y\": 349.0, \"yanchor\": \"bottom\"}, {\"arrowhead\": 1, \"ax\": -10, \"ay\": -10, \"font\": {\"color\": \"black\", \"size\": 10}, \"showarrow\": false, \"text\": \"138\", \"x\": 286.5, \"xanchor\": \"right\", \"xshift\": 30, \"y\": 328.0, \"yanchor\": \"bottom\"}, {\"arrowhead\": 1, \"ax\": -10, \"ay\": -10, \"font\": {\"color\": \"black\", \"size\": 10}, \"showarrow\": false, \"text\": \"75\", \"x\": 166.5, \"xanchor\": \"right\", \"xshift\": 30, \"y\": 319.0, \"yanchor\": \"bottom\"}, {\"arrowhead\": 1, \"ax\": -10, \"ay\": -10, \"font\": {\"color\": \"black\", \"size\": 10}, \"showarrow\": false, \"text\": \"86\", \"x\": 548.0, \"xanchor\": \"right\", \"xshift\": 30, \"y\": 321.5, \"yanchor\": \"bottom\"}, {\"arrowhead\": 1, \"ax\": -10, \"ay\": -10, \"font\": {\"color\": \"black\", \"size\": 10}, \"showarrow\": false, \"text\": \"99\", \"x\": 256.0, \"xanchor\": \"right\", \"xshift\": 30, \"y\": 453.0, \"yanchor\": \"bottom\"}, {\"arrowhead\": 1, \"ax\": -10, \"ay\": -10, \"font\": {\"color\": \"black\", \"size\": 10}, \"showarrow\": false, \"text\": \"98\", \"x\": 495.0, \"xanchor\": \"right\", \"xshift\": 30, \"y\": 350.0, \"yanchor\": \"bottom\"}, {\"arrowhead\": 1, \"ax\": -10, \"ay\": -10, \"font\": {\"color\": \"black\", \"size\": 10}, \"showarrow\": false, \"text\": \"92\", \"x\": 491.0, \"xanchor\": \"right\", \"xshift\": 30, \"y\": 475.0, \"yanchor\": \"bottom\"}, {\"arrowhead\": 1, \"ax\": -10, \"ay\": -10, \"font\": {\"color\": \"black\", \"size\": 10}, \"showarrow\": false, \"text\": \"87\", \"x\": 439.5, \"xanchor\": \"right\", \"xshift\": 30, \"y\": 521.5, \"yanchor\": \"bottom\"}, {\"arrowhead\": 1, \"ax\": -10, \"ay\": -10, \"font\": {\"color\": \"black\", \"size\": 10}, \"showarrow\": false, \"text\": \"111\", \"x\": 129.5, \"xanchor\": \"right\", \"xshift\": 30, \"y\": 394.5, \"yanchor\": \"bottom\"}, {\"arrowhead\": 1, \"ax\": -10, \"ay\": -10, \"font\": {\"color\": \"black\", \"size\": 10}, \"showarrow\": false, \"text\": \"70\", \"x\": 166.5, \"xanchor\": \"right\", \"xshift\": 30, \"y\": 359.0, \"yanchor\": \"bottom\"}, {\"arrowhead\": 1, \"ax\": -10, \"ay\": -10, \"font\": {\"color\": \"black\", \"size\": 10}, \"showarrow\": false, \"text\": \"71\", \"x\": 119.5, \"xanchor\": \"right\", \"xshift\": 30, \"y\": 551.0, \"yanchor\": \"bottom\"}, {\"arrowhead\": 1, \"ax\": -10, \"ay\": -10, \"font\": {\"color\": \"black\", \"size\": 10}, \"showarrow\": false, \"text\": \"151\", \"x\": 169.0, \"xanchor\": \"right\", \"xshift\": 30, \"y\": 514.0, \"yanchor\": \"bottom\"}, {\"arrowhead\": 1, \"ax\": -10, \"ay\": -10, \"font\": {\"color\": \"black\", \"size\": 10}, \"showarrow\": false, \"text\": \"97\", \"x\": 276.5, \"xanchor\": \"right\", \"xshift\": 30, \"y\": 389.0, \"yanchor\": \"bottom\"}, {\"arrowhead\": 1, \"ax\": -10, \"ay\": -10, \"font\": {\"color\": \"black\", \"size\": 10}, \"showarrow\": false, \"text\": \"80\", \"x\": 220.0, \"xanchor\": \"right\", \"xshift\": 30, \"y\": 433.5, \"yanchor\": \"bottom\"}, {\"arrowhead\": 1, \"ax\": -10, \"ay\": -10, \"font\": {\"color\": \"black\", \"size\": 10}, \"showarrow\": false, \"text\": \"142\", \"x\": 482.5, \"xanchor\": \"right\", \"xshift\": 30, \"y\": 397.0, \"yanchor\": \"bottom\"}], \"autosize\": true, \"hovermode\": \"closest\", \"margin\": {\"b\": 20, \"l\": 5, \"r\": 5, \"t\": 50}, \"showlegend\": false, \"template\": {\"data\": {\"bar\": [{\"error_x\": {\"color\": \"#2a3f5f\"}, \"error_y\": {\"color\": \"#2a3f5f\"}, \"marker\": {\"line\": {\"color\": \"#E5ECF6\", \"width\": 0.5}}, \"type\": \"bar\"}], \"barpolar\": [{\"marker\": {\"line\": {\"color\": \"#E5ECF6\", \"width\": 0.5}}, \"type\": \"barpolar\"}], \"carpet\": [{\"aaxis\": {\"endlinecolor\": \"#2a3f5f\", \"gridcolor\": \"white\", \"linecolor\": \"white\", \"minorgridcolor\": \"white\", \"startlinecolor\": \"#2a3f5f\"}, \"baxis\": {\"endlinecolor\": \"#2a3f5f\", \"gridcolor\": \"white\", \"linecolor\": \"white\", \"minorgridcolor\": \"white\", \"startlinecolor\": \"#2a3f5f\"}, \"type\": \"carpet\"}], \"choropleth\": [{\"colorbar\": {\"outlinewidth\": 0, \"ticks\": \"\"}, \"type\": \"choropleth\"}], \"contour\": [{\"colorbar\": {\"outlinewidth\": 0, \"ticks\": \"\"}, \"colorscale\": [[0.0, \"#0d0887\"], [0.1111111111111111, \"#46039f\"], [0.2222222222222222, \"#7201a8\"], [0.3333333333333333, \"#9c179e\"], [0.4444444444444444, \"#bd3786\"], [0.5555555555555556, \"#d8576b\"], [0.6666666666666666, \"#ed7953\"], [0.7777777777777778, \"#fb9f3a\"], [0.8888888888888888, \"#fdca26\"], [1.0, \"#f0f921\"]], \"type\": \"contour\"}], \"contourcarpet\": [{\"colorbar\": {\"outlinewidth\": 0, \"ticks\": \"\"}, \"type\": \"contourcarpet\"}], \"heatmap\": [{\"colorbar\": {\"outlinewidth\": 0, \"ticks\": \"\"}, \"colorscale\": [[0.0, \"#0d0887\"], [0.1111111111111111, \"#46039f\"], [0.2222222222222222, \"#7201a8\"], [0.3333333333333333, \"#9c179e\"], [0.4444444444444444, \"#bd3786\"], [0.5555555555555556, \"#d8576b\"], [0.6666666666666666, \"#ed7953\"], [0.7777777777777778, \"#fb9f3a\"], [0.8888888888888888, \"#fdca26\"], [1.0, \"#f0f921\"]], \"type\": \"heatmap\"}], \"heatmapgl\": [{\"colorbar\": {\"outlinewidth\": 0, \"ticks\": \"\"}, \"colorscale\": [[0.0, \"#0d0887\"], [0.1111111111111111, \"#46039f\"], [0.2222222222222222, \"#7201a8\"], [0.3333333333333333, \"#9c179e\"], [0.4444444444444444, \"#bd3786\"], [0.5555555555555556, \"#d8576b\"], [0.6666666666666666, \"#ed7953\"], [0.7777777777777778, \"#fb9f3a\"], [0.8888888888888888, \"#fdca26\"], [1.0, \"#f0f921\"]], \"type\": \"heatmapgl\"}], \"histogram\": [{\"marker\": {\"colorbar\": {\"outlinewidth\": 0, \"ticks\": \"\"}}, \"type\": \"histogram\"}], \"histogram2d\": [{\"colorbar\": {\"outlinewidth\": 0, \"ticks\": \"\"}, \"colorscale\": [[0.0, \"#0d0887\"], [0.1111111111111111, \"#46039f\"], [0.2222222222222222, \"#7201a8\"], [0.3333333333333333, \"#9c179e\"], [0.4444444444444444, \"#bd3786\"], [0.5555555555555556, \"#d8576b\"], [0.6666666666666666, \"#ed7953\"], [0.7777777777777778, \"#fb9f3a\"], [0.8888888888888888, \"#fdca26\"], [1.0, \"#f0f921\"]], \"type\": \"histogram2d\"}], \"histogram2dcontour\": [{\"colorbar\": {\"outlinewidth\": 0, \"ticks\": \"\"}, \"colorscale\": [[0.0, \"#0d0887\"], [0.1111111111111111, \"#46039f\"], [0.2222222222222222, \"#7201a8\"], [0.3333333333333333, \"#9c179e\"], [0.4444444444444444, \"#bd3786\"], [0.5555555555555556, \"#d8576b\"], [0.6666666666666666, \"#ed7953\"], [0.7777777777777778, \"#fb9f3a\"], [0.8888888888888888, \"#fdca26\"], [1.0, \"#f0f921\"]], \"type\": \"histogram2dcontour\"}], \"mesh3d\": [{\"colorbar\": {\"outlinewidth\": 0, \"ticks\": \"\"}, \"type\": \"mesh3d\"}], \"parcoords\": [{\"line\": {\"colorbar\": {\"outlinewidth\": 0, \"ticks\": \"\"}}, \"type\": \"parcoords\"}], \"pie\": [{\"automargin\": true, \"type\": \"pie\"}], \"scatter\": [{\"marker\": {\"colorbar\": {\"outlinewidth\": 0, \"ticks\": \"\"}}, \"type\": \"scatter\"}], \"scatter3d\": [{\"line\": {\"colorbar\": {\"outlinewidth\": 0, \"ticks\": \"\"}}, \"marker\": {\"colorbar\": {\"outlinewidth\": 0, \"ticks\": \"\"}}, \"type\": \"scatter3d\"}], \"scattercarpet\": [{\"marker\": {\"colorbar\": {\"outlinewidth\": 0, \"ticks\": \"\"}}, \"type\": \"scattercarpet\"}], \"scattergeo\": [{\"marker\": {\"colorbar\": {\"outlinewidth\": 0, \"ticks\": \"\"}}, \"type\": \"scattergeo\"}], \"scattergl\": [{\"marker\": {\"colorbar\": {\"outlinewidth\": 0, \"ticks\": \"\"}}, \"type\": \"scattergl\"}], \"scattermapbox\": [{\"marker\": {\"colorbar\": {\"outlinewidth\": 0, \"ticks\": \"\"}}, \"type\": \"scattermapbox\"}], \"scatterpolar\": [{\"marker\": {\"colorbar\": {\"outlinewidth\": 0, \"ticks\": \"\"}}, \"type\": \"scatterpolar\"}], \"scatterpolargl\": [{\"marker\": {\"colorbar\": {\"outlinewidth\": 0, \"ticks\": \"\"}}, \"type\": \"scatterpolargl\"}], \"scatterternary\": [{\"marker\": {\"colorbar\": {\"outlinewidth\": 0, \"ticks\": \"\"}}, \"type\": \"scatterternary\"}], \"surface\": [{\"colorbar\": {\"outlinewidth\": 0, \"ticks\": \"\"}, \"colorscale\": [[0.0, \"#0d0887\"], [0.1111111111111111, \"#46039f\"], [0.2222222222222222, \"#7201a8\"], [0.3333333333333333, \"#9c179e\"], [0.4444444444444444, \"#bd3786\"], [0.5555555555555556, \"#d8576b\"], [0.6666666666666666, \"#ed7953\"], [0.7777777777777778, \"#fb9f3a\"], [0.8888888888888888, \"#fdca26\"], [1.0, \"#f0f921\"]], \"type\": \"surface\"}], \"table\": [{\"cells\": {\"fill\": {\"color\": \"#EBF0F8\"}, \"line\": {\"color\": \"white\"}}, \"header\": {\"fill\": {\"color\": \"#C8D4E3\"}, \"line\": {\"color\": \"white\"}}, \"type\": \"table\"}]}, \"layout\": {\"annotationdefaults\": {\"arrowcolor\": \"#2a3f5f\", \"arrowhead\": 0, \"arrowwidth\": 1}, \"coloraxis\": {\"colorbar\": {\"outlinewidth\": 0, \"ticks\": \"\"}}, \"colorscale\": {\"diverging\": [[0, \"#8e0152\"], [0.1, \"#c51b7d\"], [0.2, \"#de77ae\"], [0.3, \"#f1b6da\"], [0.4, \"#fde0ef\"], [0.5, \"#f7f7f7\"], [0.6, \"#e6f5d0\"], [0.7, \"#b8e186\"], [0.8, \"#7fbc41\"], [0.9, \"#4d9221\"], [1, \"#276419\"]], \"sequential\": [[0.0, \"#0d0887\"], [0.1111111111111111, \"#46039f\"], [0.2222222222222222, \"#7201a8\"], [0.3333333333333333, \"#9c179e\"], [0.4444444444444444, \"#bd3786\"], [0.5555555555555556, \"#d8576b\"], [0.6666666666666666, \"#ed7953\"], [0.7777777777777778, \"#fb9f3a\"], [0.8888888888888888, \"#fdca26\"], [1.0, \"#f0f921\"]], \"sequentialminus\": [[0.0, \"#0d0887\"], [0.1111111111111111, \"#46039f\"], [0.2222222222222222, \"#7201a8\"], [0.3333333333333333, \"#9c179e\"], [0.4444444444444444, \"#bd3786\"], [0.5555555555555556, \"#d8576b\"], [0.6666666666666666, \"#ed7953\"], [0.7777777777777778, \"#fb9f3a\"], [0.8888888888888888, \"#fdca26\"], [1.0, \"#f0f921\"]]}, \"colorway\": [\"#636efa\", \"#EF553B\", \"#00cc96\", \"#ab63fa\", \"#FFA15A\", \"#19d3f3\", \"#FF6692\", \"#B6E880\", \"#FF97FF\", \"#FECB52\"], \"font\": {\"color\": \"#2a3f5f\"}, \"geo\": {\"bgcolor\": \"white\", \"lakecolor\": \"white\", \"landcolor\": \"#E5ECF6\", \"showlakes\": true, \"showland\": true, \"subunitcolor\": \"white\"}, \"hoverlabel\": {\"align\": \"left\"}, \"hovermode\": \"closest\", \"mapbox\": {\"style\": \"light\"}, \"paper_bgcolor\": \"white\", \"plot_bgcolor\": \"#E5ECF6\", \"polar\": {\"angularaxis\": {\"gridcolor\": \"white\", \"linecolor\": \"white\", \"ticks\": \"\"}, \"bgcolor\": \"#E5ECF6\", \"radialaxis\": {\"gridcolor\": \"white\", \"linecolor\": \"white\", \"ticks\": \"\"}}, \"scene\": {\"xaxis\": {\"backgroundcolor\": \"#E5ECF6\", \"gridcolor\": \"white\", \"gridwidth\": 2, \"linecolor\": \"white\", \"showbackground\": true, \"ticks\": \"\", \"zerolinecolor\": \"white\"}, \"yaxis\": {\"backgroundcolor\": \"#E5ECF6\", \"gridcolor\": \"white\", \"gridwidth\": 2, \"linecolor\": \"white\", \"showbackground\": true, \"ticks\": \"\", \"zerolinecolor\": \"white\"}, \"zaxis\": {\"backgroundcolor\": \"#E5ECF6\", \"gridcolor\": \"white\", \"gridwidth\": 2, \"linecolor\": \"white\", \"showbackground\": true, \"ticks\": \"\", \"zerolinecolor\": \"white\"}}, \"shapedefaults\": {\"line\": {\"color\": \"#2a3f5f\"}}, \"ternary\": {\"aaxis\": {\"gridcolor\": \"white\", \"linecolor\": \"white\", \"ticks\": \"\"}, \"baxis\": {\"gridcolor\": \"white\", \"linecolor\": \"white\", \"ticks\": \"\"}, \"bgcolor\": \"#E5ECF6\", \"caxis\": {\"gridcolor\": \"white\", \"linecolor\": \"white\", \"ticks\": \"\"}}, \"title\": {\"x\": 0.05}, \"xaxis\": {\"automargin\": true, \"gridcolor\": \"white\", \"linecolor\": \"white\", \"ticks\": \"\", \"title\": {\"standoff\": 15}, \"zerolinecolor\": \"white\", \"zerolinewidth\": 2}, \"yaxis\": {\"automargin\": true, \"gridcolor\": \"white\", \"linecolor\": \"white\", \"ticks\": \"\", \"title\": {\"standoff\": 15}, \"zerolinecolor\": \"white\", \"zerolinewidth\": 2}}}, \"title\": {\"font\": {\"size\": 16}, \"text\": \"<br>Romania Pathfinding Problem\"}, \"xaxis\": {\"showgrid\": false, \"showticklabels\": false, \"zeroline\": false}, \"yaxis\": {\"showgrid\": false, \"showticklabels\": false, \"zeroline\": false}},\n",
       "                        {\"responsive\": true}\n",
       "                    ).then(function(){\n",
       "                            \n",
       "var gd = document.getElementById('8e52379d-1c78-469f-828e-4b6c3f51c8e5');\n",
       "var x = new MutationObserver(function (mutations, observer) {{\n",
       "        var display = window.getComputedStyle(gd).display;\n",
       "        if (!display || display === 'none') {{\n",
       "            console.log([gd, 'removed!']);\n",
       "            Plotly.purge(gd);\n",
       "            observer.disconnect();\n",
       "        }}\n",
       "}});\n",
       "\n",
       "// Listen for the removal of the full notebook cells\n",
       "var notebookContainer = gd.closest('#notebook-container');\n",
       "if (notebookContainer) {{\n",
       "    x.observe(notebookContainer, {childList: true});\n",
       "}}\n",
       "\n",
       "// Listen for the clearing of the current output cell\n",
       "var outputEl = gd.closest('.output');\n",
       "if (outputEl) {{\n",
       "    x.observe(outputEl, {childList: true});\n",
       "}}\n",
       "\n",
       "                        })\n",
       "                };\n",
       "                });\n",
       "            </script>\n",
       "        </div>"
      ]
     },
     "metadata": {},
     "output_type": "display_data"
    }
   ],
   "source": [
    "def a_star(graph, start, goal, heuristic=euclidean_dist_heuristic):\n",
    "    \"\"\"\n",
    "    Warm-up exercise: Implement A* algorithm.\n",
    "\n",
    "    See README.md for exercise description.\n",
    "\n",
    "    Args:\n",
    "        graph (ExplorableGraph): Undirected graph to search.\n",
    "        start (str): Key for the start node.\n",
    "        goal (str): Key for the end node.\n",
    "        heuristic: Function to determine distance heuristic.\n",
    "            Default: euclidean_dist_heuristic.\n",
    "\n",
    "    Returns:\n",
    "        The best path as a list from the start and goal nodes (including both).\n",
    "    \"\"\"\n",
    "    #TODO: forgot to add start to visited\n",
    "    #########\n",
    "    \n",
    "    # reset explored nodes on the graph object each time we initiate a search\n",
    "    graph.reset_search() # for debugging purposes\n",
    "#     print(f\"Total Nodes Explored: {sum(list(graph.explored_nodes().values()))}\")\n",
    "    \n",
    "    if start == goal:\n",
    "        return []\n",
    "\n",
    "    init_path_dist = 0\n",
    "    visited = []\n",
    "    parent = {}\n",
    "    queue = PriorityQueue()\n",
    "    queue.append((heuristic(graph, start, goal), init_path_dist, start))\n",
    "    \n",
    "    while queue.size() > 0:\n",
    "#         print(f\"Queue: {queue}\")\n",
    "        node = queue.pop()\n",
    "#         print(f\"Node\")\n",
    "        current_dist = node[1]\n",
    "#         print()\n",
    "#         print(f\"Processing Node: {node}\")\n",
    "#         print(\"-------\")\n",
    "        \n",
    "       # Goal check\n",
    "        if node[-1] == goal:\n",
    "#             print(\"Finding route\")\n",
    "#             print(f\"Total cost to goal: {node[0]}\")\n",
    "#             print(f\"Total Nodes Explored: {sum(list(graph.explored_nodes().values()))}\")\n",
    "            return backtrace(parent, start, goal)\n",
    "    \n",
    "        neighbours = sorted(list(graph.neighbors(node[-1])))\n",
    "#         print(f\"Neighbours {neighbours}\")\n",
    "        for neighbour in neighbours:\n",
    "            # g-value\n",
    "            # TODO: something wrong happening here\n",
    "            path_dist = graph.get_edge_weight(node[-1], neighbour)\n",
    "            dist = current_dist + path_dist\n",
    "            h = heuristic(graph, neighbour, goal)\n",
    "            f =  dist + h\n",
    "#             print(f\"F Value from {node} --> {neighbour}: {current_dist} + {path_dist} + {h} == {f}\")\n",
    "            \n",
    "            if neighbour not in visited and not any(elem in neighbours for elem in queue):\n",
    "                parent[neighbour] = node\n",
    "                visited.append(neighbour)\n",
    "                queue.append((f, dist, neighbour))\n",
    "                \n",
    "            # Append node if it is already in the queue but has a lower cost than a previously explored node\n",
    "            else:\n",
    "                for frontier_node in queue:\n",
    "                    if frontier_node[-1] == neighbour and f < frontier_node[0]:\n",
    "                        parent[neighbour] = node\n",
    "                        queue.remove(frontier_node)\n",
    "                        queue.append((f, dist, neighbour))\n",
    "                \n",
    "            \n",
    "#             print(f\"F-value for Neighbour {neighbour} == {f}\")\n",
    "#         print(f\"Queue: {queue}\")\n",
    "#             print(f\"Nodes explored: {sum(list(graph.explored_nodes().values()))}\")\n",
    "#             print()\n",
    "\n",
    "path = a_star(graph, start=\"a\", goal=\"u\")\n",
    "\n",
    "path = [*map(city_mapping.get, path)]\n",
    "\n",
    "create_network_map(G, \n",
    "                   start=\"Arad\", \n",
    "                   goal=\"Urziceni\",\n",
    "                   path = path\n",
    ")"
   ]
  },
  {
   "cell_type": "markdown",
   "id": "c2a74898",
   "metadata": {},
   "source": [
    "# Bi-directional Search"
   ]
  },
  {
   "cell_type": "code",
   "execution_count": 459,
   "id": "2d5f273a",
   "metadata": {},
   "outputs": [
    {
     "data": {
      "application/vnd.plotly.v1+json": {
       "config": {
        "plotlyServerURL": "https://plot.ly"
       },
       "data": [
        {
         "hoverinfo": "text",
         "line": {
          "color": "#888",
          "width": 0.5
         },
         "mode": "lines",
         "text": [
          "75",
          "140",
          "118",
          "85",
          "101",
          "90",
          "211",
          "120",
          "146",
          "138",
          "75",
          "86",
          "99",
          "98",
          "92",
          "87",
          "111",
          "70",
          "71",
          "151",
          "97",
          "80",
          "142"
         ],
         "type": "scatter",
         "x": [
          91,
          108,
          null,
          91,
          207,
          null,
          91,
          94,
          null,
          400,
          456,
          null,
          400,
          320,
          null,
          400,
          375,
          null,
          400,
          305,
          null,
          253,
          165,
          null,
          253,
          233,
          null,
          253,
          320,
          null,
          165,
          168,
          null,
          562,
          534,
          null,
          305,
          207,
          null,
          534,
          456,
          null,
          473,
          509,
          null,
          473,
          406,
          null,
          165,
          94,
          null,
          165,
          168,
          null,
          131,
          108,
          null,
          131,
          207,
          null,
          320,
          233,
          null,
          233,
          207,
          null,
          456,
          509,
          null
         ],
         "y": [
          492,
          531,
          null,
          492,
          457,
          null,
          492,
          410,
          null,
          327,
          350,
          null,
          327,
          368,
          null,
          327,
          270,
          null,
          327,
          449,
          null,
          288,
          299,
          null,
          288,
          410,
          null,
          288,
          368,
          null,
          299,
          339,
          null,
          293,
          350,
          null,
          449,
          457,
          null,
          350,
          350,
          null,
          506,
          444,
          null,
          506,
          537,
          null,
          379,
          410,
          null,
          379,
          339,
          null,
          571,
          531,
          null,
          571,
          457,
          null,
          368,
          410,
          null,
          410,
          457,
          null,
          350,
          444,
          null
         ]
        },
        {
         "hoverinfo": "text",
         "marker": {
          "color": [
           "#FFA15A",
           "#00CC96",
           "#636EFA",
           "#636EFA",
           "#636EFA",
           "#636EFA",
           "#636EFA",
           "#636EFA",
           "#636EFA",
           "#636EFA",
           "#00CC96",
           "#00CC96",
           "#EF553B",
           "#636EFA",
           "#00CC96",
           "#636EFA",
           "#636EFA",
           "#636EFA",
           "#636EFA",
           "#636EFA"
          ],
          "line": {
           "width": 2
          },
          "showscale": false,
          "size": 10
         },
         "mode": "markers",
         "text": [
          "Distance to Goal: 500",
          "Distance to Goal: 500",
          "Distance to Goal: 500",
          "Distance to Goal: 500",
          "Distance to Goal: 500",
          "Distance to Goal: 500",
          "Distance to Goal: 500",
          "Distance to Goal: 500",
          "Distance to Goal: 500",
          "Distance to Goal: 500",
          "Distance to Goal: 500",
          "Distance to Goal: 500",
          "Distance to Goal: 500",
          "Distance to Goal: 500",
          "Distance to Goal: 500",
          "Distance to Goal: 500",
          "Distance to Goal: 500",
          "Distance to Goal: 500",
          "Distance to Goal: 500",
          "Distance to Goal: 500"
         ],
         "type": "scatter",
         "x": [
          91,
          400,
          253,
          165,
          562,
          305,
          534,
          473,
          165,
          131,
          320,
          233,
          456,
          108,
          207,
          94,
          375,
          168,
          509,
          406
         ],
         "y": [
          492,
          327,
          288,
          299,
          293,
          449,
          350,
          506,
          379,
          571,
          368,
          410,
          350,
          531,
          457,
          410,
          270,
          339,
          444,
          537
         ]
        }
       ],
       "layout": {
        "annotations": [
         {
          "arrowhead": 1,
          "ax": -10,
          "ay": -10,
          "font": {
           "color": "black",
           "size": 10
          },
          "showarrow": false,
          "text": "Arad",
          "x": 99,
          "xanchor": "right",
          "xshift": 10,
          "y": 497,
          "yanchor": "bottom"
         },
         {
          "arrowhead": 1,
          "ax": -10,
          "ay": -10,
          "font": {
           "color": "black",
           "size": 10
          },
          "showarrow": false,
          "text": "Bucharest",
          "x": 408,
          "xanchor": "right",
          "xshift": 10,
          "y": 332,
          "yanchor": "bottom"
         },
         {
          "arrowhead": 1,
          "ax": -10,
          "ay": -10,
          "font": {
           "color": "black",
           "size": 10
          },
          "showarrow": false,
          "text": "Craiova",
          "x": 261,
          "xanchor": "right",
          "xshift": 10,
          "y": 293,
          "yanchor": "bottom"
         },
         {
          "arrowhead": 1,
          "ax": -10,
          "ay": -10,
          "font": {
           "color": "black",
           "size": 10
          },
          "showarrow": false,
          "text": "Drobeta",
          "x": 173,
          "xanchor": "right",
          "xshift": 10,
          "y": 304,
          "yanchor": "bottom"
         },
         {
          "arrowhead": 1,
          "ax": -10,
          "ay": -10,
          "font": {
           "color": "black",
           "size": 10
          },
          "showarrow": false,
          "text": "Eforie",
          "x": 570,
          "xanchor": "right",
          "xshift": 10,
          "y": 298,
          "yanchor": "bottom"
         },
         {
          "arrowhead": 1,
          "ax": -10,
          "ay": -10,
          "font": {
           "color": "black",
           "size": 10
          },
          "showarrow": false,
          "text": "Fagaras",
          "x": 313,
          "xanchor": "right",
          "xshift": 10,
          "y": 454,
          "yanchor": "bottom"
         },
         {
          "arrowhead": 1,
          "ax": -10,
          "ay": -10,
          "font": {
           "color": "black",
           "size": 10
          },
          "showarrow": false,
          "text": "Hirsova",
          "x": 542,
          "xanchor": "right",
          "xshift": 10,
          "y": 355,
          "yanchor": "bottom"
         },
         {
          "arrowhead": 1,
          "ax": -10,
          "ay": -10,
          "font": {
           "color": "black",
           "size": 10
          },
          "showarrow": false,
          "text": "Iasi",
          "x": 481,
          "xanchor": "right",
          "xshift": 10,
          "y": 511,
          "yanchor": "bottom"
         },
         {
          "arrowhead": 1,
          "ax": -10,
          "ay": -10,
          "font": {
           "color": "black",
           "size": 10
          },
          "showarrow": false,
          "text": "Lugoj",
          "x": 173,
          "xanchor": "right",
          "xshift": 10,
          "y": 384,
          "yanchor": "bottom"
         },
         {
          "arrowhead": 1,
          "ax": -10,
          "ay": -10,
          "font": {
           "color": "black",
           "size": 10
          },
          "showarrow": false,
          "text": "Oradea",
          "x": 139,
          "xanchor": "right",
          "xshift": 10,
          "y": 576,
          "yanchor": "bottom"
         },
         {
          "arrowhead": 1,
          "ax": -10,
          "ay": -10,
          "font": {
           "color": "black",
           "size": 10
          },
          "showarrow": false,
          "text": "Pitesti",
          "x": 328,
          "xanchor": "right",
          "xshift": 10,
          "y": 373,
          "yanchor": "bottom"
         },
         {
          "arrowhead": 1,
          "ax": -10,
          "ay": -10,
          "font": {
           "color": "black",
           "size": 10
          },
          "showarrow": false,
          "text": "Rimnicu",
          "x": 241,
          "xanchor": "right",
          "xshift": 10,
          "y": 415,
          "yanchor": "bottom"
         },
         {
          "arrowhead": 1,
          "ax": -10,
          "ay": -10,
          "font": {
           "color": "black",
           "size": 10
          },
          "showarrow": false,
          "text": "Urziceni",
          "x": 464,
          "xanchor": "right",
          "xshift": 10,
          "y": 355,
          "yanchor": "bottom"
         },
         {
          "arrowhead": 1,
          "ax": -10,
          "ay": -10,
          "font": {
           "color": "black",
           "size": 10
          },
          "showarrow": false,
          "text": "Zerind",
          "x": 116,
          "xanchor": "right",
          "xshift": 10,
          "y": 536,
          "yanchor": "bottom"
         },
         {
          "arrowhead": 1,
          "ax": -10,
          "ay": -10,
          "font": {
           "color": "black",
           "size": 10
          },
          "showarrow": false,
          "text": "Sibiu",
          "x": 215,
          "xanchor": "right",
          "xshift": 10,
          "y": 462,
          "yanchor": "bottom"
         },
         {
          "arrowhead": 1,
          "ax": -10,
          "ay": -10,
          "font": {
           "color": "black",
           "size": 10
          },
          "showarrow": false,
          "text": "Timisoara",
          "x": 102,
          "xanchor": "right",
          "xshift": 10,
          "y": 415,
          "yanchor": "bottom"
         },
         {
          "arrowhead": 1,
          "ax": -10,
          "ay": -10,
          "font": {
           "color": "black",
           "size": 10
          },
          "showarrow": false,
          "text": "Giurgiu",
          "x": 383,
          "xanchor": "right",
          "xshift": 10,
          "y": 275,
          "yanchor": "bottom"
         },
         {
          "arrowhead": 1,
          "ax": -10,
          "ay": -10,
          "font": {
           "color": "black",
           "size": 10
          },
          "showarrow": false,
          "text": "Mehadia",
          "x": 176,
          "xanchor": "right",
          "xshift": 10,
          "y": 344,
          "yanchor": "bottom"
         },
         {
          "arrowhead": 1,
          "ax": -10,
          "ay": -10,
          "font": {
           "color": "black",
           "size": 10
          },
          "showarrow": false,
          "text": "Vaslui",
          "x": 517,
          "xanchor": "right",
          "xshift": 10,
          "y": 449,
          "yanchor": "bottom"
         },
         {
          "arrowhead": 1,
          "ax": -10,
          "ay": -10,
          "font": {
           "color": "black",
           "size": 10
          },
          "showarrow": false,
          "text": "Neamt",
          "x": 414,
          "xanchor": "right",
          "xshift": 10,
          "y": 542,
          "yanchor": "bottom"
         },
         {
          "arrowhead": 1,
          "ax": -10,
          "ay": -10,
          "font": {
           "color": "black",
           "size": 10
          },
          "showarrow": false,
          "text": "75",
          "x": 99.5,
          "xanchor": "right",
          "xshift": 30,
          "y": 511.5,
          "yanchor": "bottom"
         },
         {
          "arrowhead": 1,
          "ax": -10,
          "ay": -10,
          "font": {
           "color": "black",
           "size": 10
          },
          "showarrow": false,
          "text": "140",
          "x": 149,
          "xanchor": "right",
          "xshift": 30,
          "y": 474.5,
          "yanchor": "bottom"
         },
         {
          "arrowhead": 1,
          "ax": -10,
          "ay": -10,
          "font": {
           "color": "black",
           "size": 10
          },
          "showarrow": false,
          "text": "118",
          "x": 92.5,
          "xanchor": "right",
          "xshift": 30,
          "y": 451,
          "yanchor": "bottom"
         },
         {
          "arrowhead": 1,
          "ax": -10,
          "ay": -10,
          "font": {
           "color": "black",
           "size": 10
          },
          "showarrow": false,
          "text": "85",
          "x": 428,
          "xanchor": "right",
          "xshift": 30,
          "y": 338.5,
          "yanchor": "bottom"
         },
         {
          "arrowhead": 1,
          "ax": -10,
          "ay": -10,
          "font": {
           "color": "black",
           "size": 10
          },
          "showarrow": false,
          "text": "101",
          "x": 360,
          "xanchor": "right",
          "xshift": 30,
          "y": 347.5,
          "yanchor": "bottom"
         },
         {
          "arrowhead": 1,
          "ax": -10,
          "ay": -10,
          "font": {
           "color": "black",
           "size": 10
          },
          "showarrow": false,
          "text": "90",
          "x": 387.5,
          "xanchor": "right",
          "xshift": 30,
          "y": 298.5,
          "yanchor": "bottom"
         },
         {
          "arrowhead": 1,
          "ax": -10,
          "ay": -10,
          "font": {
           "color": "black",
           "size": 10
          },
          "showarrow": false,
          "text": "211",
          "x": 352.5,
          "xanchor": "right",
          "xshift": 30,
          "y": 388,
          "yanchor": "bottom"
         },
         {
          "arrowhead": 1,
          "ax": -10,
          "ay": -10,
          "font": {
           "color": "black",
           "size": 10
          },
          "showarrow": false,
          "text": "120",
          "x": 209,
          "xanchor": "right",
          "xshift": 30,
          "y": 293.5,
          "yanchor": "bottom"
         },
         {
          "arrowhead": 1,
          "ax": -10,
          "ay": -10,
          "font": {
           "color": "black",
           "size": 10
          },
          "showarrow": false,
          "text": "146",
          "x": 243,
          "xanchor": "right",
          "xshift": 30,
          "y": 349,
          "yanchor": "bottom"
         },
         {
          "arrowhead": 1,
          "ax": -10,
          "ay": -10,
          "font": {
           "color": "black",
           "size": 10
          },
          "showarrow": false,
          "text": "138",
          "x": 286.5,
          "xanchor": "right",
          "xshift": 30,
          "y": 328,
          "yanchor": "bottom"
         },
         {
          "arrowhead": 1,
          "ax": -10,
          "ay": -10,
          "font": {
           "color": "black",
           "size": 10
          },
          "showarrow": false,
          "text": "75",
          "x": 166.5,
          "xanchor": "right",
          "xshift": 30,
          "y": 319,
          "yanchor": "bottom"
         },
         {
          "arrowhead": 1,
          "ax": -10,
          "ay": -10,
          "font": {
           "color": "black",
           "size": 10
          },
          "showarrow": false,
          "text": "86",
          "x": 548,
          "xanchor": "right",
          "xshift": 30,
          "y": 321.5,
          "yanchor": "bottom"
         },
         {
          "arrowhead": 1,
          "ax": -10,
          "ay": -10,
          "font": {
           "color": "black",
           "size": 10
          },
          "showarrow": false,
          "text": "99",
          "x": 256,
          "xanchor": "right",
          "xshift": 30,
          "y": 453,
          "yanchor": "bottom"
         },
         {
          "arrowhead": 1,
          "ax": -10,
          "ay": -10,
          "font": {
           "color": "black",
           "size": 10
          },
          "showarrow": false,
          "text": "98",
          "x": 495,
          "xanchor": "right",
          "xshift": 30,
          "y": 350,
          "yanchor": "bottom"
         },
         {
          "arrowhead": 1,
          "ax": -10,
          "ay": -10,
          "font": {
           "color": "black",
           "size": 10
          },
          "showarrow": false,
          "text": "92",
          "x": 491,
          "xanchor": "right",
          "xshift": 30,
          "y": 475,
          "yanchor": "bottom"
         },
         {
          "arrowhead": 1,
          "ax": -10,
          "ay": -10,
          "font": {
           "color": "black",
           "size": 10
          },
          "showarrow": false,
          "text": "87",
          "x": 439.5,
          "xanchor": "right",
          "xshift": 30,
          "y": 521.5,
          "yanchor": "bottom"
         },
         {
          "arrowhead": 1,
          "ax": -10,
          "ay": -10,
          "font": {
           "color": "black",
           "size": 10
          },
          "showarrow": false,
          "text": "111",
          "x": 129.5,
          "xanchor": "right",
          "xshift": 30,
          "y": 394.5,
          "yanchor": "bottom"
         },
         {
          "arrowhead": 1,
          "ax": -10,
          "ay": -10,
          "font": {
           "color": "black",
           "size": 10
          },
          "showarrow": false,
          "text": "70",
          "x": 166.5,
          "xanchor": "right",
          "xshift": 30,
          "y": 359,
          "yanchor": "bottom"
         },
         {
          "arrowhead": 1,
          "ax": -10,
          "ay": -10,
          "font": {
           "color": "black",
           "size": 10
          },
          "showarrow": false,
          "text": "71",
          "x": 119.5,
          "xanchor": "right",
          "xshift": 30,
          "y": 551,
          "yanchor": "bottom"
         },
         {
          "arrowhead": 1,
          "ax": -10,
          "ay": -10,
          "font": {
           "color": "black",
           "size": 10
          },
          "showarrow": false,
          "text": "151",
          "x": 169,
          "xanchor": "right",
          "xshift": 30,
          "y": 514,
          "yanchor": "bottom"
         },
         {
          "arrowhead": 1,
          "ax": -10,
          "ay": -10,
          "font": {
           "color": "black",
           "size": 10
          },
          "showarrow": false,
          "text": "97",
          "x": 276.5,
          "xanchor": "right",
          "xshift": 30,
          "y": 389,
          "yanchor": "bottom"
         },
         {
          "arrowhead": 1,
          "ax": -10,
          "ay": -10,
          "font": {
           "color": "black",
           "size": 10
          },
          "showarrow": false,
          "text": "80",
          "x": 220,
          "xanchor": "right",
          "xshift": 30,
          "y": 433.5,
          "yanchor": "bottom"
         },
         {
          "arrowhead": 1,
          "ax": -10,
          "ay": -10,
          "font": {
           "color": "black",
           "size": 10
          },
          "showarrow": false,
          "text": "142",
          "x": 482.5,
          "xanchor": "right",
          "xshift": 30,
          "y": 397,
          "yanchor": "bottom"
         }
        ],
        "autosize": true,
        "hovermode": "closest",
        "margin": {
         "b": 20,
         "l": 5,
         "r": 5,
         "t": 50
        },
        "showlegend": false,
        "template": {
         "data": {
          "bar": [
           {
            "error_x": {
             "color": "#2a3f5f"
            },
            "error_y": {
             "color": "#2a3f5f"
            },
            "marker": {
             "line": {
              "color": "#E5ECF6",
              "width": 0.5
             }
            },
            "type": "bar"
           }
          ],
          "barpolar": [
           {
            "marker": {
             "line": {
              "color": "#E5ECF6",
              "width": 0.5
             }
            },
            "type": "barpolar"
           }
          ],
          "carpet": [
           {
            "aaxis": {
             "endlinecolor": "#2a3f5f",
             "gridcolor": "white",
             "linecolor": "white",
             "minorgridcolor": "white",
             "startlinecolor": "#2a3f5f"
            },
            "baxis": {
             "endlinecolor": "#2a3f5f",
             "gridcolor": "white",
             "linecolor": "white",
             "minorgridcolor": "white",
             "startlinecolor": "#2a3f5f"
            },
            "type": "carpet"
           }
          ],
          "choropleth": [
           {
            "colorbar": {
             "outlinewidth": 0,
             "ticks": ""
            },
            "type": "choropleth"
           }
          ],
          "contour": [
           {
            "colorbar": {
             "outlinewidth": 0,
             "ticks": ""
            },
            "colorscale": [
             [
              0,
              "#0d0887"
             ],
             [
              0.1111111111111111,
              "#46039f"
             ],
             [
              0.2222222222222222,
              "#7201a8"
             ],
             [
              0.3333333333333333,
              "#9c179e"
             ],
             [
              0.4444444444444444,
              "#bd3786"
             ],
             [
              0.5555555555555556,
              "#d8576b"
             ],
             [
              0.6666666666666666,
              "#ed7953"
             ],
             [
              0.7777777777777778,
              "#fb9f3a"
             ],
             [
              0.8888888888888888,
              "#fdca26"
             ],
             [
              1,
              "#f0f921"
             ]
            ],
            "type": "contour"
           }
          ],
          "contourcarpet": [
           {
            "colorbar": {
             "outlinewidth": 0,
             "ticks": ""
            },
            "type": "contourcarpet"
           }
          ],
          "heatmap": [
           {
            "colorbar": {
             "outlinewidth": 0,
             "ticks": ""
            },
            "colorscale": [
             [
              0,
              "#0d0887"
             ],
             [
              0.1111111111111111,
              "#46039f"
             ],
             [
              0.2222222222222222,
              "#7201a8"
             ],
             [
              0.3333333333333333,
              "#9c179e"
             ],
             [
              0.4444444444444444,
              "#bd3786"
             ],
             [
              0.5555555555555556,
              "#d8576b"
             ],
             [
              0.6666666666666666,
              "#ed7953"
             ],
             [
              0.7777777777777778,
              "#fb9f3a"
             ],
             [
              0.8888888888888888,
              "#fdca26"
             ],
             [
              1,
              "#f0f921"
             ]
            ],
            "type": "heatmap"
           }
          ],
          "heatmapgl": [
           {
            "colorbar": {
             "outlinewidth": 0,
             "ticks": ""
            },
            "colorscale": [
             [
              0,
              "#0d0887"
             ],
             [
              0.1111111111111111,
              "#46039f"
             ],
             [
              0.2222222222222222,
              "#7201a8"
             ],
             [
              0.3333333333333333,
              "#9c179e"
             ],
             [
              0.4444444444444444,
              "#bd3786"
             ],
             [
              0.5555555555555556,
              "#d8576b"
             ],
             [
              0.6666666666666666,
              "#ed7953"
             ],
             [
              0.7777777777777778,
              "#fb9f3a"
             ],
             [
              0.8888888888888888,
              "#fdca26"
             ],
             [
              1,
              "#f0f921"
             ]
            ],
            "type": "heatmapgl"
           }
          ],
          "histogram": [
           {
            "marker": {
             "colorbar": {
              "outlinewidth": 0,
              "ticks": ""
             }
            },
            "type": "histogram"
           }
          ],
          "histogram2d": [
           {
            "colorbar": {
             "outlinewidth": 0,
             "ticks": ""
            },
            "colorscale": [
             [
              0,
              "#0d0887"
             ],
             [
              0.1111111111111111,
              "#46039f"
             ],
             [
              0.2222222222222222,
              "#7201a8"
             ],
             [
              0.3333333333333333,
              "#9c179e"
             ],
             [
              0.4444444444444444,
              "#bd3786"
             ],
             [
              0.5555555555555556,
              "#d8576b"
             ],
             [
              0.6666666666666666,
              "#ed7953"
             ],
             [
              0.7777777777777778,
              "#fb9f3a"
             ],
             [
              0.8888888888888888,
              "#fdca26"
             ],
             [
              1,
              "#f0f921"
             ]
            ],
            "type": "histogram2d"
           }
          ],
          "histogram2dcontour": [
           {
            "colorbar": {
             "outlinewidth": 0,
             "ticks": ""
            },
            "colorscale": [
             [
              0,
              "#0d0887"
             ],
             [
              0.1111111111111111,
              "#46039f"
             ],
             [
              0.2222222222222222,
              "#7201a8"
             ],
             [
              0.3333333333333333,
              "#9c179e"
             ],
             [
              0.4444444444444444,
              "#bd3786"
             ],
             [
              0.5555555555555556,
              "#d8576b"
             ],
             [
              0.6666666666666666,
              "#ed7953"
             ],
             [
              0.7777777777777778,
              "#fb9f3a"
             ],
             [
              0.8888888888888888,
              "#fdca26"
             ],
             [
              1,
              "#f0f921"
             ]
            ],
            "type": "histogram2dcontour"
           }
          ],
          "mesh3d": [
           {
            "colorbar": {
             "outlinewidth": 0,
             "ticks": ""
            },
            "type": "mesh3d"
           }
          ],
          "parcoords": [
           {
            "line": {
             "colorbar": {
              "outlinewidth": 0,
              "ticks": ""
             }
            },
            "type": "parcoords"
           }
          ],
          "pie": [
           {
            "automargin": true,
            "type": "pie"
           }
          ],
          "scatter": [
           {
            "marker": {
             "colorbar": {
              "outlinewidth": 0,
              "ticks": ""
             }
            },
            "type": "scatter"
           }
          ],
          "scatter3d": [
           {
            "line": {
             "colorbar": {
              "outlinewidth": 0,
              "ticks": ""
             }
            },
            "marker": {
             "colorbar": {
              "outlinewidth": 0,
              "ticks": ""
             }
            },
            "type": "scatter3d"
           }
          ],
          "scattercarpet": [
           {
            "marker": {
             "colorbar": {
              "outlinewidth": 0,
              "ticks": ""
             }
            },
            "type": "scattercarpet"
           }
          ],
          "scattergeo": [
           {
            "marker": {
             "colorbar": {
              "outlinewidth": 0,
              "ticks": ""
             }
            },
            "type": "scattergeo"
           }
          ],
          "scattergl": [
           {
            "marker": {
             "colorbar": {
              "outlinewidth": 0,
              "ticks": ""
             }
            },
            "type": "scattergl"
           }
          ],
          "scattermapbox": [
           {
            "marker": {
             "colorbar": {
              "outlinewidth": 0,
              "ticks": ""
             }
            },
            "type": "scattermapbox"
           }
          ],
          "scatterpolar": [
           {
            "marker": {
             "colorbar": {
              "outlinewidth": 0,
              "ticks": ""
             }
            },
            "type": "scatterpolar"
           }
          ],
          "scatterpolargl": [
           {
            "marker": {
             "colorbar": {
              "outlinewidth": 0,
              "ticks": ""
             }
            },
            "type": "scatterpolargl"
           }
          ],
          "scatterternary": [
           {
            "marker": {
             "colorbar": {
              "outlinewidth": 0,
              "ticks": ""
             }
            },
            "type": "scatterternary"
           }
          ],
          "surface": [
           {
            "colorbar": {
             "outlinewidth": 0,
             "ticks": ""
            },
            "colorscale": [
             [
              0,
              "#0d0887"
             ],
             [
              0.1111111111111111,
              "#46039f"
             ],
             [
              0.2222222222222222,
              "#7201a8"
             ],
             [
              0.3333333333333333,
              "#9c179e"
             ],
             [
              0.4444444444444444,
              "#bd3786"
             ],
             [
              0.5555555555555556,
              "#d8576b"
             ],
             [
              0.6666666666666666,
              "#ed7953"
             ],
             [
              0.7777777777777778,
              "#fb9f3a"
             ],
             [
              0.8888888888888888,
              "#fdca26"
             ],
             [
              1,
              "#f0f921"
             ]
            ],
            "type": "surface"
           }
          ],
          "table": [
           {
            "cells": {
             "fill": {
              "color": "#EBF0F8"
             },
             "line": {
              "color": "white"
             }
            },
            "header": {
             "fill": {
              "color": "#C8D4E3"
             },
             "line": {
              "color": "white"
             }
            },
            "type": "table"
           }
          ]
         },
         "layout": {
          "annotationdefaults": {
           "arrowcolor": "#2a3f5f",
           "arrowhead": 0,
           "arrowwidth": 1
          },
          "coloraxis": {
           "colorbar": {
            "outlinewidth": 0,
            "ticks": ""
           }
          },
          "colorscale": {
           "diverging": [
            [
             0,
             "#8e0152"
            ],
            [
             0.1,
             "#c51b7d"
            ],
            [
             0.2,
             "#de77ae"
            ],
            [
             0.3,
             "#f1b6da"
            ],
            [
             0.4,
             "#fde0ef"
            ],
            [
             0.5,
             "#f7f7f7"
            ],
            [
             0.6,
             "#e6f5d0"
            ],
            [
             0.7,
             "#b8e186"
            ],
            [
             0.8,
             "#7fbc41"
            ],
            [
             0.9,
             "#4d9221"
            ],
            [
             1,
             "#276419"
            ]
           ],
           "sequential": [
            [
             0,
             "#0d0887"
            ],
            [
             0.1111111111111111,
             "#46039f"
            ],
            [
             0.2222222222222222,
             "#7201a8"
            ],
            [
             0.3333333333333333,
             "#9c179e"
            ],
            [
             0.4444444444444444,
             "#bd3786"
            ],
            [
             0.5555555555555556,
             "#d8576b"
            ],
            [
             0.6666666666666666,
             "#ed7953"
            ],
            [
             0.7777777777777778,
             "#fb9f3a"
            ],
            [
             0.8888888888888888,
             "#fdca26"
            ],
            [
             1,
             "#f0f921"
            ]
           ],
           "sequentialminus": [
            [
             0,
             "#0d0887"
            ],
            [
             0.1111111111111111,
             "#46039f"
            ],
            [
             0.2222222222222222,
             "#7201a8"
            ],
            [
             0.3333333333333333,
             "#9c179e"
            ],
            [
             0.4444444444444444,
             "#bd3786"
            ],
            [
             0.5555555555555556,
             "#d8576b"
            ],
            [
             0.6666666666666666,
             "#ed7953"
            ],
            [
             0.7777777777777778,
             "#fb9f3a"
            ],
            [
             0.8888888888888888,
             "#fdca26"
            ],
            [
             1,
             "#f0f921"
            ]
           ]
          },
          "colorway": [
           "#636efa",
           "#EF553B",
           "#00cc96",
           "#ab63fa",
           "#FFA15A",
           "#19d3f3",
           "#FF6692",
           "#B6E880",
           "#FF97FF",
           "#FECB52"
          ],
          "font": {
           "color": "#2a3f5f"
          },
          "geo": {
           "bgcolor": "white",
           "lakecolor": "white",
           "landcolor": "#E5ECF6",
           "showlakes": true,
           "showland": true,
           "subunitcolor": "white"
          },
          "hoverlabel": {
           "align": "left"
          },
          "hovermode": "closest",
          "mapbox": {
           "style": "light"
          },
          "paper_bgcolor": "white",
          "plot_bgcolor": "#E5ECF6",
          "polar": {
           "angularaxis": {
            "gridcolor": "white",
            "linecolor": "white",
            "ticks": ""
           },
           "bgcolor": "#E5ECF6",
           "radialaxis": {
            "gridcolor": "white",
            "linecolor": "white",
            "ticks": ""
           }
          },
          "scene": {
           "xaxis": {
            "backgroundcolor": "#E5ECF6",
            "gridcolor": "white",
            "gridwidth": 2,
            "linecolor": "white",
            "showbackground": true,
            "ticks": "",
            "zerolinecolor": "white"
           },
           "yaxis": {
            "backgroundcolor": "#E5ECF6",
            "gridcolor": "white",
            "gridwidth": 2,
            "linecolor": "white",
            "showbackground": true,
            "ticks": "",
            "zerolinecolor": "white"
           },
           "zaxis": {
            "backgroundcolor": "#E5ECF6",
            "gridcolor": "white",
            "gridwidth": 2,
            "linecolor": "white",
            "showbackground": true,
            "ticks": "",
            "zerolinecolor": "white"
           }
          },
          "shapedefaults": {
           "line": {
            "color": "#2a3f5f"
           }
          },
          "ternary": {
           "aaxis": {
            "gridcolor": "white",
            "linecolor": "white",
            "ticks": ""
           },
           "baxis": {
            "gridcolor": "white",
            "linecolor": "white",
            "ticks": ""
           },
           "bgcolor": "#E5ECF6",
           "caxis": {
            "gridcolor": "white",
            "linecolor": "white",
            "ticks": ""
           }
          },
          "title": {
           "x": 0.05
          },
          "xaxis": {
           "automargin": true,
           "gridcolor": "white",
           "linecolor": "white",
           "ticks": "",
           "title": {
            "standoff": 15
           },
           "zerolinecolor": "white",
           "zerolinewidth": 2
          },
          "yaxis": {
           "automargin": true,
           "gridcolor": "white",
           "linecolor": "white",
           "ticks": "",
           "title": {
            "standoff": 15
           },
           "zerolinecolor": "white",
           "zerolinewidth": 2
          }
         }
        },
        "title": {
         "font": {
          "size": 16
         },
         "text": "<br>Romania Pathfinding Problem"
        },
        "xaxis": {
         "showgrid": false,
         "showticklabels": false,
         "zeroline": false
        },
        "yaxis": {
         "showgrid": false,
         "showticklabels": false,
         "zeroline": false
        }
       }
      },
      "text/html": [
       "<div>\n",
       "        \n",
       "        \n",
       "            <div id=\"29e41f3e-b903-4393-be63-5bcff5534341\" class=\"plotly-graph-div\" style=\"height:525px; width:100%;\"></div>\n",
       "            <script type=\"text/javascript\">\n",
       "                require([\"plotly\"], function(Plotly) {\n",
       "                    window.PLOTLYENV=window.PLOTLYENV || {};\n",
       "                    \n",
       "                if (document.getElementById(\"29e41f3e-b903-4393-be63-5bcff5534341\")) {\n",
       "                    Plotly.newPlot(\n",
       "                        '29e41f3e-b903-4393-be63-5bcff5534341',\n",
       "                        [{\"hoverinfo\": \"text\", \"line\": {\"color\": \"#888\", \"width\": 0.5}, \"mode\": \"lines\", \"text\": [\"75\", \"140\", \"118\", \"85\", \"101\", \"90\", \"211\", \"120\", \"146\", \"138\", \"75\", \"86\", \"99\", \"98\", \"92\", \"87\", \"111\", \"70\", \"71\", \"151\", \"97\", \"80\", \"142\"], \"type\": \"scatter\", \"x\": [91, 108, null, 91, 207, null, 91, 94, null, 400, 456, null, 400, 320, null, 400, 375, null, 400, 305, null, 253, 165, null, 253, 233, null, 253, 320, null, 165, 168, null, 562, 534, null, 305, 207, null, 534, 456, null, 473, 509, null, 473, 406, null, 165, 94, null, 165, 168, null, 131, 108, null, 131, 207, null, 320, 233, null, 233, 207, null, 456, 509, null], \"y\": [492, 531, null, 492, 457, null, 492, 410, null, 327, 350, null, 327, 368, null, 327, 270, null, 327, 449, null, 288, 299, null, 288, 410, null, 288, 368, null, 299, 339, null, 293, 350, null, 449, 457, null, 350, 350, null, 506, 444, null, 506, 537, null, 379, 410, null, 379, 339, null, 571, 531, null, 571, 457, null, 368, 410, null, 410, 457, null, 350, 444, null]}, {\"hoverinfo\": \"text\", \"marker\": {\"color\": [\"#FFA15A\", \"#00CC96\", \"#636EFA\", \"#636EFA\", \"#636EFA\", \"#636EFA\", \"#636EFA\", \"#636EFA\", \"#636EFA\", \"#636EFA\", \"#00CC96\", \"#00CC96\", \"#EF553B\", \"#636EFA\", \"#00CC96\", \"#636EFA\", \"#636EFA\", \"#636EFA\", \"#636EFA\", \"#636EFA\"], \"line\": {\"width\": 2}, \"showscale\": false, \"size\": 10}, \"mode\": \"markers\", \"text\": [\"Distance to Goal: 500\", \"Distance to Goal: 500\", \"Distance to Goal: 500\", \"Distance to Goal: 500\", \"Distance to Goal: 500\", \"Distance to Goal: 500\", \"Distance to Goal: 500\", \"Distance to Goal: 500\", \"Distance to Goal: 500\", \"Distance to Goal: 500\", \"Distance to Goal: 500\", \"Distance to Goal: 500\", \"Distance to Goal: 500\", \"Distance to Goal: 500\", \"Distance to Goal: 500\", \"Distance to Goal: 500\", \"Distance to Goal: 500\", \"Distance to Goal: 500\", \"Distance to Goal: 500\", \"Distance to Goal: 500\"], \"type\": \"scatter\", \"x\": [91, 400, 253, 165, 562, 305, 534, 473, 165, 131, 320, 233, 456, 108, 207, 94, 375, 168, 509, 406], \"y\": [492, 327, 288, 299, 293, 449, 350, 506, 379, 571, 368, 410, 350, 531, 457, 410, 270, 339, 444, 537]}],\n",
       "                        {\"annotations\": [{\"arrowhead\": 1, \"ax\": -10, \"ay\": -10, \"font\": {\"color\": \"black\", \"size\": 10}, \"showarrow\": false, \"text\": \"Arad\", \"x\": 99, \"xanchor\": \"right\", \"xshift\": 10, \"y\": 497, \"yanchor\": \"bottom\"}, {\"arrowhead\": 1, \"ax\": -10, \"ay\": -10, \"font\": {\"color\": \"black\", \"size\": 10}, \"showarrow\": false, \"text\": \"Bucharest\", \"x\": 408, \"xanchor\": \"right\", \"xshift\": 10, \"y\": 332, \"yanchor\": \"bottom\"}, {\"arrowhead\": 1, \"ax\": -10, \"ay\": -10, \"font\": {\"color\": \"black\", \"size\": 10}, \"showarrow\": false, \"text\": \"Craiova\", \"x\": 261, \"xanchor\": \"right\", \"xshift\": 10, \"y\": 293, \"yanchor\": \"bottom\"}, {\"arrowhead\": 1, \"ax\": -10, \"ay\": -10, \"font\": {\"color\": \"black\", \"size\": 10}, \"showarrow\": false, \"text\": \"Drobeta\", \"x\": 173, \"xanchor\": \"right\", \"xshift\": 10, \"y\": 304, \"yanchor\": \"bottom\"}, {\"arrowhead\": 1, \"ax\": -10, \"ay\": -10, \"font\": {\"color\": \"black\", \"size\": 10}, \"showarrow\": false, \"text\": \"Eforie\", \"x\": 570, \"xanchor\": \"right\", \"xshift\": 10, \"y\": 298, \"yanchor\": \"bottom\"}, {\"arrowhead\": 1, \"ax\": -10, \"ay\": -10, \"font\": {\"color\": \"black\", \"size\": 10}, \"showarrow\": false, \"text\": \"Fagaras\", \"x\": 313, \"xanchor\": \"right\", \"xshift\": 10, \"y\": 454, \"yanchor\": \"bottom\"}, {\"arrowhead\": 1, \"ax\": -10, \"ay\": -10, \"font\": {\"color\": \"black\", \"size\": 10}, \"showarrow\": false, \"text\": \"Hirsova\", \"x\": 542, \"xanchor\": \"right\", \"xshift\": 10, \"y\": 355, \"yanchor\": \"bottom\"}, {\"arrowhead\": 1, \"ax\": -10, \"ay\": -10, \"font\": {\"color\": \"black\", \"size\": 10}, \"showarrow\": false, \"text\": \"Iasi\", \"x\": 481, \"xanchor\": \"right\", \"xshift\": 10, \"y\": 511, \"yanchor\": \"bottom\"}, {\"arrowhead\": 1, \"ax\": -10, \"ay\": -10, \"font\": {\"color\": \"black\", \"size\": 10}, \"showarrow\": false, \"text\": \"Lugoj\", \"x\": 173, \"xanchor\": \"right\", \"xshift\": 10, \"y\": 384, \"yanchor\": \"bottom\"}, {\"arrowhead\": 1, \"ax\": -10, \"ay\": -10, \"font\": {\"color\": \"black\", \"size\": 10}, \"showarrow\": false, \"text\": \"Oradea\", \"x\": 139, \"xanchor\": \"right\", \"xshift\": 10, \"y\": 576, \"yanchor\": \"bottom\"}, {\"arrowhead\": 1, \"ax\": -10, \"ay\": -10, \"font\": {\"color\": \"black\", \"size\": 10}, \"showarrow\": false, \"text\": \"Pitesti\", \"x\": 328, \"xanchor\": \"right\", \"xshift\": 10, \"y\": 373, \"yanchor\": \"bottom\"}, {\"arrowhead\": 1, \"ax\": -10, \"ay\": -10, \"font\": {\"color\": \"black\", \"size\": 10}, \"showarrow\": false, \"text\": \"Rimnicu\", \"x\": 241, \"xanchor\": \"right\", \"xshift\": 10, \"y\": 415, \"yanchor\": \"bottom\"}, {\"arrowhead\": 1, \"ax\": -10, \"ay\": -10, \"font\": {\"color\": \"black\", \"size\": 10}, \"showarrow\": false, \"text\": \"Urziceni\", \"x\": 464, \"xanchor\": \"right\", \"xshift\": 10, \"y\": 355, \"yanchor\": \"bottom\"}, {\"arrowhead\": 1, \"ax\": -10, \"ay\": -10, \"font\": {\"color\": \"black\", \"size\": 10}, \"showarrow\": false, \"text\": \"Zerind\", \"x\": 116, \"xanchor\": \"right\", \"xshift\": 10, \"y\": 536, \"yanchor\": \"bottom\"}, {\"arrowhead\": 1, \"ax\": -10, \"ay\": -10, \"font\": {\"color\": \"black\", \"size\": 10}, \"showarrow\": false, \"text\": \"Sibiu\", \"x\": 215, \"xanchor\": \"right\", \"xshift\": 10, \"y\": 462, \"yanchor\": \"bottom\"}, {\"arrowhead\": 1, \"ax\": -10, \"ay\": -10, \"font\": {\"color\": \"black\", \"size\": 10}, \"showarrow\": false, \"text\": \"Timisoara\", \"x\": 102, \"xanchor\": \"right\", \"xshift\": 10, \"y\": 415, \"yanchor\": \"bottom\"}, {\"arrowhead\": 1, \"ax\": -10, \"ay\": -10, \"font\": {\"color\": \"black\", \"size\": 10}, \"showarrow\": false, \"text\": \"Giurgiu\", \"x\": 383, \"xanchor\": \"right\", \"xshift\": 10, \"y\": 275, \"yanchor\": \"bottom\"}, {\"arrowhead\": 1, \"ax\": -10, \"ay\": -10, \"font\": {\"color\": \"black\", \"size\": 10}, \"showarrow\": false, \"text\": \"Mehadia\", \"x\": 176, \"xanchor\": \"right\", \"xshift\": 10, \"y\": 344, \"yanchor\": \"bottom\"}, {\"arrowhead\": 1, \"ax\": -10, \"ay\": -10, \"font\": {\"color\": \"black\", \"size\": 10}, \"showarrow\": false, \"text\": \"Vaslui\", \"x\": 517, \"xanchor\": \"right\", \"xshift\": 10, \"y\": 449, \"yanchor\": \"bottom\"}, {\"arrowhead\": 1, \"ax\": -10, \"ay\": -10, \"font\": {\"color\": \"black\", \"size\": 10}, \"showarrow\": false, \"text\": \"Neamt\", \"x\": 414, \"xanchor\": \"right\", \"xshift\": 10, \"y\": 542, \"yanchor\": \"bottom\"}, {\"arrowhead\": 1, \"ax\": -10, \"ay\": -10, \"font\": {\"color\": \"black\", \"size\": 10}, \"showarrow\": false, \"text\": \"75\", \"x\": 99.5, \"xanchor\": \"right\", \"xshift\": 30, \"y\": 511.5, \"yanchor\": \"bottom\"}, {\"arrowhead\": 1, \"ax\": -10, \"ay\": -10, \"font\": {\"color\": \"black\", \"size\": 10}, \"showarrow\": false, \"text\": \"140\", \"x\": 149.0, \"xanchor\": \"right\", \"xshift\": 30, \"y\": 474.5, \"yanchor\": \"bottom\"}, {\"arrowhead\": 1, \"ax\": -10, \"ay\": -10, \"font\": {\"color\": \"black\", \"size\": 10}, \"showarrow\": false, \"text\": \"118\", \"x\": 92.5, \"xanchor\": \"right\", \"xshift\": 30, \"y\": 451.0, \"yanchor\": \"bottom\"}, {\"arrowhead\": 1, \"ax\": -10, \"ay\": -10, \"font\": {\"color\": \"black\", \"size\": 10}, \"showarrow\": false, \"text\": \"85\", \"x\": 428.0, \"xanchor\": \"right\", \"xshift\": 30, \"y\": 338.5, \"yanchor\": \"bottom\"}, {\"arrowhead\": 1, \"ax\": -10, \"ay\": -10, \"font\": {\"color\": \"black\", \"size\": 10}, \"showarrow\": false, \"text\": \"101\", \"x\": 360.0, \"xanchor\": \"right\", \"xshift\": 30, \"y\": 347.5, \"yanchor\": \"bottom\"}, {\"arrowhead\": 1, \"ax\": -10, \"ay\": -10, \"font\": {\"color\": \"black\", \"size\": 10}, \"showarrow\": false, \"text\": \"90\", \"x\": 387.5, \"xanchor\": \"right\", \"xshift\": 30, \"y\": 298.5, \"yanchor\": \"bottom\"}, {\"arrowhead\": 1, \"ax\": -10, \"ay\": -10, \"font\": {\"color\": \"black\", \"size\": 10}, \"showarrow\": false, \"text\": \"211\", \"x\": 352.5, \"xanchor\": \"right\", \"xshift\": 30, \"y\": 388.0, \"yanchor\": \"bottom\"}, {\"arrowhead\": 1, \"ax\": -10, \"ay\": -10, \"font\": {\"color\": \"black\", \"size\": 10}, \"showarrow\": false, \"text\": \"120\", \"x\": 209.0, \"xanchor\": \"right\", \"xshift\": 30, \"y\": 293.5, \"yanchor\": \"bottom\"}, {\"arrowhead\": 1, \"ax\": -10, \"ay\": -10, \"font\": {\"color\": \"black\", \"size\": 10}, \"showarrow\": false, \"text\": \"146\", \"x\": 243.0, \"xanchor\": \"right\", \"xshift\": 30, \"y\": 349.0, \"yanchor\": \"bottom\"}, {\"arrowhead\": 1, \"ax\": -10, \"ay\": -10, \"font\": {\"color\": \"black\", \"size\": 10}, \"showarrow\": false, \"text\": \"138\", \"x\": 286.5, \"xanchor\": \"right\", \"xshift\": 30, \"y\": 328.0, \"yanchor\": \"bottom\"}, {\"arrowhead\": 1, \"ax\": -10, \"ay\": -10, \"font\": {\"color\": \"black\", \"size\": 10}, \"showarrow\": false, \"text\": \"75\", \"x\": 166.5, \"xanchor\": \"right\", \"xshift\": 30, \"y\": 319.0, \"yanchor\": \"bottom\"}, {\"arrowhead\": 1, \"ax\": -10, \"ay\": -10, \"font\": {\"color\": \"black\", \"size\": 10}, \"showarrow\": false, \"text\": \"86\", \"x\": 548.0, \"xanchor\": \"right\", \"xshift\": 30, \"y\": 321.5, \"yanchor\": \"bottom\"}, {\"arrowhead\": 1, \"ax\": -10, \"ay\": -10, \"font\": {\"color\": \"black\", \"size\": 10}, \"showarrow\": false, \"text\": \"99\", \"x\": 256.0, \"xanchor\": \"right\", \"xshift\": 30, \"y\": 453.0, \"yanchor\": \"bottom\"}, {\"arrowhead\": 1, \"ax\": -10, \"ay\": -10, \"font\": {\"color\": \"black\", \"size\": 10}, \"showarrow\": false, \"text\": \"98\", \"x\": 495.0, \"xanchor\": \"right\", \"xshift\": 30, \"y\": 350.0, \"yanchor\": \"bottom\"}, {\"arrowhead\": 1, \"ax\": -10, \"ay\": -10, \"font\": {\"color\": \"black\", \"size\": 10}, \"showarrow\": false, \"text\": \"92\", \"x\": 491.0, \"xanchor\": \"right\", \"xshift\": 30, \"y\": 475.0, \"yanchor\": \"bottom\"}, {\"arrowhead\": 1, \"ax\": -10, \"ay\": -10, \"font\": {\"color\": \"black\", \"size\": 10}, \"showarrow\": false, \"text\": \"87\", \"x\": 439.5, \"xanchor\": \"right\", \"xshift\": 30, \"y\": 521.5, \"yanchor\": \"bottom\"}, {\"arrowhead\": 1, \"ax\": -10, \"ay\": -10, \"font\": {\"color\": \"black\", \"size\": 10}, \"showarrow\": false, \"text\": \"111\", \"x\": 129.5, \"xanchor\": \"right\", \"xshift\": 30, \"y\": 394.5, \"yanchor\": \"bottom\"}, {\"arrowhead\": 1, \"ax\": -10, \"ay\": -10, \"font\": {\"color\": \"black\", \"size\": 10}, \"showarrow\": false, \"text\": \"70\", \"x\": 166.5, \"xanchor\": \"right\", \"xshift\": 30, \"y\": 359.0, \"yanchor\": \"bottom\"}, {\"arrowhead\": 1, \"ax\": -10, \"ay\": -10, \"font\": {\"color\": \"black\", \"size\": 10}, \"showarrow\": false, \"text\": \"71\", \"x\": 119.5, \"xanchor\": \"right\", \"xshift\": 30, \"y\": 551.0, \"yanchor\": \"bottom\"}, {\"arrowhead\": 1, \"ax\": -10, \"ay\": -10, \"font\": {\"color\": \"black\", \"size\": 10}, \"showarrow\": false, \"text\": \"151\", \"x\": 169.0, \"xanchor\": \"right\", \"xshift\": 30, \"y\": 514.0, \"yanchor\": \"bottom\"}, {\"arrowhead\": 1, \"ax\": -10, \"ay\": -10, \"font\": {\"color\": \"black\", \"size\": 10}, \"showarrow\": false, \"text\": \"97\", \"x\": 276.5, \"xanchor\": \"right\", \"xshift\": 30, \"y\": 389.0, \"yanchor\": \"bottom\"}, {\"arrowhead\": 1, \"ax\": -10, \"ay\": -10, \"font\": {\"color\": \"black\", \"size\": 10}, \"showarrow\": false, \"text\": \"80\", \"x\": 220.0, \"xanchor\": \"right\", \"xshift\": 30, \"y\": 433.5, \"yanchor\": \"bottom\"}, {\"arrowhead\": 1, \"ax\": -10, \"ay\": -10, \"font\": {\"color\": \"black\", \"size\": 10}, \"showarrow\": false, \"text\": \"142\", \"x\": 482.5, \"xanchor\": \"right\", \"xshift\": 30, \"y\": 397.0, \"yanchor\": \"bottom\"}], \"autosize\": true, \"hovermode\": \"closest\", \"margin\": {\"b\": 20, \"l\": 5, \"r\": 5, \"t\": 50}, \"showlegend\": false, \"template\": {\"data\": {\"bar\": [{\"error_x\": {\"color\": \"#2a3f5f\"}, \"error_y\": {\"color\": \"#2a3f5f\"}, \"marker\": {\"line\": {\"color\": \"#E5ECF6\", \"width\": 0.5}}, \"type\": \"bar\"}], \"barpolar\": [{\"marker\": {\"line\": {\"color\": \"#E5ECF6\", \"width\": 0.5}}, \"type\": \"barpolar\"}], \"carpet\": [{\"aaxis\": {\"endlinecolor\": \"#2a3f5f\", \"gridcolor\": \"white\", \"linecolor\": \"white\", \"minorgridcolor\": \"white\", \"startlinecolor\": \"#2a3f5f\"}, \"baxis\": {\"endlinecolor\": \"#2a3f5f\", \"gridcolor\": \"white\", \"linecolor\": \"white\", \"minorgridcolor\": \"white\", \"startlinecolor\": \"#2a3f5f\"}, \"type\": \"carpet\"}], \"choropleth\": [{\"colorbar\": {\"outlinewidth\": 0, \"ticks\": \"\"}, \"type\": \"choropleth\"}], \"contour\": [{\"colorbar\": {\"outlinewidth\": 0, \"ticks\": \"\"}, \"colorscale\": [[0.0, \"#0d0887\"], [0.1111111111111111, \"#46039f\"], [0.2222222222222222, \"#7201a8\"], [0.3333333333333333, \"#9c179e\"], [0.4444444444444444, \"#bd3786\"], [0.5555555555555556, \"#d8576b\"], [0.6666666666666666, \"#ed7953\"], [0.7777777777777778, \"#fb9f3a\"], [0.8888888888888888, \"#fdca26\"], [1.0, \"#f0f921\"]], \"type\": \"contour\"}], \"contourcarpet\": [{\"colorbar\": {\"outlinewidth\": 0, \"ticks\": \"\"}, \"type\": \"contourcarpet\"}], \"heatmap\": [{\"colorbar\": {\"outlinewidth\": 0, \"ticks\": \"\"}, \"colorscale\": [[0.0, \"#0d0887\"], [0.1111111111111111, \"#46039f\"], [0.2222222222222222, \"#7201a8\"], [0.3333333333333333, \"#9c179e\"], [0.4444444444444444, \"#bd3786\"], [0.5555555555555556, \"#d8576b\"], [0.6666666666666666, \"#ed7953\"], [0.7777777777777778, \"#fb9f3a\"], [0.8888888888888888, \"#fdca26\"], [1.0, \"#f0f921\"]], \"type\": \"heatmap\"}], \"heatmapgl\": [{\"colorbar\": {\"outlinewidth\": 0, \"ticks\": \"\"}, \"colorscale\": [[0.0, \"#0d0887\"], [0.1111111111111111, \"#46039f\"], [0.2222222222222222, \"#7201a8\"], [0.3333333333333333, \"#9c179e\"], [0.4444444444444444, \"#bd3786\"], [0.5555555555555556, \"#d8576b\"], [0.6666666666666666, \"#ed7953\"], [0.7777777777777778, \"#fb9f3a\"], [0.8888888888888888, \"#fdca26\"], [1.0, \"#f0f921\"]], \"type\": \"heatmapgl\"}], \"histogram\": [{\"marker\": {\"colorbar\": {\"outlinewidth\": 0, \"ticks\": \"\"}}, \"type\": \"histogram\"}], \"histogram2d\": [{\"colorbar\": {\"outlinewidth\": 0, \"ticks\": \"\"}, \"colorscale\": [[0.0, \"#0d0887\"], [0.1111111111111111, \"#46039f\"], [0.2222222222222222, \"#7201a8\"], [0.3333333333333333, \"#9c179e\"], [0.4444444444444444, \"#bd3786\"], [0.5555555555555556, \"#d8576b\"], [0.6666666666666666, \"#ed7953\"], [0.7777777777777778, \"#fb9f3a\"], [0.8888888888888888, \"#fdca26\"], [1.0, \"#f0f921\"]], \"type\": \"histogram2d\"}], \"histogram2dcontour\": [{\"colorbar\": {\"outlinewidth\": 0, \"ticks\": \"\"}, \"colorscale\": [[0.0, \"#0d0887\"], [0.1111111111111111, \"#46039f\"], [0.2222222222222222, \"#7201a8\"], [0.3333333333333333, \"#9c179e\"], [0.4444444444444444, \"#bd3786\"], [0.5555555555555556, \"#d8576b\"], [0.6666666666666666, \"#ed7953\"], [0.7777777777777778, \"#fb9f3a\"], [0.8888888888888888, \"#fdca26\"], [1.0, \"#f0f921\"]], \"type\": \"histogram2dcontour\"}], \"mesh3d\": [{\"colorbar\": {\"outlinewidth\": 0, \"ticks\": \"\"}, \"type\": \"mesh3d\"}], \"parcoords\": [{\"line\": {\"colorbar\": {\"outlinewidth\": 0, \"ticks\": \"\"}}, \"type\": \"parcoords\"}], \"pie\": [{\"automargin\": true, \"type\": \"pie\"}], \"scatter\": [{\"marker\": {\"colorbar\": {\"outlinewidth\": 0, \"ticks\": \"\"}}, \"type\": \"scatter\"}], \"scatter3d\": [{\"line\": {\"colorbar\": {\"outlinewidth\": 0, \"ticks\": \"\"}}, \"marker\": {\"colorbar\": {\"outlinewidth\": 0, \"ticks\": \"\"}}, \"type\": \"scatter3d\"}], \"scattercarpet\": [{\"marker\": {\"colorbar\": {\"outlinewidth\": 0, \"ticks\": \"\"}}, \"type\": \"scattercarpet\"}], \"scattergeo\": [{\"marker\": {\"colorbar\": {\"outlinewidth\": 0, \"ticks\": \"\"}}, \"type\": \"scattergeo\"}], \"scattergl\": [{\"marker\": {\"colorbar\": {\"outlinewidth\": 0, \"ticks\": \"\"}}, \"type\": \"scattergl\"}], \"scattermapbox\": [{\"marker\": {\"colorbar\": {\"outlinewidth\": 0, \"ticks\": \"\"}}, \"type\": \"scattermapbox\"}], \"scatterpolar\": [{\"marker\": {\"colorbar\": {\"outlinewidth\": 0, \"ticks\": \"\"}}, \"type\": \"scatterpolar\"}], \"scatterpolargl\": [{\"marker\": {\"colorbar\": {\"outlinewidth\": 0, \"ticks\": \"\"}}, \"type\": \"scatterpolargl\"}], \"scatterternary\": [{\"marker\": {\"colorbar\": {\"outlinewidth\": 0, \"ticks\": \"\"}}, \"type\": \"scatterternary\"}], \"surface\": [{\"colorbar\": {\"outlinewidth\": 0, \"ticks\": \"\"}, \"colorscale\": [[0.0, \"#0d0887\"], [0.1111111111111111, \"#46039f\"], [0.2222222222222222, \"#7201a8\"], [0.3333333333333333, \"#9c179e\"], [0.4444444444444444, \"#bd3786\"], [0.5555555555555556, \"#d8576b\"], [0.6666666666666666, \"#ed7953\"], [0.7777777777777778, \"#fb9f3a\"], [0.8888888888888888, \"#fdca26\"], [1.0, \"#f0f921\"]], \"type\": \"surface\"}], \"table\": [{\"cells\": {\"fill\": {\"color\": \"#EBF0F8\"}, \"line\": {\"color\": \"white\"}}, \"header\": {\"fill\": {\"color\": \"#C8D4E3\"}, \"line\": {\"color\": \"white\"}}, \"type\": \"table\"}]}, \"layout\": {\"annotationdefaults\": {\"arrowcolor\": \"#2a3f5f\", \"arrowhead\": 0, \"arrowwidth\": 1}, \"coloraxis\": {\"colorbar\": {\"outlinewidth\": 0, \"ticks\": \"\"}}, \"colorscale\": {\"diverging\": [[0, \"#8e0152\"], [0.1, \"#c51b7d\"], [0.2, \"#de77ae\"], [0.3, \"#f1b6da\"], [0.4, \"#fde0ef\"], [0.5, \"#f7f7f7\"], [0.6, \"#e6f5d0\"], [0.7, \"#b8e186\"], [0.8, \"#7fbc41\"], [0.9, \"#4d9221\"], [1, \"#276419\"]], \"sequential\": [[0.0, \"#0d0887\"], [0.1111111111111111, \"#46039f\"], [0.2222222222222222, \"#7201a8\"], [0.3333333333333333, \"#9c179e\"], [0.4444444444444444, \"#bd3786\"], [0.5555555555555556, \"#d8576b\"], [0.6666666666666666, \"#ed7953\"], [0.7777777777777778, \"#fb9f3a\"], [0.8888888888888888, \"#fdca26\"], [1.0, \"#f0f921\"]], \"sequentialminus\": [[0.0, \"#0d0887\"], [0.1111111111111111, \"#46039f\"], [0.2222222222222222, \"#7201a8\"], [0.3333333333333333, \"#9c179e\"], [0.4444444444444444, \"#bd3786\"], [0.5555555555555556, \"#d8576b\"], [0.6666666666666666, \"#ed7953\"], [0.7777777777777778, \"#fb9f3a\"], [0.8888888888888888, \"#fdca26\"], [1.0, \"#f0f921\"]]}, \"colorway\": [\"#636efa\", \"#EF553B\", \"#00cc96\", \"#ab63fa\", \"#FFA15A\", \"#19d3f3\", \"#FF6692\", \"#B6E880\", \"#FF97FF\", \"#FECB52\"], \"font\": {\"color\": \"#2a3f5f\"}, \"geo\": {\"bgcolor\": \"white\", \"lakecolor\": \"white\", \"landcolor\": \"#E5ECF6\", \"showlakes\": true, \"showland\": true, \"subunitcolor\": \"white\"}, \"hoverlabel\": {\"align\": \"left\"}, \"hovermode\": \"closest\", \"mapbox\": {\"style\": \"light\"}, \"paper_bgcolor\": \"white\", \"plot_bgcolor\": \"#E5ECF6\", \"polar\": {\"angularaxis\": {\"gridcolor\": \"white\", \"linecolor\": \"white\", \"ticks\": \"\"}, \"bgcolor\": \"#E5ECF6\", \"radialaxis\": {\"gridcolor\": \"white\", \"linecolor\": \"white\", \"ticks\": \"\"}}, \"scene\": {\"xaxis\": {\"backgroundcolor\": \"#E5ECF6\", \"gridcolor\": \"white\", \"gridwidth\": 2, \"linecolor\": \"white\", \"showbackground\": true, \"ticks\": \"\", \"zerolinecolor\": \"white\"}, \"yaxis\": {\"backgroundcolor\": \"#E5ECF6\", \"gridcolor\": \"white\", \"gridwidth\": 2, \"linecolor\": \"white\", \"showbackground\": true, \"ticks\": \"\", \"zerolinecolor\": \"white\"}, \"zaxis\": {\"backgroundcolor\": \"#E5ECF6\", \"gridcolor\": \"white\", \"gridwidth\": 2, \"linecolor\": \"white\", \"showbackground\": true, \"ticks\": \"\", \"zerolinecolor\": \"white\"}}, \"shapedefaults\": {\"line\": {\"color\": \"#2a3f5f\"}}, \"ternary\": {\"aaxis\": {\"gridcolor\": \"white\", \"linecolor\": \"white\", \"ticks\": \"\"}, \"baxis\": {\"gridcolor\": \"white\", \"linecolor\": \"white\", \"ticks\": \"\"}, \"bgcolor\": \"#E5ECF6\", \"caxis\": {\"gridcolor\": \"white\", \"linecolor\": \"white\", \"ticks\": \"\"}}, \"title\": {\"x\": 0.05}, \"xaxis\": {\"automargin\": true, \"gridcolor\": \"white\", \"linecolor\": \"white\", \"ticks\": \"\", \"title\": {\"standoff\": 15}, \"zerolinecolor\": \"white\", \"zerolinewidth\": 2}, \"yaxis\": {\"automargin\": true, \"gridcolor\": \"white\", \"linecolor\": \"white\", \"ticks\": \"\", \"title\": {\"standoff\": 15}, \"zerolinecolor\": \"white\", \"zerolinewidth\": 2}}}, \"title\": {\"font\": {\"size\": 16}, \"text\": \"<br>Romania Pathfinding Problem\"}, \"xaxis\": {\"showgrid\": false, \"showticklabels\": false, \"zeroline\": false}, \"yaxis\": {\"showgrid\": false, \"showticklabels\": false, \"zeroline\": false}},\n",
       "                        {\"responsive\": true}\n",
       "                    ).then(function(){\n",
       "                            \n",
       "var gd = document.getElementById('29e41f3e-b903-4393-be63-5bcff5534341');\n",
       "var x = new MutationObserver(function (mutations, observer) {{\n",
       "        var display = window.getComputedStyle(gd).display;\n",
       "        if (!display || display === 'none') {{\n",
       "            console.log([gd, 'removed!']);\n",
       "            Plotly.purge(gd);\n",
       "            observer.disconnect();\n",
       "        }}\n",
       "}});\n",
       "\n",
       "// Listen for the removal of the full notebook cells\n",
       "var notebookContainer = gd.closest('#notebook-container');\n",
       "if (notebookContainer) {{\n",
       "    x.observe(notebookContainer, {childList: true});\n",
       "}}\n",
       "\n",
       "// Listen for the clearing of the current output cell\n",
       "var outputEl = gd.closest('.output');\n",
       "if (outputEl) {{\n",
       "    x.observe(outputEl, {childList: true});\n",
       "}}\n",
       "\n",
       "                        })\n",
       "                };\n",
       "                });\n",
       "            </script>\n",
       "        </div>"
      ]
     },
     "metadata": {},
     "output_type": "display_data"
    }
   ],
   "source": [
    "# Helper function to track path progress\n",
    "############################################################################\n",
    "def bidirectional_backtrace(start_parent, goal_parent, intersecting_node, start, goal):\n",
    "    \"\"\" Given a dictionary of parent nodes, backtrace from the end node to the start node\n",
    "\n",
    "        Parameters:\n",
    "            start_parent (dict): A dictionary of parent nodes for search originating from the start node\n",
    "            goal_parent (dict): A dictionary of parent nodes for search originating from the goal node\n",
    "            intersection (string): Node where the two searches intersect\n",
    "            start (str): The starting node\n",
    "            end (str): The ending node\n",
    "    \"\"\" \n",
    "    solution = []\n",
    "    total_cost = 0\n",
    "    \n",
    "    \n",
    "    # Backtrace Forward search\n",
    "    for_path = [intersecting_node]\n",
    "    \n",
    "    while for_path[-1] != start:\n",
    "        parent_node = start_parent[for_path[-1]]\n",
    "        parent_node, path_cost = parent_node[0], parent_node[1]\n",
    "        for_path.append(parent_node[-1])\n",
    "\n",
    "    for_path.reverse()\n",
    "    # Remove extraneous intersecting node from the path since it's included in the reverse search\n",
    "    solution.extend(for_path[:-1])\n",
    "\n",
    "    # Backtrace reverse search\n",
    "    rev_path = [intersecting_node]\n",
    "#     print(f\"Formulating path for goal search. Starting from {rev_path}\")\n",
    "\n",
    "    # While we backtrack through the graph, append the parent node to the path\n",
    "    while rev_path[-1] != goal:\n",
    "        parent_node = goal_parent[rev_path[-1]]\n",
    "        parent_node, path_cost = parent_node[0], parent_node[1]\n",
    "        rev_path.append(parent_node[-1])\n",
    "\n",
    "    solution.extend(rev_path)\n",
    "    return solution\n",
    "\n",
    "############################################################################\n",
    "\n",
    "def nodes_in_queue(queue):\n",
    "    values = [node[-1] for node in queue]\n",
    "    return values\n",
    "\n",
    "def bidirectional_ucs(graph, start, goal):\n",
    "    \"\"\"\n",
    "    Exercise 1: Bidirectional Search.\n",
    "\n",
    "    See README.md for exercise description.\n",
    "\n",
    "    Args:\n",
    "        graph (ExplorableGraph): Undirected graph to search.\n",
    "        start (str): Key for the start node.\n",
    "        goal (str): Key for the end node.\n",
    "\n",
    "    Returns:\n",
    "        The best path as a list from the start and goal nodes (including both).\n",
    "    \"\"\"\n",
    "    #TODO: Check termination conditions. May have to change meet in the middle conditions to visited set (explored)\n",
    "    # and not the frontier\n",
    "    \n",
    "    # reset explored nodes on the graph object each time we initiate a search\n",
    "    graph.reset_search() # for debugging purposes\n",
    "#     print(f\"Total Nodes Explored: {sum(list(graph.explored_nodes().values()))}\")\n",
    "#     print()\n",
    "    \n",
    "    if start == goal:\n",
    "        return []\n",
    "    \n",
    "    \n",
    "    forward_dist = 0 # Use depth as the entry value for prioritizing nodes --> start --> goal\n",
    "    reverse_dist = 0 # Use depth as the entry value for prioritizing nodes --> goal --> start\n",
    "    \n",
    "    forward_visited = []\n",
    "    reverse_visited = []\n",
    "    \n",
    "    forward_parent = {}\n",
    "    reverse_parent = {}\n",
    "    \n",
    "    forward_queue = PriorityQueue()\n",
    "    reverse_queue = PriorityQueue()\n",
    "    \n",
    "    forward_queue.append((forward_dist, start))\n",
    "    forward_visited.append(start)\n",
    "    \n",
    "    reverse_queue.append((reverse_dist, goal))\n",
    "    reverse_visited.append(goal)\n",
    "    \n",
    "    total_path = []\n",
    "    \n",
    "    while forward_queue.size() > 0 and reverse_queue.size() > 0:\n",
    "        \n",
    "        if forward_queue.size() > 0:\n",
    "            node = forward_queue.pop()\n",
    "            forward_dist = node[0]\n",
    "#             print(f\"Forward: Processing Node {node}\")\n",
    "#             print(\"--------------------------------\")\n",
    "\n",
    "            # Goal check\n",
    "            if node[-1] == goal or node[-1] in reverse_queue:\n",
    "#                 print(f\"Goal found or found in opposing search PQ: {node[-1]}\")\n",
    "                \n",
    "                reverse_queue_nodes = nodes_in_queue(reverse_queue)\n",
    "\n",
    "                # Union of opposite search frontier and explored sets\n",
    "                #TODO: can probably rewrite this\n",
    "                reverse_union = set().union(reverse_queue_nodes, reverse_visited)\n",
    "                \n",
    "                # Find insersection between forward_union and explored set of current search\n",
    "                frontier_intersection = list(reverse_union.intersection(set(forward_visited)))\n",
    "                frontier_intersection.append(node[-1])\n",
    "#                 print(f\"Forward Search issue\")\n",
    "                \n",
    "                return bidirectional_backtrace(forward_parent, reverse_parent, node[-1], start, goal)\n",
    "            \n",
    "            neighbours = sorted(list(graph.neighbors(node[-1])))\n",
    "#             print(f\"Neighbours {neighbours}\")\n",
    "            for neighbour in neighbours:\n",
    "                path_dist = graph.get_edge_weight(node[-1], neighbour)\n",
    "#                 print(f\"Path from {node[-1]} to {neighbour} with path cost {path_dist} + forward distance {forward_dist}\")\n",
    "                \n",
    "                # Compute total distance so far\n",
    "                new_dist = forward_dist + path_dist\n",
    "                if neighbour not in forward_visited: #and not any(elem in neighbours for elem in queue):\n",
    "                    forward_parent[neighbour] = (node, path_dist)\n",
    "                    forward_visited.append(neighbour)\n",
    "                    forward_queue.append((new_dist, neighbour))\n",
    "                    \n",
    "                # Append node if it is already in the queue but has a lower cost than a previously explored node\n",
    "                else:\n",
    "                    for frontier_node in forward_queue:\n",
    "                        if frontier_node[-1] == neighbour and new_dist < frontier_node[0]:\n",
    "    #                         print(f\"Frontier node: {frontier_node}\")\n",
    "                            forward_parent[neighbour] = (node, path_dist) #node\n",
    "                            forward_queue.remove(frontier_node)\n",
    "                            forward_queue.append((new_dist, neighbour))\n",
    "\n",
    "#             print(f\"Forward Queue: {forward_queue}\")    \n",
    "#             print()\n",
    "            \n",
    "        if reverse_queue.size() > 0:\n",
    "            node = reverse_queue.pop()\n",
    "            reverse_dist = node[0]\n",
    "#             print(f\"Reverse: Processing Node {node}\")\n",
    "#             print(\"--------------------------------\")\n",
    "\n",
    "            # Goal check\n",
    "            if node[-1] == start or node[-1] in forward_queue:\n",
    "#                 print(f\"Goal found or found in opposing search PQ. Node {node[-1]}\")\n",
    "                forward_queue_nodes = nodes_in_queue(forward_queue)\n",
    "#                 print(f\"Nodes in forward frontier: {forward_queue_nodes}\")\n",
    "\n",
    "                # Union of opposite search frontier and explored sets\n",
    "                forward_union = set().union(forward_queue_nodes, forward_visited)\n",
    "#                 print(f\"Forward Union: {forward_union}\")\n",
    "                \n",
    "                # Find insersection between forward_union and explored set of current search\n",
    "                frontier_intersection = list(forward_union.intersection(set(reverse_visited)))\n",
    "                frontier_intersection.append(node[-1])\n",
    "#                 print(f\"Frontier intersection: {frontier_intersection}\")\n",
    "                \n",
    "                return bidirectional_backtrace(forward_parent, reverse_parent, node[-1], start, goal)\n",
    "                \n",
    "#                 rev_path = backtrace(reverse_parent, goal, node[-1])\n",
    "#                 print(f\"Reverse path {rev_path}\")\n",
    "#                 print(f\"Total Path: {total_path}\")\n",
    "#                 return forward_parent, reverse_parent, goal, node[-1]\n",
    "            \n",
    "            neighbours = sorted(list(graph.neighbors(node[-1])))\n",
    "#             print(f\"Neighbours {neighbours}\")\n",
    "            for neighbour in neighbours:\n",
    "                path_dist = graph.get_edge_weight(node[-1], neighbour)\n",
    "#                 print(f\"Path from {node[-1]} to {neighbour} with path cost {path_dist}\")\n",
    "                \n",
    "                # Compute total distance so far\n",
    "                new_dist = reverse_dist + path_dist\n",
    "                if neighbour not in reverse_visited: #and not any(elem in neighbours for elem in queue):\n",
    "                    reverse_parent[neighbour] = (node, path_dist) #node\n",
    "                    reverse_visited.append(neighbour)\n",
    "                    reverse_queue.append((new_dist, neighbour))\n",
    "                    \n",
    "                # Append node if it is already in the queue but has a lower cost than a previously explored node\n",
    "                else:\n",
    "                    for frontier_node in forward_queue:\n",
    "                        if frontier_node[-1] == neighbour and new_dist < frontier_node[0]:\n",
    "    #                         print(f\"Frontier node: {frontier_node}\")\n",
    "                            reverse_parent[neighbour] = (node, path_dist) #node\n",
    "                            reverse_queue.remove(frontier_node)\n",
    "                            reverse_queue.append((new_dist, neighbour))\n",
    "                \n",
    "#             print(f\"Reverse Queue: {reverse_queue}\")\n",
    "#             print()\n",
    "                    \n",
    "            \n",
    "            \n",
    "        \n",
    "path = bidirectional_ucs(graph, start=\"a\", goal=\"u\")\n",
    "path = [*map(city_mapping.get, path)]\n",
    "\n",
    "create_network_map(G, \n",
    "                   start=\"Arad\", \n",
    "                   goal=\"Urziceni\", \n",
    "                   path = path\n",
    ")\n",
    "# print()\n",
    "# print(f\"Total Nodes Explored: {sum(list(graph.explored_nodes().values()))}\")\n",
    "\n",
    "# forward_parent,reverse_parent, goal, intersecting_node = bidirectional_ucs(graph, start=\"a\", goal=\"u\")\n",
    "\n",
    "# print(bidirectional_ucs(graph, start=\"c\", goal=\"r\"))"
   ]
  },
  {
   "cell_type": "code",
   "execution_count": 463,
   "id": "ef92a47a",
   "metadata": {},
   "outputs": [
    {
     "name": "stdout",
     "output_type": "stream",
     "text": [
      "Total Nodes Explored: 0\n",
      "Neighbours ['s', 't', 'z']\n",
      "F Value from (391.6490776192381, 0, 'a') --> s: 391.6490776192381 + 140 + 271.01660465735307 == 802.6656822765913\n",
      "F Value from (391.6490776192381, 0, 'a') --> t: 391.6490776192381 + 118 + 366.9386869764484 == 876.5877645956865\n",
      "F Value from (391.6490776192381, 0, 'a') --> z: 391.6490776192381 + 75 + 392.2562937672256 == 858.9053713864637\n",
      "Reverse: Processing Node (391.6490776192381, 0, 'u')\n",
      "--------------------------------\n",
      "Neighbours ['b', 'h', 'v']\n",
      "F Value from (391.6490776192381, 0, 'u') --> b: 391.6490776192381 + 85 + 60.53924347066124 == 537.1883210898993\n",
      "F Value from (391.6490776192381, 0, 'u') --> h: 391.6490776192381 + 98 + 78.0 == 567.6490776192381\n",
      "F Value from (391.6490776192381, 0, 'u') --> v: 391.6490776192381 + 142 + 107.91200118615167 == 641.5610788053898\n",
      "Neighbours ['a', 'f', 'o', 'r']\n",
      "F Value from (802.6656822765913, 531.6490776192381, 's') --> a: 802.6656822765913 + 140 + 391.6490776192381 == 1334.3147598958294\n",
      "F Value from (802.6656822765913, 531.6490776192381, 's') --> f: 802.6656822765913 + 99 + 180.5602392554906 == 1082.2259215320819\n",
      "F Value from (802.6656822765913, 531.6490776192381, 's') --> o: 802.6656822765913 + 151 + 393.02162790360535 == 1346.6873101801966\n",
      "F Value from (802.6656822765913, 531.6490776192381, 's') --> r: 802.6656822765913 + 80 + 230.93072554339753 == 1113.5964078199888\n",
      "Reverse: Processing Node (537.1883210898993, 476.6490776192381, 'b')\n",
      "--------------------------------\n",
      "Neighbours ['f', 'g', 'p', 'u']\n",
      "F Value from (537.1883210898993, 476.6490776192381, 'b') --> f: 537.1883210898993 + 211 + 180.5602392554906 == 928.7485603453899\n",
      "F Value from (537.1883210898993, 476.6490776192381, 'b') --> g: 537.1883210898993 + 90 + 113.84638773364749 == 741.0347088235468\n",
      "F Value from (537.1883210898993, 476.6490776192381, 'b') --> p: 537.1883210898993 + 101 + 137.18600511714013 == 775.3743262070394\n",
      "F Value from (537.1883210898993, 476.6490776192381, 'b') --> u: 537.1883210898993 + 85 + 0.0 == 622.1883210898993\n",
      "Neighbours ['a', 'o']\n",
      "F Value from (858.9053713864637, 466.6490776192381, 'z') --> a: 858.9053713864637 + 75 + 391.6490776192381 == 1325.5544490057018\n",
      "F Value from (858.9053713864637, 466.6490776192381, 'z') --> o: 858.9053713864637 + 71 + 393.02162790360535 == 1322.926999290069\n",
      "Reverse: Processing Node (567.6490776192381, 489.6490776192381, 'h')\n",
      "--------------------------------\n",
      "Neighbours ['e', 'u']\n",
      "F Value from (567.6490776192381, 489.6490776192381, 'h') --> e: 567.6490776192381 + 86 + 120.3536455617361 == 774.0027231809743\n",
      "F Value from (567.6490776192381, 489.6490776192381, 'h') --> u: 567.6490776192381 + 98 + 0.0 == 665.6490776192381\n",
      "Neighbours ['a', 'l']\n",
      "F Value from (876.5877645956865, 509.6490776192381, 't') --> a: 876.5877645956865 + 118 + 391.6490776192381 == 1386.2368422149245\n",
      "F Value from (876.5877645956865, 509.6490776192381, 't') --> l: 876.5877645956865 + 111 + 292.4414471308744 == 1280.0292117265608\n",
      "Reverse: Processing Node (622.1883210898993, 622.1883210898993, 'u')\n",
      "--------------------------------\n",
      "Neighbours ['b', 'h', 'v']\n",
      "F Value from (622.1883210898993, 622.1883210898993, 'u') --> b: 622.1883210898993 + 85 + 60.53924347066124 == 767.7275645605606\n",
      "F Value from (622.1883210898993, 622.1883210898993, 'u') --> h: 622.1883210898993 + 98 + 78.0 == 798.1883210898993\n",
      "F Value from (622.1883210898993, 622.1883210898993, 'u') --> v: 622.1883210898993 + 142 + 107.91200118615167 == 872.100322276051\n",
      "['a', 's', 'f', 'b', 'u']\n"
     ]
    }
   ],
   "source": [
    "def bidirectional_a_star(graph, start, goal, heuristic=euclidean_dist_heuristic):\n",
    "    \"\"\"\n",
    "    Exercise 2: Bidirectional A*.\n",
    "\n",
    "    See README.md for exercise description.\n",
    "\n",
    "    Args:\n",
    "        graph (ExplorableGraph): Undirected graph to search.\n",
    "        start (str): Key for the start node.\n",
    "        goal (str): Key for the end node.\n",
    "        heuristic: Function to determine distance heuristic.\n",
    "            Default: euclidean_dist_heuristic.\n",
    "\n",
    "    Returns:\n",
    "        The best path as a list from the start and goal nodes (including both).\n",
    "    \"\"\"\n",
    "    #TODO: Check termination conditions. May have to change meet in the middle conditions to visited set (explored)\n",
    "    # and not the frontier\n",
    "\n",
    "    # reset explored nodes on the graph object each time we initiate a search\n",
    "    graph.reset_search() # for debugging purposes\n",
    "    print(f\"Total Nodes Explored: {sum(list(graph.explored_nodes().values()))}\")\n",
    "    \n",
    "    if start == goal:\n",
    "        return []\n",
    "\n",
    "    forward_init_path_dist = 0\n",
    "    forward_visited = []\n",
    "    forward_parent = {}\n",
    "    forward_queue = PriorityQueue()\n",
    "    forward_queue.append((heuristic(graph, start, goal), forward_init_path_dist, start))\n",
    "    \n",
    "    reverse_init_path_dist = 0\n",
    "    reverse_visited = []\n",
    "    reverse_parent = {}\n",
    "    reverse_queue = PriorityQueue()\n",
    "    reverse_queue.append((heuristic(graph, goal, start), reverse_init_path_dist, goal))\n",
    "    \n",
    "    while forward_queue.size() > 0 and reverse_queue.size() > 0:\n",
    "        \n",
    "        if forward_queue.size() > 0:\n",
    "            node = forward_queue.pop()\n",
    "            forward_dist = node[0]\n",
    "#             print(f\"Forward: Processing Node {node}\")\n",
    "#             print(\"--------------------------------\")\n",
    "\n",
    "            # Goal check\n",
    "            if node[-1] == goal or node[-1] in reverse_queue:\n",
    "#                 print(f\"Goal found or found in opposing search PQ: {node[-1]}\")\n",
    "                \n",
    "                reverse_queue_nodes = nodes_in_queue(reverse_queue)\n",
    "\n",
    "                # Union of opposite search frontier and explored sets\n",
    "                #TODO: can probably rewrite this\n",
    "                reverse_union = set().union(reverse_queue_nodes, reverse_visited)\n",
    "                \n",
    "                # Find insersection between forward_union and explored set of current search\n",
    "                frontier_intersection = list(reverse_union.intersection(set(forward_visited)))\n",
    "                frontier_intersection.append(node[-1])\n",
    "                \n",
    "                return bidirectional_backtrace(forward_parent, reverse_parent, node[-1], start, goal)\n",
    "\n",
    "            neighbours = sorted(list(graph.neighbors(node[-1])))\n",
    "            print(f\"Neighbours {neighbours}\")\n",
    "            for neighbour in neighbours:\n",
    "                # g-value\n",
    "                path_dist = graph.get_edge_weight(node[-1], neighbour)\n",
    "                dist = forward_dist + path_dist\n",
    "                h = heuristic(graph, neighbour, goal)\n",
    "                f =  dist + h\n",
    "                print(f\"F Value from {node} --> {neighbour}: {forward_dist} + {path_dist} + {h} == {f}\")\n",
    "\n",
    "                if neighbour not in forward_visited and not any(elem in neighbours for elem in forward_queue):\n",
    "                    forward_parent[neighbour] = node\n",
    "                    forward_visited.append(neighbour)\n",
    "                    forward_queue.append((f, dist, neighbour))\n",
    "\n",
    "                # Append node if it is already in the queue but has a lower cost than a previously explored node\n",
    "                else:\n",
    "                    for frontier_node in forward_queue:\n",
    "                        if frontier_node[-1] == neighbour and f < frontier_node[0]:\n",
    "                            forward_parent[neighbour] = node\n",
    "                            forward_queue.remove(frontier_node)\n",
    "                            forward_queue.append((f, dist, neighbour))\n",
    "                            \n",
    "        if reverse_queue.size() > 0:\n",
    "            node = reverse_queue.pop()\n",
    "            reverse_dist = node[0]\n",
    "            print(f\"Reverse: Processing Node {node}\")\n",
    "            print(\"--------------------------------\")\n",
    "\n",
    "            # Goal check\n",
    "            if node[-1] == start or node[-1] in forward_queue:\n",
    "                print(f\"Goal found or found in opposing search PQ. Node {node[-1]}\")\n",
    "                forward_queue_nodes = nodes_in_queue(forward_queue)\n",
    "                print(f\"Nodes in forward frontier: {forward_queue_nodes}\")\n",
    "\n",
    "                # Union of opposite search frontier and explored sets\n",
    "                forward_union = set().union(forward_queue_nodes, forward_visited)\n",
    "#                 print(f\"Forward Union: {forward_union}\")\n",
    "                \n",
    "                # Find insersection between forward_union and explored set of current search\n",
    "                frontier_intersection = list(forward_union.intersection(set(reverse_visited)))\n",
    "                frontier_intersection.append(node[-1])\n",
    "#                 print(f\"Frontier intersection: {frontier_intersection}\")\n",
    "                \n",
    "                return bidirectional_backtrace(forward_parent, reverse_parent, node[-1], start, goal)\n",
    "    \n",
    "                            \n",
    "            neighbours = sorted(list(graph.neighbors(node[-1])))\n",
    "            print(f\"Neighbours {neighbours}\")\n",
    "            for neighbour in neighbours:\n",
    "                # g-value\n",
    "                # TODO: something wrong happening here\n",
    "                path_dist = graph.get_edge_weight(node[-1], neighbour)\n",
    "                dist = reverse_dist + path_dist\n",
    "                h = heuristic(graph, neighbour, goal)\n",
    "                f =  dist + h\n",
    "                print(f\"F Value from {node} --> {neighbour}: {reverse_dist} + {path_dist} + {h} == {f}\")\n",
    "\n",
    "                if neighbour not in reverse_visited and not any(elem in neighbours for elem in reverse_queue):\n",
    "                    reverse_parent[neighbour] = node\n",
    "                    reverse_visited.append(neighbour)\n",
    "                    reverse_queue.append((f, dist, neighbour))\n",
    "\n",
    "                # Append node if it is already in the queue but has a lower cost than a previously explored node\n",
    "                else:\n",
    "                    for frontier_node in reverse_queue:\n",
    "                        if frontier_node[-1] == neighbour and f < frontier_node[0]:\n",
    "                            reverse_parent[neighbour] = node\n",
    "                            reverse_queue.remove(frontier_node)\n",
    "                            reverse_queue.append((f, dist, neighbour))\n",
    "                            \n",
    "                            \n",
    "print(bidirectional_a_star(graph, start=\"a\", goal=\"u\", heuristic=euclidean_dist_heuristic))\n"
   ]
  },
  {
   "cell_type": "markdown",
   "id": "4e7110bc",
   "metadata": {},
   "source": [
    "# Tridirectional Search"
   ]
  },
  {
   "cell_type": "code",
   "execution_count": 462,
   "id": "80e7a46e",
   "metadata": {},
   "outputs": [
    {
     "name": "stdout",
     "output_type": "stream",
     "text": [
      "Finding path between Goals: ('a', 'z', 's')\n",
      "Total Nodes Explored: 0\n",
      "Searching Agent #1\n",
      "Forward: Processing Node (0, 'a')\n",
      "--------------------------------\n",
      "Searching Agent #2\n",
      "Forward: Processing Node (0, 'z')\n",
      "--------------------------------\n",
      "Solution_12: ['z', 'a']\n",
      "Searching Agent #3\n",
      "Forward: Processing Node (0, 's')\n",
      "--------------------------------\n",
      "Solution_31: ['s', 'a']\n",
      "Searching Agent #2\n",
      "Forward: Processing Node (71, 'o')\n",
      "--------------------------------\n",
      "Solution_23: ['z', 'o', 's']\n",
      "(['z', 'a'], ['z', 'o', 's'], ['s', 'a'])\n"
     ]
    }
   ],
   "source": [
    "# Helper function to track path progress\n",
    "############################################################################\n",
    "def bidirectional_backtrace(start_parent, goal_parent, intersecting_node, start, goal):\n",
    "    \"\"\" Given a dictionary of parent nodes, backtrace from the end node to the start node\n",
    "\n",
    "        Parameters:\n",
    "            start_parent (dict): A dictionary of parent nodes for search originating from the start node\n",
    "            goal_parent (dict): A dictionary of parent nodes for search originating from the goal node\n",
    "            intersection (string): Node where the two searches intersect\n",
    "            start (str): The starting node\n",
    "            end (str): The ending node\n",
    "    \"\"\" \n",
    "    solution = []\n",
    "    forward_cost = 0\n",
    "    reverse_cost = 0\n",
    "    \n",
    "    \n",
    "    # Backtrace Forward search\n",
    "    for_path = [intersecting_node]\n",
    "    \n",
    "    while for_path[-1] != start:\n",
    "        parent_node = start_parent[for_path[-1]]\n",
    "#         print(f\"Parent Node: {parent_node}, start node: {for_path[-1]}\")\n",
    "        for_path.append(parent_node[-1])\n",
    "\n",
    "    for_path.reverse()\n",
    "    # Remove extraneous intersecting node from the path since it's included in the reverse search\n",
    "    solution.extend(for_path[:-1])\n",
    "\n",
    "    # Backtrace reverse search\n",
    "    rev_path = [intersecting_node]\n",
    "#     print(f\"Formulating path for goal search. Starting from {rev_path}\")\n",
    "\n",
    "    # While we backtrack through the graph, append the parent node to the path\n",
    "    while rev_path[-1] != goal:\n",
    "        parent_node = goal_parent[rev_path[-1]]\n",
    "        rev_path.append(parent_node[-1])\n",
    "\n",
    "    solution.extend(rev_path)\n",
    "    return solution\n",
    "\n",
    "def nodes_in_queue(queue):\n",
    "    values = [node[-1] for node in queue]\n",
    "    return values\n",
    "\n",
    "def tri_a_star_final(goals, solution_12, solution_23, solution_31):\n",
    "    solutions = [solution_12, solution_23, solution_31]\n",
    "    \n",
    "    cost_min = float(\"inf\")\n",
    "    combo = None\n",
    "    for sol in solutions:\n",
    "        if set(goals).issubset(sol[0]) and sol[1] < cost_min:\n",
    "            cost_min = sol[1]\n",
    "            solution = sol[0]\n",
    "    \n",
    "    # Find minimum cost combination\n",
    "    print('12 + 23: ', solution_12[1] + solution_23[1])\n",
    "    print('23 + 31: ', solution_23[1] + solution_31[1])\n",
    "    print('31 + 12: ', solution_31[1] + solution_12[1])\n",
    "    if solution_12[1] + solution_23[1] < cost_min:\n",
    "        cost_min = solution_12[1] + solution_23[1]\n",
    "        combo = (solution_12[0], solution_23[0])\n",
    "    if solution_23[1] + solution_31[1] < cost_min:\n",
    "        cost_min = solution_23[1] + solution_31[1]\n",
    "        combo = (solution_23[0], solution_31[0])\n",
    "    if solution_31[1] + solution_12[1] < cost_min:\n",
    "        cost_min = solution_31[1] + solution_12[1]\n",
    "        combo = (solution_31[0], solution_12[0])\n",
    "\n",
    "    # Stitch best combo together\n",
    "    if combo is None:\n",
    "        return solution\n",
    "    if combo[0][-1] == combo[1][0]:\n",
    "        solution = combo[0] + combo[1][1:]\n",
    "    else:\n",
    "        solution = combo[0] + combo[1]\n",
    "    return solution\n",
    "\n",
    "############################################################################\n",
    "\n",
    "def tridirectional_search(graph, goals):\n",
    "    \"\"\"\n",
    "    Implement tridirectional search in the naive way: starting from each goal node, perform a \n",
    "    uniform-cost search and keep expanding until two of the three searches meet. This should \n",
    "    be one continuous path that connects all three nodes\n",
    "    \n",
    "    Exercise 3: Tridirectional UCS Search\n",
    "\n",
    "    See README.MD for exercise description.\n",
    "\n",
    "    Args:\n",
    "        graph (ExplorableGraph): Undirected graph to search.\n",
    "        goals (list): Key values for the 3 goals\n",
    "\n",
    "    Returns:\n",
    "        The best path as a list from one of the goal nodes (including both of\n",
    "        the other goal nodes)\n",
    "        \n",
    "    TODO:\n",
    "        - Can probably use backtrace() instead of bidirectional backtrace\n",
    "        - Define functions for repeated code\n",
    "        - simplify logic\n",
    "    \"\"\"\n",
    "    \n",
    "    # reset explored nodes on the graph object each time we initiate a search\n",
    "    graph.reset_search() # for debugging purposes\n",
    "    print(f\"Total Nodes Explored: {sum(list(graph.explored_nodes().values()))}\")\n",
    "    \n",
    "    # Check if all paths are the same\n",
    "    if len(set(goals)) == 1:\n",
    "        return []\n",
    "\n",
    "    \n",
    "    s1_goal = goals[0]\n",
    "    s2_goal = goals[1]\n",
    "    s3_goal = goals[2]\n",
    "\n",
    "    s1_dist = 0 # Use depth as the entry value for prioritizing nodes --> start --> goal\n",
    "    s2_dist = 0 # Use depth as the entry value for prioritizing nodes --> goal --> start\n",
    "    s3_dist = 0\n",
    "    \n",
    "    s1_visited = []\n",
    "    s2_visited = []\n",
    "    s3_visited = []\n",
    "    \n",
    "    s1_parent = {}\n",
    "    s2_parent = {}\n",
    "    s3_parent = {}\n",
    "    \n",
    "    solution_12 = None\n",
    "    solution_23 = None\n",
    "    solution_31 = None\n",
    "    \n",
    "    s1_queue = PriorityQueue()\n",
    "    s2_queue = PriorityQueue()\n",
    "    s3_queue = PriorityQueue()\n",
    "    \n",
    "    s1_queue.append((s1_dist, goals[0]))\n",
    "    s1_visited.append(goals[0])\n",
    "    \n",
    "    s2_queue.append((s2_dist, goals[1]))\n",
    "    s2_visited.append(goals[1])\n",
    "\n",
    "    s3_queue.append((s3_dist, goals[2]))\n",
    "    s3_visited.append(goals[2])\n",
    "    \n",
    "    s1_size = s1_queue.size()\n",
    "    s2_size = s1_queue.size()\n",
    "    s3_size = s1_queue.size()\n",
    "    \n",
    "    # Loop until we found a solution between all three goals is found\n",
    "    while solution_12 is None or solution_23 is None or solution_31 is None:\n",
    "        \n",
    "        #######################################################################################\n",
    "        # Check for path between Goal 1 and Goal 2\n",
    "        if min(s1_size, s2_size, s3_size) == s1_size and solution_12 is None:\n",
    "            print(f\"Searching Agent #1\")\n",
    "\n",
    "            node = s1_queue.pop()\n",
    "            path_dist = node[0]\n",
    "            print(f\"Forward: Processing Node {node}\")\n",
    "            print(\"--------------------------------\")\n",
    "\n",
    "            # Goal 1 Checl See if intersection occurs between S2 or S3\n",
    "            if node[-1] == s2_goal or node[-1] in s2_visited:\n",
    "#                 print(f\"Goal found or found in opposing search PQ: {node[-1]}\")\n",
    "                \n",
    "                s2_queue_nodes = nodes_in_queue(s2_queue)\n",
    "\n",
    "                # Union of opposite search frontier and explored sets\n",
    "                #TODO: can probably rewrite this\n",
    "                s2_union = set().union(s2_queue_nodes, s2_visited)\n",
    "                \n",
    "                # Find insersection between S2 and explored set of current search\n",
    "                frontier_intersection = list(s2_union.intersection(set(s1_visited)))\n",
    "                \n",
    "                if node[-1] not in frontier_intersection:\n",
    "                    frontier_intersection.append(node[-1])\n",
    "                    \n",
    "                    print(f\"S1 and S2 Searches Intersect\")\n",
    "                    \n",
    "                solution_12 = bidirectional_backtrace(s1_parent, s2_parent, node[-1], s1_goal, s2_goal)\n",
    "                print(f\"Solution_12: {solution_12}\")\n",
    "                \n",
    "                s1_size = float(\"inf\")\n",
    "                \n",
    "            elif node[-1] == s3_goal or node[-1] in s3_visited:\n",
    "#                 print(f\"Goal found or found in opposing search PQ: {node[-1]}\")\n",
    "                \n",
    "                s3_queue_nodes = nodes_in_queue(s3_queue)\n",
    "\n",
    "                # Union of opposite search frontier and explored sets\n",
    "                #TODO: can probably rewrite this\n",
    "                s3_union = set().union(s3_queue_nodes, s3_visited)\n",
    "                \n",
    "                # Find insersection between S2 and explored set of current search\n",
    "                frontier_intersection = list(s3_union.intersection(set(s1_visited)))\n",
    "                \n",
    "                if node[-1] not in frontier_intersection:\n",
    "                    frontier_intersection.append(node[-1])\n",
    "                    \n",
    "                    print(f\"S1 and S3 Searches Intersect\")\n",
    "                    \n",
    "                solution_31 = bidirectional_backtrace(s1_parent, s3_parent, node[-1], s1_goal, s3_goal)\n",
    "                print(f\"Solution_31: {solution_31}\")\n",
    "                s3_size = float(\"inf\")\n",
    "                \n",
    "            if s1_size != float(\"inf\"):\n",
    "                neighbours = sorted(list(graph.neighbors(node[-1])))\n",
    "    #             print(f\"Neighbours {neighbours}\")\n",
    "                for neighbour in neighbours:\n",
    "                    path_dist = graph.get_edge_weight(node[-1], neighbour)\n",
    "    #                 print(f\"Path from {node[-1]} to {neighbour} with path cost {path_dist}\")\n",
    "\n",
    "                    # Compute total distance so far\n",
    "                    new_dist = s1_dist + path_dist\n",
    "                    if neighbour not in s1_visited and not any(elem in neighbours for elem in s1_queue):\n",
    "                        s1_parent[neighbour] = node #(node, path_dist)\n",
    "                        s1_visited.append(neighbour)\n",
    "                        s1_queue.append((new_dist, neighbour))\n",
    "\n",
    "                    # Append node if it is already in the queue but has a lower cost than a previously explored node\n",
    "                    else:\n",
    "                        for frontier_node in s1_queue:\n",
    "                            if frontier_node[-1] == neighbour and new_dist < frontier_node[0]:\n",
    "        #                         print(f\"Frontier node: {frontier_node}\")\n",
    "                                s1_parent[neighbour] = node #(node, path_dist)\n",
    "                                s1_queue.remove(frontier_node)\n",
    "                                s1_queue.append((new_dist, neighbour))\n",
    "                \n",
    "                if s1_size != float(\"inf\"):\n",
    "                    s1_size = s1_queue.size()\n",
    "            \n",
    "            \n",
    "        #######################################################################################\n",
    "        # Check for path between goal 2 and goal 3\n",
    "        if min(s1_size, s2_size, s3_size) == s2_size and solution_23 is None:\n",
    "            print(f\"Searching Agent #2\")\n",
    "            \n",
    "            node = s2_queue.pop()\n",
    "            path_dist = node[0]\n",
    "            \n",
    "            print(f\"Forward: Processing Node {node}\")\n",
    "            print(\"--------------------------------\")\n",
    "\n",
    "            # Goal check for Goal 2: See if inttersection occurs between S2 and S3 or S1\n",
    "            if node[-1] == s1_goal or node[-1] in s1_visited:\n",
    "#                 print(f\"Goal found or found in opposing search PQ: {node[-1]}\")\n",
    "                \n",
    "                s1_queue_nodes = nodes_in_queue(s1_queue)\n",
    "\n",
    "                # Union of opposite search frontier and explored sets\n",
    "                #TODO: can probably rewrite this\n",
    "                s1_union = set().union(s1_queue_nodes, s1_visited)\n",
    "                \n",
    "                # Find insersection between S2 and explored set of current search\n",
    "                frontier_intersection = list(s1_union.intersection(set(s2_visited)))\n",
    "                \n",
    "                if node[-1] not in frontier_intersection:\n",
    "                    frontier_intersection.append(node[-1])\n",
    "                    \n",
    "                    print(f\"S2 and S1 Searches Intersect\")\n",
    "                    \n",
    "                solution_12 = bidirectional_backtrace(s2_parent, s1_parent, node[-1], s2_goal, s1_goal)\n",
    "                print(f\"Solution_12: {solution_12}\")\n",
    "                s1_size = float(\"inf\")\n",
    "                \n",
    "            elif node[-1] == s3_goal or node[-1] in s3_visited:\n",
    "#                 print(f\"Goal found or found in opposing search PQ: {node[-1]}\")\n",
    "                \n",
    "                s3_queue_nodes = nodes_in_queue(s3_queue)\n",
    "\n",
    "                # Union of opposite search frontier and explored sets\n",
    "                #TODO: can probably rewrite this\n",
    "                s3_union = set().union(s3_queue_nodes, s3_visited)\n",
    "                \n",
    "                # Find insersection between S2 and explored set of current search\n",
    "                frontier_intersection = list(s3_union.intersection(set(s2_visited)))\n",
    "                \n",
    "                if node[-1] not in frontier_intersection:\n",
    "                    frontier_intersection.append(node[-1])\n",
    "                    \n",
    "                    print(f\"S2 and S3 Searches Intersect\")\n",
    "                    \n",
    "                solution_23 = bidirectional_backtrace(s2_parent, s3_parent, node[-1], s2_goal, s3_goal)\n",
    "                print(f\"Solution_23: {solution_23}\")\n",
    "                \n",
    "                s3_size = float(\"inf\")\n",
    "                \n",
    "            if s2_size != float(\"inf\"):\n",
    "                neighbours = sorted(list(graph.neighbors(node[-1])))\n",
    "    #             print(f\"Neighbours {neighbours}\")\n",
    "                for neighbour in neighbours:\n",
    "                    path_dist = graph.get_edge_weight(node[-1], neighbour)\n",
    "    #                 print(f\"Path from {node[-1]} to {neighbour} with path cost {path_dist}\")\n",
    "\n",
    "                    # Compute total distance so far\n",
    "                    new_dist = s2_dist + path_dist\n",
    "                    if neighbour not in s2_visited and not any(elem in neighbours for elem in s2_queue):\n",
    "                        s2_parent[neighbour] = node #(node, path_dist)\n",
    "                        s2_visited.append(neighbour)\n",
    "                        s2_queue.append((new_dist, neighbour))\n",
    "\n",
    "                    # Append node if it is already in the queue but has a lower cost than a previously explored node\n",
    "                    else:\n",
    "                        for frontier_node in s2_queue:\n",
    "                            if frontier_node[-1] == neighbour and new_dist < frontier_node[0]:\n",
    "        #                         print(f\"Frontier node: {frontier_node}\")\n",
    "                                s2_parent[neighbour] = node #(node, path_dist)\n",
    "                                s2_queue.remove(frontier_node)\n",
    "                                s2_queue.append((new_dist, neighbour))\n",
    "                \n",
    "                if s2_size != float(\"inf\"):\n",
    "                    s2_size = s1_queue.size()\n",
    "    \n",
    "        #######################################################################################\n",
    "        # Check for path between goal 1 and goal 3\n",
    "        if min(s1_size, s2_size, s3_size) == s3_size and solution_31 is None:\n",
    "\n",
    "            print(f\"Searching Agent #3\")\n",
    "            \n",
    "            node = s3_queue.pop()\n",
    "            path_dist = node[0]\n",
    "            print(f\"Forward: Processing Node {node}\")\n",
    "            print(\"--------------------------------\")\n",
    "\n",
    "            # Goal check for S3. See if intersection occurs between S3 and S1 or S2\n",
    "            if node[-1] == s1_goal or node[-1] in s1_visited:\n",
    "#                 print(f\"Goal found or found in opposing search PQ: {node[-1]}\")\n",
    "                \n",
    "                s1_queue_nodes = nodes_in_queue(s1_queue)\n",
    "\n",
    "                # Union of opposite search frontier and explored sets\n",
    "                #TODO: can probably rewrite this\n",
    "                s1_union = set().union(s1_queue_nodes, s1_visited)\n",
    "                \n",
    "                # Find insersection between S3 and explored set of current search\n",
    "                frontier_intersection = list(s1_union.intersection(set(s3_visited)))\n",
    "                \n",
    "                if node[-1] not in frontier_intersection:\n",
    "                    frontier_intersection.append(node[-1])\n",
    "                    \n",
    "                    print(f\"S3 and S1 Searches Intersect\")\n",
    "                    \n",
    "                solution_31 = bidirectional_backtrace(s3_parent, s1_parent, node[-1], s3_goal, s1_goal)\n",
    "                print(f\"Solution_31: {solution_31}\")\n",
    "                s1_size = float(\"inf\")\n",
    "                \n",
    "            # Goal check to find intersection of S3 and S2\n",
    "            elif node[-1] == s2_goal or node[-1] in s2_visited:\n",
    "#                 print(f\"Goal found or found in opposing search PQ: {node[-1]}\")\n",
    "                \n",
    "                s2_queue_nodes = nodes_in_queue(s2_queue)\n",
    "\n",
    "                # Union of opposite search frontier and explored sets\n",
    "                #TODO: can probably rewrite this\n",
    "                s2_union = set().union(s2_queue_nodes, s2_visited)\n",
    "                \n",
    "                # Find insersection between S2 and explored set of current search\n",
    "                frontier_intersection = list(s2_union.intersection(set(s3_visited)))\n",
    "                \n",
    "                if node[-1] not in frontier_intersection:\n",
    "                    frontier_intersection.append(node[-1])\n",
    "                    \n",
    "                    print(f\"S3 and S2 Searches Intersect\")\n",
    "                    \n",
    "                solution_23 = bidirectional_backtrace(s3_parent, s2_parent, node[-1], s3_goal, s2_goal)\n",
    "                print(f\"Solution_23: {solution_23}\")\n",
    "                s2_size = float(\"inf\")\n",
    "                \n",
    "            if s3_size != float(\"inf\"):\n",
    "                neighbours = sorted(list(graph.neighbors(node[-1])))\n",
    "    #             print(f\"Neighbours {neighbours}\")\n",
    "                for neighbour in neighbours:\n",
    "                    path_dist = graph.get_edge_weight(node[-1], neighbour)\n",
    "    #                 print(f\"Path from {node[-1]} to {neighbour} with path cost {path_dist}\")\n",
    "\n",
    "                    # Compute total distance so far\n",
    "                    new_dist = s3_dist + path_dist\n",
    "                    if neighbour not in s3_visited and not any(elem in neighbours for elem in s3_queue):\n",
    "                        s3_parent[neighbour] = node #(node, path_dist)\n",
    "                        s3_visited.append(neighbour)\n",
    "                        s3_queue.append((new_dist, neighbour))\n",
    "\n",
    "                    # Append node if it is already in the queue but has a lower cost than a previously explored node\n",
    "                    else:\n",
    "                        for frontier_node in s1_queue:\n",
    "                            if frontier_node[-1] == neighbour and new_dist < frontier_node[0]:\n",
    "        #                         print(f\"Frontier node: {frontier_node}\")\n",
    "                                s3_parent[neighbour] = node #(node, path_dist)\n",
    "                                s3_queue.remove(frontier_node)\n",
    "                                s3_queue.append((new_dist, neighbour))\n",
    "                \n",
    "                if s3_size != float(\"inf\"):\n",
    "                    s3_size = s1_queue.size()\n",
    "        \n",
    "    return solution_12, solution_23, solution_31\n",
    "    \n",
    "keys = graph.nodes.keys()\n",
    "triplets = list(itertools.permutations(keys, 3))\n",
    "goals = triplets[0]\n",
    "\n",
    "print(f\"Finding path between Goals: {goals}\")\n",
    "print(tridirectional_search(graph, goals))\n",
    "\n"
   ]
  },
  {
   "cell_type": "code",
   "execution_count": 250,
   "id": "596b3959",
   "metadata": {},
   "outputs": [
    {
     "name": "stdout",
     "output_type": "stream",
     "text": [
      "Total Nodes Explored: 0\n",
      "Searching Agent #1\n",
      "Forward: Processing Node (0, 'a')\n",
      "--------------------------------\n",
      "Searching Agent #2\n",
      "Forward: Processing Node (0, 'z')\n",
      "--------------------------------\n",
      "Solution_12: ['z', 'a']\n",
      "Searching Agent #3\n",
      "Forward: Processing Node (0, 's')\n",
      "--------------------------------\n",
      "Solution_31: ['s', 'a']\n",
      "Searching Agent #2\n",
      "Forward: Processing Node (71, 'o')\n",
      "--------------------------------\n",
      "Solution_23: ['z', 'o', 's']\n"
     ]
    }
   ],
   "source": [
    "def bidirectional_backtrace(start_parent, goal_parent, intersecting_node, start, goal):\n",
    "    \"\"\" Given a dictionary of parent nodes, backtrace from the end node to the start node\n",
    "\n",
    "        Parameters:\n",
    "            start_parent (dict): A dictionary of parent nodes for search originating from the start node\n",
    "            goal_parent (dict): A dictionary of parent nodes for search originating from the goal node\n",
    "            intersection (string): Node where the two searches intersect\n",
    "            start (str): The starting node\n",
    "            end (str): The ending node\n",
    "    \"\"\" \n",
    "    solution = []\n",
    "    forward_cost = 0\n",
    "    reverse_cost = 0\n",
    "    \n",
    "    \n",
    "    # Backtrace Forward search\n",
    "    for_path = [intersecting_node]\n",
    "    \n",
    "    while for_path[-1] != start:\n",
    "        parent_node = start_parent[for_path[-1]]\n",
    "        for_path.append(parent_node[-1])\n",
    "\n",
    "    for_path.reverse()\n",
    "    # Remove extraneous intersecting node from the path since it's included in the reverse search\n",
    "    solution.extend(for_path[:-1])\n",
    "\n",
    "    # Backtrace reverse search\n",
    "    rev_path = [intersecting_node]\n",
    "#     print(f\"Formulating path for goal search. Starting from {rev_path}\")\n",
    "\n",
    "    # While we backtrack through the graph, append the parent node to the path\n",
    "    while rev_path[-1] != goal:\n",
    "        parent_node = goal_parent[rev_path[-1]]\n",
    "        rev_path.append(parent_node[-1])\n",
    "\n",
    "    solution.extend(rev_path)\n",
    "    return solution\n",
    "\n",
    "\n",
    "\n",
    "# def compute_final_tri_star_path(graph, goals, solution_12, solution_23, solution_31):\n",
    "#     \"\"\" Take multiple paths returned from Tridirectional Search and return the best/cost\n",
    "#         optimal path\n",
    "        \n",
    "#         Parameters:\n",
    "#             graph: networkx graph\n",
    "#             goals: Nodes in the graph for which we are finding a path between\n",
    "#             solution_12: Path between goal 1 and 2\n",
    "#             solution_23: Path between goal 2 and 3\n",
    "#             solution_31: Path between goal 3 and 1\n",
    "#     \"\"\"\n",
    "#     solutions = [solution_12, solution_23, solution_31]\n",
    "    \n",
    "#     cost_min = float(\"inf\")\n",
    "#     combo = None\n",
    "    \n",
    "#     for sol in solutions:\n",
    "#         if set(goals).issubset(sol[0]) and sol[1] < cost_min:\n",
    "#             cost_min = sol[1]\n",
    "#             solution = sol[0]\n",
    "    \n",
    "    \n",
    "    \n",
    "#     return\n",
    "\n",
    "solution_12, solution_23, solution_31 = tridirectional_search(graph, goals)\n",
    "# print(compute_final_tri_star_path(goals, solution_12, solution_23, solution_31))"
   ]
  },
  {
   "cell_type": "code",
   "execution_count": null,
   "id": "5534abc3",
   "metadata": {},
   "outputs": [],
   "source": []
  },
  {
   "cell_type": "code",
   "execution_count": null,
   "id": "c9d13c6d",
   "metadata": {},
   "outputs": [],
   "source": []
  },
  {
   "cell_type": "markdown",
   "id": "f624800d",
   "metadata": {},
   "source": [
    "# Visualizations for Search Algorithms"
   ]
  },
  {
   "cell_type": "code",
   "execution_count": null,
   "id": "053a9e7d",
   "metadata": {},
   "outputs": [],
   "source": []
  },
  {
   "cell_type": "code",
   "execution_count": null,
   "id": "eb45e62b",
   "metadata": {},
   "outputs": [],
   "source": []
  },
  {
   "cell_type": "code",
   "execution_count": null,
   "id": "1668b7c2",
   "metadata": {},
   "outputs": [],
   "source": []
  },
  {
   "cell_type": "code",
   "execution_count": null,
   "id": "9b032f6e",
   "metadata": {},
   "outputs": [],
   "source": []
  },
  {
   "cell_type": "code",
   "execution_count": null,
   "id": "bcf5d8ad",
   "metadata": {},
   "outputs": [],
   "source": []
  }
 ],
 "metadata": {
  "kernelspec": {
   "display_name": "Python [conda env:datascience] *",
   "language": "python",
   "name": "conda-env-datascience-py"
  },
  "language_info": {
   "codemirror_mode": {
    "name": "ipython",
    "version": 3
   },
   "file_extension": ".py",
   "mimetype": "text/x-python",
   "name": "python",
   "nbconvert_exporter": "python",
   "pygments_lexer": "ipython3",
   "version": "3.7.7"
  }
 },
 "nbformat": 4,
 "nbformat_minor": 5
}
